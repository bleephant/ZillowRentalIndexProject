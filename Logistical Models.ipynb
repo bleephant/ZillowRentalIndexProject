{
 "cells": [
  {
   "cell_type": "code",
   "execution_count": 1,
   "metadata": {},
   "outputs": [],
   "source": [
    "import numpy as np\n",
    "import pandas as pd\n",
    "from sklearn.linear_model import LinearRegression\n",
    "from sklearn.model_selection import cross_validate\n",
    "from sklearn.metrics import r2_score\n",
    "from sklearn import ensemble\n",
    "from sklearn.model_selection import GridSearchCV\n",
    "%matplotlib inline\n",
    "import matplotlib.pyplot as plt\n",
    "import seaborn as sns"
   ]
  },
  {
   "cell_type": "code",
   "execution_count": 2,
   "metadata": {},
   "outputs": [],
   "source": [
    "df = pd.read_csv('stationary_raw_data.csv')# read in data compiled in Slope Models"
   ]
  },
  {
   "cell_type": "code",
   "execution_count": 3,
   "metadata": {},
   "outputs": [
    {
     "data": {
      "text/html": [
       "<div>\n",
       "<style scoped>\n",
       "    .dataframe tbody tr th:only-of-type {\n",
       "        vertical-align: middle;\n",
       "    }\n",
       "\n",
       "    .dataframe tbody tr th {\n",
       "        vertical-align: top;\n",
       "    }\n",
       "\n",
       "    .dataframe thead th {\n",
       "        text-align: right;\n",
       "    }\n",
       "</style>\n",
       "<table border=\"1\" class=\"dataframe\">\n",
       "  <thead>\n",
       "    <tr style=\"text-align: right;\">\n",
       "      <th></th>\n",
       "      <th>ZipCode</th>\n",
       "      <th>County</th>\n",
       "      <th>State</th>\n",
       "      <th>ZORI</th>\n",
       "      <th>Year</th>\n",
       "      <th>Month</th>\n",
       "      <th>ZHVI</th>\n",
       "      <th>HPI</th>\n",
       "      <th>AQI</th>\n",
       "      <th>Population</th>\n",
       "      <th>Unemployment</th>\n",
       "      <th>Percent Bachelors</th>\n",
       "      <th>Permits</th>\n",
       "      <th>Total_Households</th>\n",
       "      <th>Med_Income</th>\n",
       "      <th>PCE</th>\n",
       "      <th>Rental Vacancy Rate</th>\n",
       "      <th>Job Openings</th>\n",
       "      <th>CommuteTime</th>\n",
       "      <th>Salwrkr</th>\n",
       "      <th>Govwrkr</th>\n",
       "      <th>GRAPI</th>\n",
       "      <th>Gini_Index</th>\n",
       "      <th>P_Density</th>\n",
       "    </tr>\n",
       "  </thead>\n",
       "  <tbody>\n",
       "    <tr>\n",
       "      <th>0</th>\n",
       "      <td>10025</td>\n",
       "      <td>New York</td>\n",
       "      <td>NY</td>\n",
       "      <td>3020.0</td>\n",
       "      <td>2014</td>\n",
       "      <td>2</td>\n",
       "      <td>1056185.0</td>\n",
       "      <td>NaN</td>\n",
       "      <td>62.107143</td>\n",
       "      <td>1636268.0</td>\n",
       "      <td>7.1</td>\n",
       "      <td>31.2</td>\n",
       "      <td>1458.0</td>\n",
       "      <td>762228.0</td>\n",
       "      <td>76089.0</td>\n",
       "      <td>1.455676</td>\n",
       "      <td>4.5</td>\n",
       "      <td>212.0</td>\n",
       "      <td>31.3</td>\n",
       "      <td>84.1</td>\n",
       "      <td>8.3</td>\n",
       "      <td>734.7</td>\n",
       "      <td>0.5939</td>\n",
       "      <td>48582.779097</td>\n",
       "    </tr>\n",
       "    <tr>\n",
       "      <th>1</th>\n",
       "      <td>60657</td>\n",
       "      <td>Cook</td>\n",
       "      <td>IL</td>\n",
       "      <td>1583.0</td>\n",
       "      <td>2014</td>\n",
       "      <td>2</td>\n",
       "      <td>441010.0</td>\n",
       "      <td>158.76</td>\n",
       "      <td>59.571429</td>\n",
       "      <td>5246456.0</td>\n",
       "      <td>9.1</td>\n",
       "      <td>21.8</td>\n",
       "      <td>269.0</td>\n",
       "      <td>1938055.0</td>\n",
       "      <td>55069.0</td>\n",
       "      <td>1.455676</td>\n",
       "      <td>6.7</td>\n",
       "      <td>154.0</td>\n",
       "      <td>32.8</td>\n",
       "      <td>84.1</td>\n",
       "      <td>11.3</td>\n",
       "      <td>1440.3</td>\n",
       "      <td>0.4982</td>\n",
       "      <td>3209.057490</td>\n",
       "    </tr>\n",
       "    <tr>\n",
       "      <th>2</th>\n",
       "      <td>10023</td>\n",
       "      <td>New York</td>\n",
       "      <td>NY</td>\n",
       "      <td>3145.0</td>\n",
       "      <td>2014</td>\n",
       "      <td>2</td>\n",
       "      <td>1015651.0</td>\n",
       "      <td>NaN</td>\n",
       "      <td>62.107143</td>\n",
       "      <td>1636268.0</td>\n",
       "      <td>7.1</td>\n",
       "      <td>31.2</td>\n",
       "      <td>1458.0</td>\n",
       "      <td>762228.0</td>\n",
       "      <td>76089.0</td>\n",
       "      <td>1.455676</td>\n",
       "      <td>4.5</td>\n",
       "      <td>212.0</td>\n",
       "      <td>31.3</td>\n",
       "      <td>84.1</td>\n",
       "      <td>8.3</td>\n",
       "      <td>734.7</td>\n",
       "      <td>0.5939</td>\n",
       "      <td>48582.779097</td>\n",
       "    </tr>\n",
       "    <tr>\n",
       "      <th>3</th>\n",
       "      <td>77494</td>\n",
       "      <td>Fort Bend</td>\n",
       "      <td>TX</td>\n",
       "      <td>1746.0</td>\n",
       "      <td>2014</td>\n",
       "      <td>2</td>\n",
       "      <td>311407.0</td>\n",
       "      <td>154.29</td>\n",
       "      <td>NaN</td>\n",
       "      <td>685345.0</td>\n",
       "      <td>4.9</td>\n",
       "      <td>28.3</td>\n",
       "      <td>4368.0</td>\n",
       "      <td>214215.0</td>\n",
       "      <td>87973.0</td>\n",
       "      <td>1.455676</td>\n",
       "      <td>6.5</td>\n",
       "      <td>374.0</td>\n",
       "      <td>32.3</td>\n",
       "      <td>81.8</td>\n",
       "      <td>12.4</td>\n",
       "      <td>48.8</td>\n",
       "      <td>0.4318</td>\n",
       "      <td>773.431064</td>\n",
       "    </tr>\n",
       "    <tr>\n",
       "      <th>4</th>\n",
       "      <td>60614</td>\n",
       "      <td>Cook</td>\n",
       "      <td>IL</td>\n",
       "      <td>1752.0</td>\n",
       "      <td>2014</td>\n",
       "      <td>2</td>\n",
       "      <td>564138.0</td>\n",
       "      <td>146.37</td>\n",
       "      <td>59.571429</td>\n",
       "      <td>5246456.0</td>\n",
       "      <td>9.1</td>\n",
       "      <td>21.8</td>\n",
       "      <td>269.0</td>\n",
       "      <td>1938055.0</td>\n",
       "      <td>55069.0</td>\n",
       "      <td>1.455676</td>\n",
       "      <td>6.7</td>\n",
       "      <td>154.0</td>\n",
       "      <td>32.8</td>\n",
       "      <td>84.1</td>\n",
       "      <td>11.3</td>\n",
       "      <td>1440.3</td>\n",
       "      <td>0.4982</td>\n",
       "      <td>3209.057490</td>\n",
       "    </tr>\n",
       "  </tbody>\n",
       "</table>\n",
       "</div>"
      ],
      "text/plain": [
       "   ZipCode     County State    ZORI  Year  Month       ZHVI     HPI  \\\n",
       "0    10025   New York    NY  3020.0  2014      2  1056185.0     NaN   \n",
       "1    60657       Cook    IL  1583.0  2014      2   441010.0  158.76   \n",
       "2    10023   New York    NY  3145.0  2014      2  1015651.0     NaN   \n",
       "3    77494  Fort Bend    TX  1746.0  2014      2   311407.0  154.29   \n",
       "4    60614       Cook    IL  1752.0  2014      2   564138.0  146.37   \n",
       "\n",
       "         AQI  Population  Unemployment  Percent Bachelors  Permits  \\\n",
       "0  62.107143   1636268.0           7.1               31.2   1458.0   \n",
       "1  59.571429   5246456.0           9.1               21.8    269.0   \n",
       "2  62.107143   1636268.0           7.1               31.2   1458.0   \n",
       "3        NaN    685345.0           4.9               28.3   4368.0   \n",
       "4  59.571429   5246456.0           9.1               21.8    269.0   \n",
       "\n",
       "   Total_Households  Med_Income       PCE  Rental Vacancy Rate  Job Openings  \\\n",
       "0          762228.0     76089.0  1.455676                  4.5         212.0   \n",
       "1         1938055.0     55069.0  1.455676                  6.7         154.0   \n",
       "2          762228.0     76089.0  1.455676                  4.5         212.0   \n",
       "3          214215.0     87973.0  1.455676                  6.5         374.0   \n",
       "4         1938055.0     55069.0  1.455676                  6.7         154.0   \n",
       "\n",
       "   CommuteTime  Salwrkr  Govwrkr   GRAPI  Gini_Index     P_Density  \n",
       "0         31.3     84.1      8.3   734.7      0.5939  48582.779097  \n",
       "1         32.8     84.1     11.3  1440.3      0.4982   3209.057490  \n",
       "2         31.3     84.1      8.3   734.7      0.5939  48582.779097  \n",
       "3         32.3     81.8     12.4    48.8      0.4318    773.431064  \n",
       "4         32.8     84.1     11.3  1440.3      0.4982   3209.057490  "
      ]
     },
     "execution_count": 3,
     "metadata": {},
     "output_type": "execute_result"
    }
   ],
   "source": [
    "pd.options.display.max_columns = None\n",
    "df.head()"
   ]
  },
  {
   "cell_type": "markdown",
   "metadata": {},
   "source": [
    "# County level data collection"
   ]
  },
  {
   "cell_type": "code",
   "execution_count": 4,
   "metadata": {},
   "outputs": [],
   "source": [
    "count_area = pd.read_csv('land_area.csv')"
   ]
  },
  {
   "cell_type": "code",
   "execution_count": 5,
   "metadata": {},
   "outputs": [
    {
     "data": {
      "text/html": [
       "<div>\n",
       "<style scoped>\n",
       "    .dataframe tbody tr th:only-of-type {\n",
       "        vertical-align: middle;\n",
       "    }\n",
       "\n",
       "    .dataframe tbody tr th {\n",
       "        vertical-align: top;\n",
       "    }\n",
       "\n",
       "    .dataframe thead th {\n",
       "        text-align: right;\n",
       "    }\n",
       "</style>\n",
       "<table border=\"1\" class=\"dataframe\">\n",
       "  <thead>\n",
       "    <tr style=\"text-align: right;\">\n",
       "      <th></th>\n",
       "      <th>State</th>\n",
       "      <th>County</th>\n",
       "      <th>Area</th>\n",
       "    </tr>\n",
       "  </thead>\n",
       "  <tbody>\n",
       "    <tr>\n",
       "      <th>0</th>\n",
       "      <td>AL</td>\n",
       "      <td>Autauga</td>\n",
       "      <td>604.49</td>\n",
       "    </tr>\n",
       "    <tr>\n",
       "      <th>1</th>\n",
       "      <td>AL</td>\n",
       "      <td>Baldwin</td>\n",
       "      <td>2027.08</td>\n",
       "    </tr>\n",
       "    <tr>\n",
       "      <th>2</th>\n",
       "      <td>AL</td>\n",
       "      <td>Barbour</td>\n",
       "      <td>904.59</td>\n",
       "    </tr>\n",
       "    <tr>\n",
       "      <th>3</th>\n",
       "      <td>AL</td>\n",
       "      <td>Bibb</td>\n",
       "      <td>625.50</td>\n",
       "    </tr>\n",
       "    <tr>\n",
       "      <th>4</th>\n",
       "      <td>AL</td>\n",
       "      <td>Blount</td>\n",
       "      <td>650.65</td>\n",
       "    </tr>\n",
       "  </tbody>\n",
       "</table>\n",
       "</div>"
      ],
      "text/plain": [
       "  State   County     Area\n",
       "0    AL  Autauga   604.49\n",
       "1    AL  Baldwin  2027.08\n",
       "2    AL  Barbour   904.59\n",
       "3    AL     Bibb   625.50\n",
       "4    AL   Blount   650.65"
      ]
     },
     "execution_count": 5,
     "metadata": {},
     "output_type": "execute_result"
    }
   ],
   "source": [
    "count_area.head()"
   ]
  },
  {
   "cell_type": "code",
   "execution_count": 6,
   "metadata": {},
   "outputs": [],
   "source": [
    "count_area['State']=count_area['State'].apply(lambda x: x.replace(' ',''))"
   ]
  },
  {
   "cell_type": "code",
   "execution_count": 7,
   "metadata": {},
   "outputs": [],
   "source": [
    "df_county = df.groupby(['County','State','Year','Month']).median().reset_index()"
   ]
  },
  {
   "cell_type": "code",
   "execution_count": 8,
   "metadata": {},
   "outputs": [],
   "source": [
    "df_county = pd.merge(df_county, count_area[['State','County','Area']], on = ['State', 'County'], how = 'left')"
   ]
  },
  {
   "cell_type": "code",
   "execution_count": 9,
   "metadata": {},
   "outputs": [
    {
     "data": {
      "text/html": [
       "<div>\n",
       "<style scoped>\n",
       "    .dataframe tbody tr th:only-of-type {\n",
       "        vertical-align: middle;\n",
       "    }\n",
       "\n",
       "    .dataframe tbody tr th {\n",
       "        vertical-align: top;\n",
       "    }\n",
       "\n",
       "    .dataframe thead th {\n",
       "        text-align: right;\n",
       "    }\n",
       "</style>\n",
       "<table border=\"1\" class=\"dataframe\">\n",
       "  <thead>\n",
       "    <tr style=\"text-align: right;\">\n",
       "      <th></th>\n",
       "      <th>County</th>\n",
       "      <th>State</th>\n",
       "      <th>Year</th>\n",
       "      <th>Month</th>\n",
       "      <th>ZipCode</th>\n",
       "      <th>ZORI</th>\n",
       "      <th>ZHVI</th>\n",
       "      <th>HPI</th>\n",
       "      <th>AQI</th>\n",
       "      <th>Population</th>\n",
       "      <th>Unemployment</th>\n",
       "      <th>Percent Bachelors</th>\n",
       "      <th>Permits</th>\n",
       "      <th>Total_Households</th>\n",
       "      <th>Med_Income</th>\n",
       "      <th>PCE</th>\n",
       "      <th>Rental Vacancy Rate</th>\n",
       "      <th>Job Openings</th>\n",
       "      <th>CommuteTime</th>\n",
       "      <th>Salwrkr</th>\n",
       "      <th>Govwrkr</th>\n",
       "      <th>GRAPI</th>\n",
       "      <th>Gini_Index</th>\n",
       "      <th>P_Density</th>\n",
       "      <th>Area</th>\n",
       "    </tr>\n",
       "  </thead>\n",
       "  <tbody>\n",
       "    <tr>\n",
       "      <th>0</th>\n",
       "      <td>Ada</td>\n",
       "      <td>ID</td>\n",
       "      <td>2014</td>\n",
       "      <td>2</td>\n",
       "      <td>83705.5</td>\n",
       "      <td>953.0</td>\n",
       "      <td>198621.0</td>\n",
       "      <td>137.18</td>\n",
       "      <td>33.035714</td>\n",
       "      <td>426236.0</td>\n",
       "      <td>4.9</td>\n",
       "      <td>23.6</td>\n",
       "      <td>190.0</td>\n",
       "      <td>159896.0</td>\n",
       "      <td>57716.0</td>\n",
       "      <td>1.455676</td>\n",
       "      <td>3.1</td>\n",
       "      <td>23.0</td>\n",
       "      <td>20.4</td>\n",
       "      <td>78.1</td>\n",
       "      <td>15.3</td>\n",
       "      <td>84.4</td>\n",
       "      <td>0.4603</td>\n",
       "      <td>401.965333</td>\n",
       "      <td>1060.38</td>\n",
       "    </tr>\n",
       "    <tr>\n",
       "      <th>1</th>\n",
       "      <td>Ada</td>\n",
       "      <td>ID</td>\n",
       "      <td>2014</td>\n",
       "      <td>3</td>\n",
       "      <td>83705.5</td>\n",
       "      <td>956.0</td>\n",
       "      <td>198360.0</td>\n",
       "      <td>137.18</td>\n",
       "      <td>35.677419</td>\n",
       "      <td>426236.0</td>\n",
       "      <td>4.7</td>\n",
       "      <td>23.6</td>\n",
       "      <td>268.0</td>\n",
       "      <td>159896.0</td>\n",
       "      <td>57716.0</td>\n",
       "      <td>1.553287</td>\n",
       "      <td>3.1</td>\n",
       "      <td>24.0</td>\n",
       "      <td>20.4</td>\n",
       "      <td>78.1</td>\n",
       "      <td>15.3</td>\n",
       "      <td>84.4</td>\n",
       "      <td>0.4603</td>\n",
       "      <td>401.965333</td>\n",
       "      <td>1060.38</td>\n",
       "    </tr>\n",
       "    <tr>\n",
       "      <th>2</th>\n",
       "      <td>Ada</td>\n",
       "      <td>ID</td>\n",
       "      <td>2014</td>\n",
       "      <td>4</td>\n",
       "      <td>83705.5</td>\n",
       "      <td>975.5</td>\n",
       "      <td>198971.0</td>\n",
       "      <td>137.18</td>\n",
       "      <td>44.666667</td>\n",
       "      <td>426236.0</td>\n",
       "      <td>4.2</td>\n",
       "      <td>23.6</td>\n",
       "      <td>193.0</td>\n",
       "      <td>159896.0</td>\n",
       "      <td>57716.0</td>\n",
       "      <td>1.649862</td>\n",
       "      <td>3.1</td>\n",
       "      <td>27.0</td>\n",
       "      <td>20.4</td>\n",
       "      <td>78.1</td>\n",
       "      <td>15.3</td>\n",
       "      <td>84.4</td>\n",
       "      <td>0.4603</td>\n",
       "      <td>401.965333</td>\n",
       "      <td>1060.38</td>\n",
       "    </tr>\n",
       "    <tr>\n",
       "      <th>3</th>\n",
       "      <td>Ada</td>\n",
       "      <td>ID</td>\n",
       "      <td>2014</td>\n",
       "      <td>5</td>\n",
       "      <td>83705.5</td>\n",
       "      <td>962.0</td>\n",
       "      <td>198465.0</td>\n",
       "      <td>137.18</td>\n",
       "      <td>47.516129</td>\n",
       "      <td>426236.0</td>\n",
       "      <td>4.0</td>\n",
       "      <td>23.6</td>\n",
       "      <td>245.0</td>\n",
       "      <td>159896.0</td>\n",
       "      <td>57716.0</td>\n",
       "      <td>1.710313</td>\n",
       "      <td>3.1</td>\n",
       "      <td>29.0</td>\n",
       "      <td>20.4</td>\n",
       "      <td>78.1</td>\n",
       "      <td>15.3</td>\n",
       "      <td>84.4</td>\n",
       "      <td>0.4603</td>\n",
       "      <td>401.965333</td>\n",
       "      <td>1060.38</td>\n",
       "    </tr>\n",
       "    <tr>\n",
       "      <th>4</th>\n",
       "      <td>Ada</td>\n",
       "      <td>ID</td>\n",
       "      <td>2014</td>\n",
       "      <td>6</td>\n",
       "      <td>83705.5</td>\n",
       "      <td>964.0</td>\n",
       "      <td>198600.5</td>\n",
       "      <td>137.18</td>\n",
       "      <td>47.800000</td>\n",
       "      <td>426236.0</td>\n",
       "      <td>4.1</td>\n",
       "      <td>23.6</td>\n",
       "      <td>117.0</td>\n",
       "      <td>159896.0</td>\n",
       "      <td>57716.0</td>\n",
       "      <td>1.652257</td>\n",
       "      <td>3.1</td>\n",
       "      <td>32.0</td>\n",
       "      <td>20.4</td>\n",
       "      <td>78.1</td>\n",
       "      <td>15.3</td>\n",
       "      <td>84.4</td>\n",
       "      <td>0.4603</td>\n",
       "      <td>401.965333</td>\n",
       "      <td>1060.38</td>\n",
       "    </tr>\n",
       "  </tbody>\n",
       "</table>\n",
       "</div>"
      ],
      "text/plain": [
       "  County State  Year  Month  ZipCode   ZORI      ZHVI     HPI        AQI  \\\n",
       "0    Ada    ID  2014      2  83705.5  953.0  198621.0  137.18  33.035714   \n",
       "1    Ada    ID  2014      3  83705.5  956.0  198360.0  137.18  35.677419   \n",
       "2    Ada    ID  2014      4  83705.5  975.5  198971.0  137.18  44.666667   \n",
       "3    Ada    ID  2014      5  83705.5  962.0  198465.0  137.18  47.516129   \n",
       "4    Ada    ID  2014      6  83705.5  964.0  198600.5  137.18  47.800000   \n",
       "\n",
       "   Population  Unemployment  Percent Bachelors  Permits  Total_Households  \\\n",
       "0    426236.0           4.9               23.6    190.0          159896.0   \n",
       "1    426236.0           4.7               23.6    268.0          159896.0   \n",
       "2    426236.0           4.2               23.6    193.0          159896.0   \n",
       "3    426236.0           4.0               23.6    245.0          159896.0   \n",
       "4    426236.0           4.1               23.6    117.0          159896.0   \n",
       "\n",
       "   Med_Income       PCE  Rental Vacancy Rate  Job Openings  CommuteTime  \\\n",
       "0     57716.0  1.455676                  3.1          23.0         20.4   \n",
       "1     57716.0  1.553287                  3.1          24.0         20.4   \n",
       "2     57716.0  1.649862                  3.1          27.0         20.4   \n",
       "3     57716.0  1.710313                  3.1          29.0         20.4   \n",
       "4     57716.0  1.652257                  3.1          32.0         20.4   \n",
       "\n",
       "   Salwrkr  Govwrkr  GRAPI  Gini_Index   P_Density     Area  \n",
       "0     78.1     15.3   84.4      0.4603  401.965333  1060.38  \n",
       "1     78.1     15.3   84.4      0.4603  401.965333  1060.38  \n",
       "2     78.1     15.3   84.4      0.4603  401.965333  1060.38  \n",
       "3     78.1     15.3   84.4      0.4603  401.965333  1060.38  \n",
       "4     78.1     15.3   84.4      0.4603  401.965333  1060.38  "
      ]
     },
     "execution_count": 9,
     "metadata": {},
     "output_type": "execute_result"
    }
   ],
   "source": [
    "#county based dataframe\n",
    "df_county.head()"
   ]
  },
  {
   "cell_type": "code",
   "execution_count": 10,
   "metadata": {},
   "outputs": [],
   "source": [
    "df_county['State_County'] = df_county['State'] + '_' + df_county['County']"
   ]
  },
  {
   "cell_type": "code",
   "execution_count": 11,
   "metadata": {},
   "outputs": [],
   "source": [
    "df_county['day']=15\n",
    "df_county['date'] = pd.to_datetime(df_county[['Year','Month','day']])"
   ]
  },
  {
   "cell_type": "code",
   "execution_count": 12,
   "metadata": {},
   "outputs": [
    {
     "data": {
      "text/plain": [
       "25040"
      ]
     },
     "execution_count": 12,
     "metadata": {},
     "output_type": "execute_result"
    }
   ],
   "source": [
    "# calculate gradient of ZORI wrt year for each county\n",
    "allzc = df_county.ZipCode.unique()\n",
    "ZORI_grads = []\n",
    "for code in allzc:\n",
    "    ZORI_grads.append(np.gradient(df_county[df_county['ZipCode']==code]['ZORI']))\n",
    "z_grad = [item for sublist in ZORI_grads for item in sublist]\n",
    "len(z_grad)"
   ]
  },
  {
   "cell_type": "code",
   "execution_count": 13,
   "metadata": {},
   "outputs": [
    {
     "data": {
      "text/plain": [
       "(25040, 28)"
      ]
     },
     "execution_count": 13,
     "metadata": {},
     "output_type": "execute_result"
    }
   ],
   "source": [
    "df_county.shape"
   ]
  },
  {
   "cell_type": "code",
   "execution_count": 14,
   "metadata": {},
   "outputs": [],
   "source": [
    "slope_df = pd.DataFrame({'Grad':z_grad})"
   ]
  },
  {
   "cell_type": "code",
   "execution_count": 15,
   "metadata": {},
   "outputs": [],
   "source": [
    "df_grad = pd.concat([df_county, slope_df], axis=1 )"
   ]
  },
  {
   "cell_type": "code",
   "execution_count": 26,
   "metadata": {},
   "outputs": [],
   "source": [
    "# create categorical feature for gradient in 2020\n",
    "df_grad_sub = df_grad[df_grad['Year']>2019].groupby('State_County')['Grad'].min().reset_index()\n",
    "df_grad_sub['covid_drop']=df_grad_sub['Grad'].apply(lambda x: 'Increase' if x>1 else 'Decrease' if x<-1 else 'Flat')"
   ]
  },
  {
   "cell_type": "code",
   "execution_count": 27,
   "metadata": {},
   "outputs": [],
   "source": [
    "df_pop_sub = df_grad.groupby('State_County')[['Population', 'Area']].mean().reset_index()"
   ]
  },
  {
   "cell_type": "code",
   "execution_count": 28,
   "metadata": {},
   "outputs": [],
   "source": [
    "df_all = pd.merge(df_pop_sub, df_grad_sub, on = ['State_County'], how = 'left')"
   ]
  },
  {
   "cell_type": "code",
   "execution_count": 29,
   "metadata": {},
   "outputs": [
    {
     "data": {
      "text/html": [
       "<div>\n",
       "<style scoped>\n",
       "    .dataframe tbody tr th:only-of-type {\n",
       "        vertical-align: middle;\n",
       "    }\n",
       "\n",
       "    .dataframe tbody tr th {\n",
       "        vertical-align: top;\n",
       "    }\n",
       "\n",
       "    .dataframe thead th {\n",
       "        text-align: right;\n",
       "    }\n",
       "</style>\n",
       "<table border=\"1\" class=\"dataframe\">\n",
       "  <thead>\n",
       "    <tr style=\"text-align: right;\">\n",
       "      <th></th>\n",
       "      <th>State_County</th>\n",
       "      <th>Population</th>\n",
       "      <th>Area</th>\n",
       "      <th>Grad</th>\n",
       "      <th>covid_drop</th>\n",
       "    </tr>\n",
       "  </thead>\n",
       "  <tbody>\n",
       "    <tr>\n",
       "      <th>0</th>\n",
       "      <td>AL_Jefferson</td>\n",
       "      <td>6.596087e+05</td>\n",
       "      <td>1123.87</td>\n",
       "      <td>-1.50</td>\n",
       "      <td>Decrease</td>\n",
       "    </tr>\n",
       "    <tr>\n",
       "      <th>1</th>\n",
       "      <td>AL_Shelby</td>\n",
       "      <td>2.122450e+05</td>\n",
       "      <td>809.60</td>\n",
       "      <td>3.50</td>\n",
       "      <td>Increase</td>\n",
       "    </tr>\n",
       "    <tr>\n",
       "      <th>2</th>\n",
       "      <td>AR_Pulaski</td>\n",
       "      <td>3.928627e+05</td>\n",
       "      <td>807.91</td>\n",
       "      <td>3.00</td>\n",
       "      <td>Increase</td>\n",
       "    </tr>\n",
       "    <tr>\n",
       "      <th>3</th>\n",
       "      <td>AZ_Cochise</td>\n",
       "      <td>1.261643e+05</td>\n",
       "      <td>6219.32</td>\n",
       "      <td>-38.75</td>\n",
       "      <td>Decrease</td>\n",
       "    </tr>\n",
       "    <tr>\n",
       "      <th>4</th>\n",
       "      <td>AZ_Maricopa</td>\n",
       "      <td>4.286334e+06</td>\n",
       "      <td>9224.86</td>\n",
       "      <td>2.50</td>\n",
       "      <td>Increase</td>\n",
       "    </tr>\n",
       "    <tr>\n",
       "      <th>...</th>\n",
       "      <td>...</td>\n",
       "      <td>...</td>\n",
       "      <td>...</td>\n",
       "      <td>...</td>\n",
       "      <td>...</td>\n",
       "    </tr>\n",
       "    <tr>\n",
       "      <th>307</th>\n",
       "      <td>WA_Snohomish</td>\n",
       "      <td>7.935249e+05</td>\n",
       "      <td>2196.53</td>\n",
       "      <td>-4.00</td>\n",
       "      <td>Decrease</td>\n",
       "    </tr>\n",
       "    <tr>\n",
       "      <th>308</th>\n",
       "      <td>WA_Spokane</td>\n",
       "      <td>5.032489e+05</td>\n",
       "      <td>1780.82</td>\n",
       "      <td>-14.75</td>\n",
       "      <td>Decrease</td>\n",
       "    </tr>\n",
       "    <tr>\n",
       "      <th>309</th>\n",
       "      <td>WI_Dane</td>\n",
       "      <td>5.330115e+05</td>\n",
       "      <td>1238.43</td>\n",
       "      <td>-11.50</td>\n",
       "      <td>Decrease</td>\n",
       "    </tr>\n",
       "    <tr>\n",
       "      <th>310</th>\n",
       "      <td>WI_Kenosha</td>\n",
       "      <td>1.686852e+05</td>\n",
       "      <td>754.36</td>\n",
       "      <td>2.00</td>\n",
       "      <td>Increase</td>\n",
       "    </tr>\n",
       "    <tr>\n",
       "      <th>311</th>\n",
       "      <td>WI_Milwaukee</td>\n",
       "      <td>9.518705e+05</td>\n",
       "      <td>1189.80</td>\n",
       "      <td>0.00</td>\n",
       "      <td>Flat</td>\n",
       "    </tr>\n",
       "  </tbody>\n",
       "</table>\n",
       "<p>312 rows × 5 columns</p>\n",
       "</div>"
      ],
      "text/plain": [
       "     State_County    Population     Area   Grad covid_drop\n",
       "0    AL_Jefferson  6.596087e+05  1123.87  -1.50   Decrease\n",
       "1       AL_Shelby  2.122450e+05   809.60   3.50   Increase\n",
       "2      AR_Pulaski  3.928627e+05   807.91   3.00   Increase\n",
       "3      AZ_Cochise  1.261643e+05  6219.32 -38.75   Decrease\n",
       "4     AZ_Maricopa  4.286334e+06  9224.86   2.50   Increase\n",
       "..            ...           ...      ...    ...        ...\n",
       "307  WA_Snohomish  7.935249e+05  2196.53  -4.00   Decrease\n",
       "308    WA_Spokane  5.032489e+05  1780.82 -14.75   Decrease\n",
       "309       WI_Dane  5.330115e+05  1238.43 -11.50   Decrease\n",
       "310    WI_Kenosha  1.686852e+05   754.36   2.00   Increase\n",
       "311  WI_Milwaukee  9.518705e+05  1189.80   0.00       Flat\n",
       "\n",
       "[312 rows x 5 columns]"
      ]
     },
     "execution_count": 29,
     "metadata": {},
     "output_type": "execute_result"
    }
   ],
   "source": [
    "df_all"
   ]
  },
  {
   "cell_type": "code",
   "execution_count": 30,
   "metadata": {},
   "outputs": [
    {
     "data": {
      "text/plain": [
       "<matplotlib.legend.Legend at 0x1a1da37e10>"
      ]
     },
     "execution_count": 30,
     "metadata": {},
     "output_type": "execute_result"
    },
    {
     "data": {
      "image/png": "[encoded data removed]",
      "text/plain": [
       "<Figure size 432x288 with 1 Axes>"
      ]
     },
     "metadata": {
      "needs_background": "light"
     },
     "output_type": "display_data"
    }
   ],
   "source": [
    "#County level EDA\n",
    "pp = sns.scatterplot(data=df_all, x='Population', y='Area', hue='covid_drop')\n",
    "pp.set(ylim=(0, 3000), xlim=(0,1.8e6), ylabel=('Area (sq. mi)'))\n",
    "pp.legend(loc='upper right')"
   ]
  },
  {
   "cell_type": "markdown",
   "metadata": {},
   "source": [
    "# Zip Code Level Models"
   ]
  },
  {
   "cell_type": "code",
   "execution_count": 39,
   "metadata": {},
   "outputs": [],
   "source": [
    "# read in clean data set to try fits at Zip Code level\n",
    "df = pd.read_csv('stationary_raw_data.csv')"
   ]
  },
  {
   "cell_type": "code",
   "execution_count": 40,
   "metadata": {},
   "outputs": [
    {
     "data": {
      "text/html": [
       "<div>\n",
       "<style scoped>\n",
       "    .dataframe tbody tr th:only-of-type {\n",
       "        vertical-align: middle;\n",
       "    }\n",
       "\n",
       "    .dataframe tbody tr th {\n",
       "        vertical-align: top;\n",
       "    }\n",
       "\n",
       "    .dataframe thead th {\n",
       "        text-align: right;\n",
       "    }\n",
       "</style>\n",
       "<table border=\"1\" class=\"dataframe\">\n",
       "  <thead>\n",
       "    <tr style=\"text-align: right;\">\n",
       "      <th></th>\n",
       "      <th>ZipCode</th>\n",
       "      <th>County</th>\n",
       "      <th>State</th>\n",
       "      <th>ZORI</th>\n",
       "      <th>Year</th>\n",
       "      <th>Month</th>\n",
       "      <th>ZHVI</th>\n",
       "      <th>HPI</th>\n",
       "      <th>AQI</th>\n",
       "      <th>Population</th>\n",
       "      <th>Unemployment</th>\n",
       "      <th>Percent Bachelors</th>\n",
       "      <th>Permits</th>\n",
       "      <th>Total_Households</th>\n",
       "      <th>Med_Income</th>\n",
       "      <th>PCE</th>\n",
       "      <th>Rental Vacancy Rate</th>\n",
       "      <th>Job Openings</th>\n",
       "      <th>CommuteTime</th>\n",
       "      <th>Salwrkr</th>\n",
       "      <th>Govwrkr</th>\n",
       "      <th>GRAPI</th>\n",
       "      <th>Gini_Index</th>\n",
       "      <th>P_Density</th>\n",
       "    </tr>\n",
       "  </thead>\n",
       "  <tbody>\n",
       "    <tr>\n",
       "      <th>0</th>\n",
       "      <td>10025</td>\n",
       "      <td>New York</td>\n",
       "      <td>NY</td>\n",
       "      <td>3020.0</td>\n",
       "      <td>2014</td>\n",
       "      <td>2</td>\n",
       "      <td>1056185.0</td>\n",
       "      <td>NaN</td>\n",
       "      <td>62.107143</td>\n",
       "      <td>1636268.0</td>\n",
       "      <td>7.1</td>\n",
       "      <td>31.2</td>\n",
       "      <td>1458.0</td>\n",
       "      <td>762228.0</td>\n",
       "      <td>76089.0</td>\n",
       "      <td>1.455676</td>\n",
       "      <td>4.5</td>\n",
       "      <td>212.0</td>\n",
       "      <td>31.3</td>\n",
       "      <td>84.1</td>\n",
       "      <td>8.3</td>\n",
       "      <td>734.7</td>\n",
       "      <td>0.5939</td>\n",
       "      <td>48582.779097</td>\n",
       "    </tr>\n",
       "    <tr>\n",
       "      <th>1</th>\n",
       "      <td>60657</td>\n",
       "      <td>Cook</td>\n",
       "      <td>IL</td>\n",
       "      <td>1583.0</td>\n",
       "      <td>2014</td>\n",
       "      <td>2</td>\n",
       "      <td>441010.0</td>\n",
       "      <td>158.76</td>\n",
       "      <td>59.571429</td>\n",
       "      <td>5246456.0</td>\n",
       "      <td>9.1</td>\n",
       "      <td>21.8</td>\n",
       "      <td>269.0</td>\n",
       "      <td>1938055.0</td>\n",
       "      <td>55069.0</td>\n",
       "      <td>1.455676</td>\n",
       "      <td>6.7</td>\n",
       "      <td>154.0</td>\n",
       "      <td>32.8</td>\n",
       "      <td>84.1</td>\n",
       "      <td>11.3</td>\n",
       "      <td>1440.3</td>\n",
       "      <td>0.4982</td>\n",
       "      <td>3209.057490</td>\n",
       "    </tr>\n",
       "    <tr>\n",
       "      <th>2</th>\n",
       "      <td>10023</td>\n",
       "      <td>New York</td>\n",
       "      <td>NY</td>\n",
       "      <td>3145.0</td>\n",
       "      <td>2014</td>\n",
       "      <td>2</td>\n",
       "      <td>1015651.0</td>\n",
       "      <td>NaN</td>\n",
       "      <td>62.107143</td>\n",
       "      <td>1636268.0</td>\n",
       "      <td>7.1</td>\n",
       "      <td>31.2</td>\n",
       "      <td>1458.0</td>\n",
       "      <td>762228.0</td>\n",
       "      <td>76089.0</td>\n",
       "      <td>1.455676</td>\n",
       "      <td>4.5</td>\n",
       "      <td>212.0</td>\n",
       "      <td>31.3</td>\n",
       "      <td>84.1</td>\n",
       "      <td>8.3</td>\n",
       "      <td>734.7</td>\n",
       "      <td>0.5939</td>\n",
       "      <td>48582.779097</td>\n",
       "    </tr>\n",
       "    <tr>\n",
       "      <th>3</th>\n",
       "      <td>77494</td>\n",
       "      <td>Fort Bend</td>\n",
       "      <td>TX</td>\n",
       "      <td>1746.0</td>\n",
       "      <td>2014</td>\n",
       "      <td>2</td>\n",
       "      <td>311407.0</td>\n",
       "      <td>154.29</td>\n",
       "      <td>NaN</td>\n",
       "      <td>685345.0</td>\n",
       "      <td>4.9</td>\n",
       "      <td>28.3</td>\n",
       "      <td>4368.0</td>\n",
       "      <td>214215.0</td>\n",
       "      <td>87973.0</td>\n",
       "      <td>1.455676</td>\n",
       "      <td>6.5</td>\n",
       "      <td>374.0</td>\n",
       "      <td>32.3</td>\n",
       "      <td>81.8</td>\n",
       "      <td>12.4</td>\n",
       "      <td>48.8</td>\n",
       "      <td>0.4318</td>\n",
       "      <td>773.431064</td>\n",
       "    </tr>\n",
       "    <tr>\n",
       "      <th>4</th>\n",
       "      <td>60614</td>\n",
       "      <td>Cook</td>\n",
       "      <td>IL</td>\n",
       "      <td>1752.0</td>\n",
       "      <td>2014</td>\n",
       "      <td>2</td>\n",
       "      <td>564138.0</td>\n",
       "      <td>146.37</td>\n",
       "      <td>59.571429</td>\n",
       "      <td>5246456.0</td>\n",
       "      <td>9.1</td>\n",
       "      <td>21.8</td>\n",
       "      <td>269.0</td>\n",
       "      <td>1938055.0</td>\n",
       "      <td>55069.0</td>\n",
       "      <td>1.455676</td>\n",
       "      <td>6.7</td>\n",
       "      <td>154.0</td>\n",
       "      <td>32.8</td>\n",
       "      <td>84.1</td>\n",
       "      <td>11.3</td>\n",
       "      <td>1440.3</td>\n",
       "      <td>0.4982</td>\n",
       "      <td>3209.057490</td>\n",
       "    </tr>\n",
       "  </tbody>\n",
       "</table>\n",
       "</div>"
      ],
      "text/plain": [
       "   ZipCode     County State    ZORI  Year  Month       ZHVI     HPI  \\\n",
       "0    10025   New York    NY  3020.0  2014      2  1056185.0     NaN   \n",
       "1    60657       Cook    IL  1583.0  2014      2   441010.0  158.76   \n",
       "2    10023   New York    NY  3145.0  2014      2  1015651.0     NaN   \n",
       "3    77494  Fort Bend    TX  1746.0  2014      2   311407.0  154.29   \n",
       "4    60614       Cook    IL  1752.0  2014      2   564138.0  146.37   \n",
       "\n",
       "         AQI  Population  Unemployment  Percent Bachelors  Permits  \\\n",
       "0  62.107143   1636268.0           7.1               31.2   1458.0   \n",
       "1  59.571429   5246456.0           9.1               21.8    269.0   \n",
       "2  62.107143   1636268.0           7.1               31.2   1458.0   \n",
       "3        NaN    685345.0           4.9               28.3   4368.0   \n",
       "4  59.571429   5246456.0           9.1               21.8    269.0   \n",
       "\n",
       "   Total_Households  Med_Income       PCE  Rental Vacancy Rate  Job Openings  \\\n",
       "0          762228.0     76089.0  1.455676                  4.5         212.0   \n",
       "1         1938055.0     55069.0  1.455676                  6.7         154.0   \n",
       "2          762228.0     76089.0  1.455676                  4.5         212.0   \n",
       "3          214215.0     87973.0  1.455676                  6.5         374.0   \n",
       "4         1938055.0     55069.0  1.455676                  6.7         154.0   \n",
       "\n",
       "   CommuteTime  Salwrkr  Govwrkr   GRAPI  Gini_Index     P_Density  \n",
       "0         31.3     84.1      8.3   734.7      0.5939  48582.779097  \n",
       "1         32.8     84.1     11.3  1440.3      0.4982   3209.057490  \n",
       "2         31.3     84.1      8.3   734.7      0.5939  48582.779097  \n",
       "3         32.3     81.8     12.4    48.8      0.4318    773.431064  \n",
       "4         32.8     84.1     11.3  1440.3      0.4982   3209.057490  "
      ]
     },
     "execution_count": 40,
     "metadata": {},
     "output_type": "execute_result"
    }
   ],
   "source": [
    "df.head()"
   ]
  },
  {
   "cell_type": "code",
   "execution_count": 41,
   "metadata": {},
   "outputs": [],
   "source": [
    "df['day']=15\n",
    "df['date'] = pd.to_datetime(df[['Year','Month','day']])"
   ]
  },
  {
   "cell_type": "code",
   "execution_count": 42,
   "metadata": {},
   "outputs": [
    {
     "data": {
      "text/plain": [
       "263463"
      ]
     },
     "execution_count": 42,
     "metadata": {},
     "output_type": "execute_result"
    }
   ],
   "source": [
    "#calculate gradient in ZORI per zip code assuming time step is always one month\n",
    "allzc = df.ZipCode.unique()\n",
    "ZORI_grads = []\n",
    "for code in allzc:\n",
    "    ZORI_grads.append(np.gradient(df[df['ZipCode']==code]['ZORI']))\n",
    "z_grad = [item for sublist in ZORI_grads for item in sublist]\n",
    "len(z_grad)"
   ]
  },
  {
   "cell_type": "code",
   "execution_count": 44,
   "metadata": {},
   "outputs": [
    {
     "data": {
      "text/plain": [
       "263463"
      ]
     },
     "execution_count": 44,
     "metadata": {},
     "output_type": "execute_result"
    }
   ],
   "source": [
    "# assemble corresponding dates\n",
    "ZORI_dates = []\n",
    "for code in allzc:\n",
    "    ZORI_dates.append(df[df['ZipCode']==code]['date'])\n",
    "z_date = [item for sublist in ZORI_dates for item in sublist]\n",
    "len(z_date)"
   ]
  },
  {
   "cell_type": "code",
   "execution_count": 45,
   "metadata": {},
   "outputs": [
    {
     "data": {
      "text/plain": [
       "263463"
      ]
     },
     "execution_count": 45,
     "metadata": {},
     "output_type": "execute_result"
    }
   ],
   "source": [
    "# assemble corresponding Zip Codes\n",
    "ZORI_codes = []\n",
    "for code in allzc:\n",
    "    ZORI_codes.append(df[df['ZipCode']==code]['ZipCode'])\n",
    "z_code = [item for sublist in ZORI_codes for item in sublist]\n",
    "len(z_code)"
   ]
  },
  {
   "cell_type": "code",
   "execution_count": 84,
   "metadata": {},
   "outputs": [],
   "source": [
    "slope_df = pd.DataFrame({'ZipCode':z_code,'Grad':z_grad, 'date':z_date})\n",
    "df_grad = pd.merge(df, slope_df[['ZipCode','Grad','date']], on = ['ZipCode', 'date'], how = 'left')"
   ]
  },
  {
   "cell_type": "code",
   "execution_count": 159,
   "metadata": {},
   "outputs": [
    {
     "data": {
      "text/plain": [
       "22041    284\n",
       "20191    284\n",
       "22030    284\n",
       "22153    284\n",
       "22102    284\n",
       "        ... \n",
       "11753      7\n",
       "83714      5\n",
       "92210      5\n",
       "92118      5\n",
       "91320      5\n",
       "Name: ZipCode, Length: 2637, dtype: int64"
      ]
     },
     "execution_count": 159,
     "metadata": {},
     "output_type": "execute_result"
    }
   ],
   "source": [
    "df_clean.ZipCode.value_counts()"
   ]
  },
  {
   "cell_type": "markdown",
   "metadata": {},
   "source": [
    "# Zip Code Level EDA"
   ]
  },
  {
   "cell_type": "code",
   "execution_count": 163,
   "metadata": {},
   "outputs": [
    {
     "data": {
      "text/plain": [
       "[Text(0, 0.5, 'ZORI for 20191'), Text(0.5, 0, 'Year'), (2013.5, 2019.5)]"
      ]
     },
     "execution_count": 163,
     "metadata": {},
     "output_type": "execute_result"
    },
    {
     "data": {
      "image/png": "[encoded data removed]",
      "text/plain": [
       "<Figure size 432x288 with 1 Axes>"
      ]
     },
     "metadata": {
      "needs_background": "light"
     },
     "output_type": "display_data"
    }
   ],
   "source": [
    "pp = sns.regplot(data=df_clean[(df_clean['ZipCode']==20191) & (df_clean['Year']<2020)], x='Year', y='ZORI')\n",
    "#pp = sns.regplot(data=df_clean[(df_clean['ZipCode']==20191)], x='Year', y='ZORI')\n",
    "pp.set(ylabel = ('ZORI for 20191'), xlabel=('Year'), xlim=(2013.5, 2019.5))"
   ]
  },
  {
   "cell_type": "code",
   "execution_count": 165,
   "metadata": {},
   "outputs": [
    {
     "data": {
      "text/plain": [
       "[Text(0, 0.5, 'Unemployment for 20191'),\n",
       " Text(0.5, 0, 'Year'),\n",
       " (2013.5, 2019.5)]"
      ]
     },
     "execution_count": 165,
     "metadata": {},
     "output_type": "execute_result"
    },
    {
     "data": {
      "image/png": "[encoded data removed]",
      "text/plain": [
       "<Figure size 432x288 with 1 Axes>"
      ]
     },
     "metadata": {
      "needs_background": "light"
     },
     "output_type": "display_data"
    }
   ],
   "source": [
    "pp = sns.regplot(data=df_clean[(df_clean['ZipCode']==20191) & (df_clean['Year']<2020)], x='Year', y='Unemployment')\n",
    "#pp = sns.regplot(data=df_clean[(df_clean['ZipCode']==20191)], x='Year', y='ZORI')\n",
    "pp.set(ylabel = ('Unemployment for 20191'), xlabel=('Year'), xlim=(2013.5, 2019.5))"
   ]
  },
  {
   "cell_type": "code",
   "execution_count": 52,
   "metadata": {},
   "outputs": [
    {
     "data": {
      "text/plain": [
       "[Text(0, 0.5, 'ZORI for 10028'), Text(0.5, 0, 'Year')]"
      ]
     },
     "execution_count": 52,
     "metadata": {},
     "output_type": "execute_result"
    },
    {
     "data": {
      "image/png": "[encoded data removed]",
      "text/plain": [
       "<Figure size 432x288 with 1 Axes>"
      ]
     },
     "metadata": {
      "needs_background": "light"
     },
     "output_type": "display_data"
    }
   ],
   "source": [
    "#county where rent decreased with COVID (in UES manhattan)\n",
    "pp = sns.lineplot(data=df_grad[df_grad['ZipCode']==10028], x='date', y='ZORI', err_style=None)\n",
    "pp.set(ylabel = ('ZORI for 10028'), xlabel=('Year'))\n",
    "#pp.legend(loc='upper right')\n",
    "#df_grad[df_grad['ZipCode']==10028].plot(y='ZORI', x='date')"
   ]
  },
  {
   "cell_type": "code",
   "execution_count": 54,
   "metadata": {},
   "outputs": [
    {
     "data": {
      "text/plain": [
       "[Text(0, 0.5, 'Gradient of ZORI for 10028'), Text(0.5, 0, 'Year')]"
      ]
     },
     "execution_count": 54,
     "metadata": {},
     "output_type": "execute_result"
    },
    {
     "data": {
      "image/png": "[encoded data removed]",
      "text/plain": [
       "<Figure size 432x288 with 1 Axes>"
      ]
     },
     "metadata": {
      "needs_background": "light"
     },
     "output_type": "display_data"
    }
   ],
   "source": [
    "pp = sns.lineplot(data=df_grad[df_grad['ZipCode']==10028], x='date', y='Grad', err_style=None)\n",
    "pp.set(ylabel = ('Gradient of ZORI for 10028'), xlabel=('Year'))"
   ]
  },
  {
   "cell_type": "code",
   "execution_count": 55,
   "metadata": {},
   "outputs": [
    {
     "data": {
      "text/plain": [
       "[Text(0, 0.5, 'ZORI for 10960'), Text(0.5, 0, 'Year')]"
      ]
     },
     "execution_count": 55,
     "metadata": {},
     "output_type": "execute_result"
    },
    {
     "data": {
      "image/png": "[encoded data removed]",
      "text/plain": [
       "<Figure size 432x288 with 1 Axes>"
      ]
     },
     "metadata": {
      "needs_background": "light"
     },
     "output_type": "display_data"
    }
   ],
   "source": [
    "#county where ZORI increased with COVID (in Rockland County, NY)\n",
    "pp = sns.lineplot(data=df_grad[df_grad['ZipCode']==10960], x='date', y='ZORI', err_style=None)\n",
    "pp.set(ylabel = ('ZORI for 10960'), xlabel=('Year'))\n",
    "#df_grad[df_grad['ZipCode']==10960].plot(y='ZORI', x='date')"
   ]
  },
  {
   "cell_type": "code",
   "execution_count": 56,
   "metadata": {},
   "outputs": [
    {
     "data": {
      "text/plain": [
       "[Text(0, 0.5, 'Gradient of ZORI for 10960'), Text(0.5, 0, 'Year')]"
      ]
     },
     "execution_count": 56,
     "metadata": {},
     "output_type": "execute_result"
    },
    {
     "data": {
      "image/png": "[encoded data removed]",
      "text/plain": [
       "<Figure size 432x288 with 1 Axes>"
      ]
     },
     "metadata": {
      "needs_background": "light"
     },
     "output_type": "display_data"
    }
   ],
   "source": [
    "pp = sns.lineplot(data=df_grad[df_grad['ZipCode']==10960], x='date', y='Grad', err_style=None)\n",
    "pp.set(ylabel = ('Gradient of ZORI for 10960'), xlabel=('Year'))"
   ]
  },
  {
   "cell_type": "code",
   "execution_count": 85,
   "metadata": {},
   "outputs": [],
   "source": [
    "# create categorical variable for gradient of ZORI in 2020\n",
    "df_grad_sub = df_grad[df_grad['Year']>2019].groupby('ZipCode')['Grad'].min().reset_index()\n",
    "df_grad_sub['covid_drop']=df_grad_sub['Grad'].apply(lambda x: 1 if x>1 else -1)"
   ]
  },
  {
   "cell_type": "code",
   "execution_count": 86,
   "metadata": {},
   "outputs": [
    {
     "data": {
      "text/plain": [
       " 1    2162\n",
       "-1    1102\n",
       "Name: covid_drop, dtype: int64"
      ]
     },
     "execution_count": 86,
     "metadata": {},
     "output_type": "execute_result"
    }
   ],
   "source": [
    "df_grad_sub.covid_drop.value_counts()"
   ]
  },
  {
   "cell_type": "code",
   "execution_count": 87,
   "metadata": {},
   "outputs": [],
   "source": [
    "df_grad = pd.merge(df_grad, df_grad_sub[['ZipCode','covid_drop']], on = ['ZipCode'], how = 'left')"
   ]
  },
  {
   "cell_type": "code",
   "execution_count": 88,
   "metadata": {},
   "outputs": [
    {
     "data": {
      "text/plain": [
       "(268149, 28)"
      ]
     },
     "execution_count": 88,
     "metadata": {},
     "output_type": "execute_result"
    }
   ],
   "source": [
    "df_grad.shape"
   ]
  },
  {
   "cell_type": "code",
   "execution_count": 89,
   "metadata": {},
   "outputs": [
    {
     "data": {
      "text/plain": [
       "ZipCode                    0\n",
       "County                   160\n",
       "State                     80\n",
       "ZORI                   11963\n",
       "Year                       0\n",
       "Month                      0\n",
       "ZHVI                   10560\n",
       "HPI                    46558\n",
       "AQI                    22560\n",
       "Population             37338\n",
       "Unemployment            7680\n",
       "Percent Bachelors      37338\n",
       "Permits                   80\n",
       "Total_Households       37338\n",
       "Med_Income             37338\n",
       "PCE                        0\n",
       "Rental Vacancy Rate    37648\n",
       "Job Openings           11255\n",
       "CommuteTime            37338\n",
       "Salwrkr                37338\n",
       "Govwrkr                37338\n",
       "GRAPI                  37338\n",
       "Gini_Index             37338\n",
       "P_Density              37338\n",
       "day                        0\n",
       "date                       0\n",
       "Grad                   20206\n",
       "covid_drop                 0\n",
       "dtype: int64"
      ]
     },
     "execution_count": 89,
     "metadata": {},
     "output_type": "execute_result"
    }
   ],
   "source": [
    "df_grad.isnull().sum(axis=0)"
   ]
  },
  {
   "cell_type": "code",
   "execution_count": 90,
   "metadata": {},
   "outputs": [],
   "source": [
    "df_clean = df_grad[df_grad['Year']!=2020]\n",
    "# Dropping all NaN values instead of imputing for simplicity for now\n",
    "df_clean = df_clean[~df_clean['HPI'].isnull()]\n",
    "df_clean = df_clean[~df_clean['AQI'].isnull()]\n",
    "df_clean = df_clean[~df_clean['ZHVI'].isnull()]\n",
    "df_clean = df_clean[~df_clean['Rental Vacancy Rate'].isnull()]\n",
    "df_clean = df_clean[~df_clean['Grad'].isnull()]\n",
    "df_clean = df_clean[~df_clean['ZORI'].isnull()]"
   ]
  },
  {
   "cell_type": "code",
   "execution_count": 91,
   "metadata": {},
   "outputs": [
    {
     "data": {
      "text/plain": [
       "(174562, 28)"
      ]
     },
     "execution_count": 91,
     "metadata": {},
     "output_type": "execute_result"
    }
   ],
   "source": [
    "df_clean.shape"
   ]
  },
  {
   "cell_type": "code",
   "execution_count": 92,
   "metadata": {},
   "outputs": [
    {
     "data": {
      "text/plain": [
       "ZipCode                0\n",
       "County                 0\n",
       "State                  0\n",
       "ZORI                   0\n",
       "Year                   0\n",
       "Month                  0\n",
       "ZHVI                   0\n",
       "HPI                    0\n",
       "AQI                    0\n",
       "Population             0\n",
       "Unemployment           0\n",
       "Percent Bachelors      0\n",
       "Permits                0\n",
       "Total_Households       0\n",
       "Med_Income             0\n",
       "PCE                    0\n",
       "Rental Vacancy Rate    0\n",
       "Job Openings           0\n",
       "CommuteTime            0\n",
       "Salwrkr                0\n",
       "Govwrkr                0\n",
       "GRAPI                  0\n",
       "Gini_Index             0\n",
       "P_Density              0\n",
       "day                    0\n",
       "date                   0\n",
       "Grad                   0\n",
       "covid_drop             0\n",
       "dtype: int64"
      ]
     },
     "execution_count": 92,
     "metadata": {},
     "output_type": "execute_result"
    }
   ],
   "source": [
    "df_clean.isnull().sum(axis=0)"
   ]
  },
  {
   "cell_type": "code",
   "execution_count": 93,
   "metadata": {},
   "outputs": [
    {
     "data": {
      "text/plain": [
       " 1    118295\n",
       "-1     56267\n",
       "Name: covid_drop, dtype: int64"
      ]
     },
     "execution_count": 93,
     "metadata": {},
     "output_type": "execute_result"
    }
   ],
   "source": [
    "df_clean.covid_drop.value_counts()"
   ]
  },
  {
   "cell_type": "code",
   "execution_count": 94,
   "metadata": {},
   "outputs": [],
   "source": [
    "features = df_clean[['ZORI','ZHVI','HPI','AQI','Population','Unemployment','Percent Bachelors',\n",
    "                     'Permits','Total_Households','Med_Income','PCE','Rental Vacancy Rate', 'Job Openings',\n",
    "                    'CommuteTime', 'Salwrkr','Govwrkr','GRAPI','Gini_Index','P_Density']]\n",
    "target = df_clean['covid_drop']"
   ]
  },
  {
   "cell_type": "markdown",
   "metadata": {},
   "source": [
    "# Logistic Regression Model"
   ]
  },
  {
   "cell_type": "code",
   "execution_count": 95,
   "metadata": {},
   "outputs": [],
   "source": [
    "from sklearn import linear_model"
   ]
  },
  {
   "cell_type": "code",
   "execution_count": 96,
   "metadata": {},
   "outputs": [],
   "source": [
    "logit_1 = linear_model.LogisticRegression(solver='liblinear')"
   ]
  },
  {
   "cell_type": "code",
   "execution_count": 97,
   "metadata": {},
   "outputs": [
    {
     "data": {
      "text/plain": [
       "LogisticRegression(solver='liblinear')"
      ]
     },
     "execution_count": 97,
     "metadata": {},
     "output_type": "execute_result"
    }
   ],
   "source": [
    "logit_1.fit(features, target)"
   ]
  },
  {
   "cell_type": "code",
   "execution_count": 98,
   "metadata": {},
   "outputs": [
    {
     "data": {
      "text/plain": [
       "0.7041108603246984"
      ]
     },
     "execution_count": 98,
     "metadata": {},
     "output_type": "execute_result"
    }
   ],
   "source": [
    "logit_1.score(features, target)"
   ]
  },
  {
   "cell_type": "code",
   "execution_count": 99,
   "metadata": {},
   "outputs": [
    {
     "data": {
      "text/plain": [
       "array([[ 11542,  44725],\n",
       "       [  6926, 111369]])"
      ]
     },
     "execution_count": 99,
     "metadata": {},
     "output_type": "execute_result"
    }
   ],
   "source": [
    "from sklearn.metrics import confusion_matrix\n",
    "confusion_matrix(target, logit_1.predict(features))"
   ]
  },
  {
   "cell_type": "code",
   "execution_count": 100,
   "metadata": {},
   "outputs": [
    {
     "name": "stdout",
     "output_type": "stream",
     "text": [
      "              precision    recall  f1-score   support\n",
      "\n",
      "          -1       0.62      0.21      0.31     56267\n",
      "           1       0.71      0.94      0.81    118295\n",
      "\n",
      "    accuracy                           0.70    174562\n",
      "   macro avg       0.67      0.57      0.56    174562\n",
      "weighted avg       0.68      0.70      0.65    174562\n",
      "\n"
     ]
    }
   ],
   "source": [
    "from sklearn.metrics import classification_report\n",
    "print(classification_report(target, logit_1.predict(features)))"
   ]
  },
  {
   "cell_type": "code",
   "execution_count": 101,
   "metadata": {},
   "outputs": [],
   "source": [
    "grid_para_logit=[{\n",
    "    'C':[0.01,0.1,1.0,10.0],\n",
    "    'penalty':['l2','l1','elasticnet']\n",
    "}]"
   ]
  },
  {
   "cell_type": "code",
   "execution_count": 102,
   "metadata": {},
   "outputs": [],
   "source": [
    "grid_search_logit = GridSearchCV(logit_1, grid_para_logit, cv = 5, n_jobs = -1)"
   ]
  },
  {
   "cell_type": "code",
   "execution_count": 103,
   "metadata": {},
   "outputs": [
    {
     "data": {
      "text/plain": [
       "GridSearchCV(cv=5, estimator=LogisticRegression(solver='liblinear'), n_jobs=-1,\n",
       "             param_grid=[{'C': [0.01, 0.1, 1.0, 10.0],\n",
       "                          'penalty': ['l2', 'l1', 'elasticnet']}])"
      ]
     },
     "execution_count": 103,
     "metadata": {},
     "output_type": "execute_result"
    }
   ],
   "source": [
    "grid_search_logit.fit(features, target)"
   ]
  },
  {
   "cell_type": "code",
   "execution_count": 104,
   "metadata": {},
   "outputs": [
    {
     "data": {
      "text/plain": [
       "{'C': 10.0, 'penalty': 'l1'}"
      ]
     },
     "execution_count": 104,
     "metadata": {},
     "output_type": "execute_result"
    }
   ],
   "source": [
    "grid_search_logit.best_params_"
   ]
  },
  {
   "cell_type": "code",
   "execution_count": 105,
   "metadata": {},
   "outputs": [
    {
     "data": {
      "text/plain": [
       "0.7229351797421917"
      ]
     },
     "execution_count": 105,
     "metadata": {},
     "output_type": "execute_result"
    }
   ],
   "source": [
    "grid_search_logit.best_score_"
   ]
  },
  {
   "cell_type": "code",
   "execution_count": 107,
   "metadata": {},
   "outputs": [
    {
     "data": {
      "text/plain": [
       "array([[ 21644,  34623],\n",
       "       [ 11439, 106856]])"
      ]
     },
     "execution_count": 107,
     "metadata": {},
     "output_type": "execute_result"
    }
   ],
   "source": [
    "y_pred = grid_search_logit.best_estimator_.predict(features)\n",
    "confusion_matrix(target, y_pred)"
   ]
  },
  {
   "cell_type": "code",
   "execution_count": 109,
   "metadata": {},
   "outputs": [],
   "source": [
    "grid_para_logit=[{\n",
    "    'C':[10.0,20.0, 50.0],\n",
    "    'penalty':['l1']\n",
    "}]"
   ]
  },
  {
   "cell_type": "code",
   "execution_count": 110,
   "metadata": {},
   "outputs": [],
   "source": [
    "grid_search_logit = GridSearchCV(logit_1, grid_para_logit, cv = 5, n_jobs = -1)"
   ]
  },
  {
   "cell_type": "code",
   "execution_count": 111,
   "metadata": {},
   "outputs": [
    {
     "name": "stderr",
     "output_type": "stream",
     "text": [
      "/Applications/anaconda3/envs/Base_new/lib/python3.7/site-packages/sklearn/svm/_base.py:977: ConvergenceWarning: Liblinear failed to converge, increase the number of iterations.\n",
      "  \"the number of iterations.\", ConvergenceWarning)\n"
     ]
    },
    {
     "data": {
      "text/plain": [
       "GridSearchCV(cv=5, estimator=LogisticRegression(solver='liblinear'), n_jobs=-1,\n",
       "             param_grid=[{'C': [10.0, 20.0, 50.0], 'penalty': ['l1']}])"
      ]
     },
     "execution_count": 111,
     "metadata": {},
     "output_type": "execute_result"
    }
   ],
   "source": [
    "grid_search_logit.fit(features, target)"
   ]
  },
  {
   "cell_type": "code",
   "execution_count": 112,
   "metadata": {},
   "outputs": [
    {
     "data": {
      "text/plain": [
       "{'C': 10.0, 'penalty': 'l1'}"
      ]
     },
     "execution_count": 112,
     "metadata": {},
     "output_type": "execute_result"
    }
   ],
   "source": [
    "grid_search_logit.best_params_"
   ]
  },
  {
   "cell_type": "code",
   "execution_count": 135,
   "metadata": {},
   "outputs": [
    {
     "data": {
      "text/plain": [
       "0.7356583907150468"
      ]
     },
     "execution_count": 135,
     "metadata": {},
     "output_type": "execute_result"
    }
   ],
   "source": [
    "# gives better results\n",
    "logit_1.set_params(C=20, penalty='l1')\n",
    "logit_1.fit(features, target)\n",
    "logit_1.score(features, target)"
   ]
  },
  {
   "cell_type": "code",
   "execution_count": 136,
   "metadata": {},
   "outputs": [
    {
     "data": {
      "text/plain": [
       "array([[ 21468,  34799],\n",
       "       [ 11345, 106950]])"
      ]
     },
     "execution_count": 136,
     "metadata": {},
     "output_type": "execute_result"
    }
   ],
   "source": [
    "y_pred = logit_1.predict(features)\n",
    "confusion_matrix(target, y_pred)"
   ]
  },
  {
   "cell_type": "code",
   "execution_count": 137,
   "metadata": {},
   "outputs": [
    {
     "name": "stdout",
     "output_type": "stream",
     "text": [
      "              precision    recall  f1-score   support\n",
      "\n",
      "          -1       0.65      0.38      0.48     56267\n",
      "           1       0.75      0.90      0.82    118295\n",
      "\n",
      "    accuracy                           0.74    174562\n",
      "   macro avg       0.70      0.64      0.65    174562\n",
      "weighted avg       0.72      0.74      0.71    174562\n",
      "\n"
     ]
    }
   ],
   "source": [
    "print(classification_report(target, logit_1.predict(features)))"
   ]
  },
  {
   "cell_type": "code",
   "execution_count": 138,
   "metadata": {},
   "outputs": [],
   "source": [
    "from sklearn.metrics import plot_confusion_matrix\n",
    "from sklearn.metrics import plot_precision_recall_curve\n",
    "from sklearn.metrics import plot_roc_curve\n",
    "from sklearn.metrics import roc_auc_score"
   ]
  },
  {
   "cell_type": "code",
   "execution_count": 169,
   "metadata": {
    "scrolled": true
   },
   "outputs": [
    {
     "data": {
      "image/png": "[encoded data removed]",
      "text/plain": [
       "<Figure size 432x288 with 2 Axes>"
      ]
     },
     "metadata": {
      "needs_background": "light"
     },
     "output_type": "display_data"
    }
   ],
   "source": [
    "plot_confusion_matrix(logit_1, features, target, cmap=plt.cm.Blues, normalize='true')\n",
    "plt.show()"
   ]
  },
  {
   "cell_type": "code",
   "execution_count": 141,
   "metadata": {},
   "outputs": [
    {
     "data": {
      "image/png": "[encoded data removed]",
      "text/plain": [
       "<Figure size 432x288 with 1 Axes>"
      ]
     },
     "metadata": {
      "needs_background": "light"
     },
     "output_type": "display_data"
    }
   ],
   "source": [
    "plot_roc_curve(logit_1, features, target)\n",
    "plt.show()"
   ]
  },
  {
   "cell_type": "markdown",
   "metadata": {},
   "source": [
    "# Random Forest Classifier"
   ]
  },
  {
   "cell_type": "code",
   "execution_count": 143,
   "metadata": {},
   "outputs": [],
   "source": [
    "from sklearn.ensemble import RandomForestClassifier"
   ]
  },
  {
   "cell_type": "code",
   "execution_count": 144,
   "metadata": {},
   "outputs": [
    {
     "data": {
      "text/plain": [
       "RandomForestClassifier(class_weight='balanced', max_depth=7, n_jobs=-1)"
      ]
     },
     "execution_count": 144,
     "metadata": {},
     "output_type": "execute_result"
    }
   ],
   "source": [
    "RF = RandomForestClassifier(max_depth=7, class_weight='balanced', n_jobs=-1) #n_estimators=1000\n",
    "RF.fit(features, target)"
   ]
  },
  {
   "cell_type": "code",
   "execution_count": 145,
   "metadata": {},
   "outputs": [],
   "source": [
    "y_pred = RF.predict(features)"
   ]
  },
  {
   "cell_type": "code",
   "execution_count": 148,
   "metadata": {},
   "outputs": [
    {
     "name": "stdout",
     "output_type": "stream",
     "text": [
      "              precision    recall  f1-score   support\n",
      "\n",
      "          -1       0.59      0.78      0.67     56267\n",
      "           1       0.88      0.75      0.81    118295\n",
      "\n",
      "    accuracy                           0.76    174562\n",
      "   macro avg       0.73      0.76      0.74    174562\n",
      "weighted avg       0.78      0.76      0.76    174562\n",
      "\n"
     ]
    }
   ],
   "source": [
    "print(classification_report(target, y_pred))"
   ]
  },
  {
   "cell_type": "code",
   "execution_count": 149,
   "metadata": {},
   "outputs": [
    {
     "data": {
      "image/png": "[encoded data removed]",
      "text/plain": [
       "<Figure size 432x288 with 1 Axes>"
      ]
     },
     "metadata": {
      "needs_background": "light"
     },
     "output_type": "display_data"
    }
   ],
   "source": [
    "plot_roc_curve(RF, features, target)\n",
    "plt.show()"
   ]
  },
  {
   "cell_type": "code",
   "execution_count": 170,
   "metadata": {},
   "outputs": [
    {
     "data": {
      "image/png": "[encoded data removed]",
      "text/plain": [
       "<Figure size 432x288 with 2 Axes>"
      ]
     },
     "metadata": {
      "needs_background": "light"
     },
     "output_type": "display_data"
    }
   ],
   "source": [
    "plot_confusion_matrix(RF, features, target, cmap=plt.cm.Blues, normalize='true')\n",
    "plt.show()"
   ]
  },
  {
   "cell_type": "code",
   "execution_count": 171,
   "metadata": {},
   "outputs": [
    {
     "data": {
      "text/plain": [
       "0.7556856589635774"
      ]
     },
     "execution_count": 171,
     "metadata": {},
     "output_type": "execute_result"
    }
   ],
   "source": [
    "RF.score(features, target)"
   ]
  },
  {
   "cell_type": "code",
   "execution_count": 153,
   "metadata": {},
   "outputs": [
    {
     "data": {
      "text/html": [
       "<div>\n",
       "<style scoped>\n",
       "    .dataframe tbody tr th:only-of-type {\n",
       "        vertical-align: middle;\n",
       "    }\n",
       "\n",
       "    .dataframe tbody tr th {\n",
       "        vertical-align: top;\n",
       "    }\n",
       "\n",
       "    .dataframe thead th {\n",
       "        text-align: right;\n",
       "    }\n",
       "</style>\n",
       "<table border=\"1\" class=\"dataframe\">\n",
       "  <thead>\n",
       "    <tr style=\"text-align: right;\">\n",
       "      <th></th>\n",
       "      <th>feature importance</th>\n",
       "    </tr>\n",
       "  </thead>\n",
       "  <tbody>\n",
       "    <tr>\n",
       "      <th>ZHVI</th>\n",
       "      <td>0.206496</td>\n",
       "    </tr>\n",
       "    <tr>\n",
       "      <th>P_Density</th>\n",
       "      <td>0.152948</td>\n",
       "    </tr>\n",
       "    <tr>\n",
       "      <th>ZORI</th>\n",
       "      <td>0.125336</td>\n",
       "    </tr>\n",
       "    <tr>\n",
       "      <th>Percent Bachelors</th>\n",
       "      <td>0.089388</td>\n",
       "    </tr>\n",
       "    <tr>\n",
       "      <th>HPI</th>\n",
       "      <td>0.083244</td>\n",
       "    </tr>\n",
       "    <tr>\n",
       "      <th>CommuteTime</th>\n",
       "      <td>0.048999</td>\n",
       "    </tr>\n",
       "    <tr>\n",
       "      <th>Gini_Index</th>\n",
       "      <td>0.044432</td>\n",
       "    </tr>\n",
       "    <tr>\n",
       "      <th>Population</th>\n",
       "      <td>0.043543</td>\n",
       "    </tr>\n",
       "    <tr>\n",
       "      <th>Total_Households</th>\n",
       "      <td>0.042898</td>\n",
       "    </tr>\n",
       "    <tr>\n",
       "      <th>Med_Income</th>\n",
       "      <td>0.034992</td>\n",
       "    </tr>\n",
       "    <tr>\n",
       "      <th>Govwrkr</th>\n",
       "      <td>0.034431</td>\n",
       "    </tr>\n",
       "    <tr>\n",
       "      <th>Salwrkr</th>\n",
       "      <td>0.030530</td>\n",
       "    </tr>\n",
       "    <tr>\n",
       "      <th>Job Openings</th>\n",
       "      <td>0.018346</td>\n",
       "    </tr>\n",
       "    <tr>\n",
       "      <th>GRAPI</th>\n",
       "      <td>0.014105</td>\n",
       "    </tr>\n",
       "    <tr>\n",
       "      <th>Rental Vacancy Rate</th>\n",
       "      <td>0.012841</td>\n",
       "    </tr>\n",
       "    <tr>\n",
       "      <th>AQI</th>\n",
       "      <td>0.008402</td>\n",
       "    </tr>\n",
       "    <tr>\n",
       "      <th>Permits</th>\n",
       "      <td>0.005338</td>\n",
       "    </tr>\n",
       "    <tr>\n",
       "      <th>Unemployment</th>\n",
       "      <td>0.003320</td>\n",
       "    </tr>\n",
       "    <tr>\n",
       "      <th>PCE</th>\n",
       "      <td>0.000412</td>\n",
       "    </tr>\n",
       "  </tbody>\n",
       "</table>\n",
       "</div>"
      ],
      "text/plain": [
       "                     feature importance\n",
       "ZHVI                           0.206496\n",
       "P_Density                      0.152948\n",
       "ZORI                           0.125336\n",
       "Percent Bachelors              0.089388\n",
       "HPI                            0.083244\n",
       "CommuteTime                    0.048999\n",
       "Gini_Index                     0.044432\n",
       "Population                     0.043543\n",
       "Total_Households               0.042898\n",
       "Med_Income                     0.034992\n",
       "Govwrkr                        0.034431\n",
       "Salwrkr                        0.030530\n",
       "Job Openings                   0.018346\n",
       "GRAPI                          0.014105\n",
       "Rental Vacancy Rate            0.012841\n",
       "AQI                            0.008402\n",
       "Permits                        0.005338\n",
       "Unemployment                   0.003320\n",
       "PCE                            0.000412"
      ]
     },
     "execution_count": 153,
     "metadata": {},
     "output_type": "execute_result"
    }
   ],
   "source": [
    "fi_values = pd.Series(RF.feature_importances_, index = features.columns).sort_values(ascending=False)\n",
    "pd.DataFrame({'feature importance':fi_values})"
   ]
  }
 ],
 "metadata": {
  "kernelspec": {
   "display_name": "Python 3",
   "language": "python",
   "name": "python3"
  },
  "language_info": {
   "codemirror_mode": {
    "name": "ipython",
    "version": 3
   },
   "file_extension": ".py",
   "mimetype": "text/x-python",
   "name": "python",
   "nbconvert_exporter": "python",
   "pygments_lexer": "ipython3",
   "version": "3.7.9"
  }
 },
 "nbformat": 4,
 "nbformat_minor": 2
}
