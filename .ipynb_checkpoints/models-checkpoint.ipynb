{
 "cells": [
  {
   "cell_type": "code",
   "execution_count": 1,
   "metadata": {},
   "outputs": [],
   "source": [
    "import numpy as np\n",
    "import pandas as pd\n",
    "pd.options.mode.chained_assignment = None\n",
    "from sklearn.linear_model import LinearRegression, Lasso\n",
    "from sklearn.model_selection import cross_validate\n",
    "from sklearn.metrics import r2_score, mean_squared_error\n",
    "from sklearn import ensemble\n",
    "from sklearn.model_selection import GridSearchCV\n",
    "from sklearn.preprocessing import StandardScaler\n",
    "import matplotlib.pyplot as plt\n",
    "import seaborn as sns\n",
    "from dateutil.relativedelta import relativedelta\n",
    "from statsmodels.stats.outliers_influence import variance_inflation_factor\n",
    "from uszipcode import SearchEngine\n",
    "search = SearchEngine(simple_zipcode = True)"
   ]
  },
  {
   "cell_type": "code",
   "execution_count": 2,
   "metadata": {},
   "outputs": [],
   "source": [
    "def calculate_vif_(X, thresh = 5):\n",
    "    cols = X.columns\n",
    "    variables = np.arange(X.shape[1])\n",
    "    dropped = True\n",
    "    while dropped:\n",
    "        dropped=False\n",
    "        c = X[cols[variables]].values\n",
    "        vif = [variance_inflation_factor(c, ix) for ix in np.arange(c.shape[1])]\n",
    "\n",
    "        maxloc = vif.index(max(vif))\n",
    "        if max(vif) > thresh:\n",
    "            print('dropping \\'' + X[cols[variables]].columns[maxloc] + '\\' at index: ' + str(maxloc))\n",
    "            variables = np.delete(variables, maxloc)\n",
    "            dropped=True\n",
    "\n",
    "    print('\\nRemaining variables:')\n",
    "    print(X.columns[variables])\n",
    "    return X[cols[variables]]"
   ]
  },
  {
   "cell_type": "markdown",
   "metadata": {},
   "source": [
    "## Pull Dataframes"
   ]
  },
  {
   "cell_type": "code",
   "execution_count": 3,
   "metadata": {},
   "outputs": [],
   "source": [
    "from data_for_models import zori, df_clean, df_pred, df_change, df_pred_change"
   ]
  },
  {
   "cell_type": "code",
   "execution_count": 4,
   "metadata": {},
   "outputs": [],
   "source": [
    "train_idx = np.random.choice(range(df_clean.shape[0]), round(df_clean.shape[0] * 0.75), replace = False)"
   ]
  },
  {
   "cell_type": "code",
   "execution_count": 5,
   "metadata": {},
   "outputs": [],
   "source": [
    "train = df_clean.iloc[train_idx, :]\n",
    "test = df_clean.iloc[list(set(range(df_clean.shape[0])) - set(train_idx)), :]"
   ]
  },
  {
   "cell_type": "code",
   "execution_count": 6,
   "metadata": {},
   "outputs": [],
   "source": [
    "train_change_idx = np.random.choice(range(df_change.shape[0]), round(df_change.shape[0] * 0.75), replace = False)"
   ]
  },
  {
   "cell_type": "code",
   "execution_count": 7,
   "metadata": {},
   "outputs": [],
   "source": [
    "train_change = df_change.iloc[train_change_idx, :]\n",
    "test_change = df_change.iloc[list(set(range(df_change.shape[0])) - set(train_change_idx)), :]"
   ]
  },
  {
   "cell_type": "markdown",
   "metadata": {},
   "source": [
    "## Multiple Linear Regression on ZORI"
   ]
  },
  {
   "cell_type": "code",
   "execution_count": 8,
   "metadata": {},
   "outputs": [
    {
     "data": {
      "text/plain": [
       "GridSearchCV(cv=5, estimator=Lasso(max_iter=2500), n_jobs=-1,\n",
       "             param_grid=[{'alpha': array([0.001, 0.002, 0.003, 0.004, 0.005, 0.006, 0.007, 0.008, 0.009,\n",
       "       0.01 , 0.011, 0.012, 0.013, 0.014, 0.015, 0.016, 0.017, 0.018,\n",
       "       0.019, 0.02 , 0.021, 0.022, 0.023, 0.024, 0.025, 0.026, 0.027,\n",
       "       0.028, 0.029, 0.03 , 0.031, 0.032, 0.033, 0.034, 0.035, 0.036,\n",
       "       0.037, 0.038, 0.039, 0.04 , 0.041, 0.042, 0.043, 0.044, 0.045,\n",
       "       0.046, 0.047, 0.048, 0.049, 0.05 , 0.051, 0.052, 0.053, 0.054,\n",
       "       0.055, 0.056, 0.057, 0.058, 0.059, 0.06 , 0.061, 0.062, 0.063,\n",
       "       0.064, 0.065, 0.066, 0.067, 0.068, 0.069, 0.07 , 0.071, 0.072,\n",
       "       0.073, 0.074, 0.075, 0.076, 0.077, 0.078, 0.079, 0.08 , 0.081,\n",
       "       0.082, 0.083, 0.084, 0.085, 0.086, 0.087, 0.088, 0.089, 0.09 ,\n",
       "       0.091, 0.092, 0.093, 0.094, 0.095, 0.096, 0.097, 0.098, 0.099,\n",
       "       0.1  ])}],\n",
       "             return_train_score=True)"
      ]
     },
     "execution_count": 8,
     "metadata": {},
     "output_type": "execute_result"
    }
   ],
   "source": [
    "# Lasso penalization\n",
    "scaler = StandardScaler()\n",
    "data = train.iloc[:, 4:].copy()\n",
    "scaler.fit(data)\n",
    "scaled_data = pd.DataFrame(scaler.transform(data), columns = data.columns)\n",
    "\n",
    "lasso = Lasso(max_iter = 2500)\n",
    "\n",
    "grid_para_lasso = [{\"alpha\": np.linspace(0.001, 0.1, 100)}]\n",
    "\n",
    "grid_search_lasso = GridSearchCV(lasso, grid_para_lasso, cv = 5, n_jobs = -1, return_train_score = True)\n",
    "grid_search_lasso.fit(scaled_data, train.iloc[:, 3])"
   ]
  },
  {
   "cell_type": "code",
   "execution_count": 9,
   "metadata": {},
   "outputs": [
    {
     "data": {
      "text/html": [
       "<div>\n",
       "<style scoped>\n",
       "    .dataframe tbody tr th:only-of-type {\n",
       "        vertical-align: middle;\n",
       "    }\n",
       "\n",
       "    .dataframe tbody tr th {\n",
       "        vertical-align: top;\n",
       "    }\n",
       "\n",
       "    .dataframe thead th {\n",
       "        text-align: right;\n",
       "    }\n",
       "</style>\n",
       "<table border=\"1\" class=\"dataframe\">\n",
       "  <thead>\n",
       "    <tr style=\"text-align: right;\">\n",
       "      <th></th>\n",
       "      <th>Coefficient for alpha = 0.003</th>\n",
       "    </tr>\n",
       "  </thead>\n",
       "  <tbody>\n",
       "    <tr>\n",
       "      <th>ZORI_lagged_1</th>\n",
       "      <td>542.527959</td>\n",
       "    </tr>\n",
       "    <tr>\n",
       "      <th>ZHVI_lagged_1</th>\n",
       "      <td>6.030721</td>\n",
       "    </tr>\n",
       "    <tr>\n",
       "      <th>HPI_lagged_2</th>\n",
       "      <td>-2.622139</td>\n",
       "    </tr>\n",
       "    <tr>\n",
       "      <th>AQI_lagged_1</th>\n",
       "      <td>1.923212</td>\n",
       "    </tr>\n",
       "    <tr>\n",
       "      <th>Population_lagged_2</th>\n",
       "      <td>-0.357936</td>\n",
       "    </tr>\n",
       "    <tr>\n",
       "      <th>Unemployment_lagged_1</th>\n",
       "      <td>4.841825</td>\n",
       "    </tr>\n",
       "    <tr>\n",
       "      <th>Percent Bachelors_lagged_2</th>\n",
       "      <td>2.527069</td>\n",
       "    </tr>\n",
       "    <tr>\n",
       "      <th>Permits_lagged_1</th>\n",
       "      <td>2.995618</td>\n",
       "    </tr>\n",
       "    <tr>\n",
       "      <th>Total_Households_lagged_2</th>\n",
       "      <td>-3.007653</td>\n",
       "    </tr>\n",
       "    <tr>\n",
       "      <th>Med_Income_lagged_2</th>\n",
       "      <td>-7.816260</td>\n",
       "    </tr>\n",
       "    <tr>\n",
       "      <th>PCE_lagged_1</th>\n",
       "      <td>1.412804</td>\n",
       "    </tr>\n",
       "    <tr>\n",
       "      <th>Rental Vacancy Rate_lagged_2</th>\n",
       "      <td>-7.964998</td>\n",
       "    </tr>\n",
       "    <tr>\n",
       "      <th>Job Openings_lagged_1</th>\n",
       "      <td>-0.569444</td>\n",
       "    </tr>\n",
       "    <tr>\n",
       "      <th>CommuteTime_lagged_2</th>\n",
       "      <td>-0.742663</td>\n",
       "    </tr>\n",
       "    <tr>\n",
       "      <th>Salwrkr_lagged_2</th>\n",
       "      <td>-21.629441</td>\n",
       "    </tr>\n",
       "    <tr>\n",
       "      <th>Govwrkr_lagged_2</th>\n",
       "      <td>-22.761463</td>\n",
       "    </tr>\n",
       "    <tr>\n",
       "      <th>GRAPI_lagged_2</th>\n",
       "      <td>6.812875</td>\n",
       "    </tr>\n",
       "    <tr>\n",
       "      <th>P_Density_lagged_2</th>\n",
       "      <td>-0.723659</td>\n",
       "    </tr>\n",
       "    <tr>\n",
       "      <th>Gini_Index_lagged_2</th>\n",
       "      <td>-4.557718</td>\n",
       "    </tr>\n",
       "  </tbody>\n",
       "</table>\n",
       "</div>"
      ],
      "text/plain": [
       "                              Coefficient for alpha = 0.003\n",
       "ZORI_lagged_1                                    542.527959\n",
       "ZHVI_lagged_1                                      6.030721\n",
       "HPI_lagged_2                                      -2.622139\n",
       "AQI_lagged_1                                       1.923212\n",
       "Population_lagged_2                               -0.357936\n",
       "Unemployment_lagged_1                              4.841825\n",
       "Percent Bachelors_lagged_2                         2.527069\n",
       "Permits_lagged_1                                   2.995618\n",
       "Total_Households_lagged_2                         -3.007653\n",
       "Med_Income_lagged_2                               -7.816260\n",
       "PCE_lagged_1                                       1.412804\n",
       "Rental Vacancy Rate_lagged_2                      -7.964998\n",
       "Job Openings_lagged_1                             -0.569444\n",
       "CommuteTime_lagged_2                              -0.742663\n",
       "Salwrkr_lagged_2                                 -21.629441\n",
       "Govwrkr_lagged_2                                 -22.761463\n",
       "GRAPI_lagged_2                                     6.812875\n",
       "P_Density_lagged_2                                -0.723659\n",
       "Gini_Index_lagged_2                               -4.557718"
      ]
     },
     "execution_count": 9,
     "metadata": {},
     "output_type": "execute_result"
    }
   ],
   "source": [
    "pd.DataFrame(grid_search_lasso.best_estimator_.coef_.reshape(-1, 1), index = train.iloc[:, 4:].columns, \n",
    "             columns = [f\"Coefficient for alpha = {grid_search_lasso.best_params_['alpha']}\"])"
   ]
  },
  {
   "cell_type": "code",
   "execution_count": 10,
   "metadata": {},
   "outputs": [],
   "source": [
    "# Drop Population_lagged_2 since coefficient is closest to 0\n",
    "df_clean_MLR = df_clean.drop('Population_lagged_2', axis = 1)\n",
    "df_pred_MLR = df_pred.drop('Population_lagged_2', axis = 1)\n",
    "train_MLR = train.drop('Population_lagged_2', axis = 1)\n",
    "test_MLR = test.drop('Population_lagged_2', axis = 1)"
   ]
  },
  {
   "cell_type": "code",
   "execution_count": 11,
   "metadata": {},
   "outputs": [
    {
     "name": "stdout",
     "output_type": "stream",
     "text": [
      "dropping 'Constant' at index: 18\n",
      "dropping 'Salwrkr_lagged_2' at index: 13\n",
      "dropping 'Gini_Index_lagged_2' at index: 16\n",
      "dropping 'CommuteTime_lagged_2' at index: 12\n",
      "dropping 'Med_Income_lagged_2' at index: 8\n",
      "dropping 'PCE_lagged_1' at index: 8\n",
      "dropping 'ZORI_lagged_1' at index: 0\n",
      "dropping 'HPI_lagged_2' at index: 1\n",
      "dropping 'Unemployment_lagged_1' at index: 2\n",
      "dropping 'Percent Bachelors_lagged_2' at index: 2\n",
      "dropping 'AQI_lagged_1' at index: 1\n",
      "dropping 'Job Openings_lagged_1' at index: 4\n",
      "dropping 'Govwrkr_lagged_2' at index: 4\n",
      "\n",
      "Remaining variables:\n",
      "Index(['ZHVI_lagged_1', 'Permits_lagged_1', 'Total_Households_lagged_2',\n",
      "       'Rental Vacancy Rate_lagged_2', 'GRAPI_lagged_2', 'P_Density_lagged_2'],\n",
      "      dtype='object')\n"
     ]
    },
    {
     "data": {
      "text/html": [
       "<div>\n",
       "<style scoped>\n",
       "    .dataframe tbody tr th:only-of-type {\n",
       "        vertical-align: middle;\n",
       "    }\n",
       "\n",
       "    .dataframe tbody tr th {\n",
       "        vertical-align: top;\n",
       "    }\n",
       "\n",
       "    .dataframe thead th {\n",
       "        text-align: right;\n",
       "    }\n",
       "</style>\n",
       "<table border=\"1\" class=\"dataframe\">\n",
       "  <thead>\n",
       "    <tr style=\"text-align: right;\">\n",
       "      <th></th>\n",
       "      <th>ZHVI_lagged_1</th>\n",
       "      <th>Permits_lagged_1</th>\n",
       "      <th>Total_Households_lagged_2</th>\n",
       "      <th>Rental Vacancy Rate_lagged_2</th>\n",
       "      <th>GRAPI_lagged_2</th>\n",
       "      <th>P_Density_lagged_2</th>\n",
       "    </tr>\n",
       "  </thead>\n",
       "  <tbody>\n",
       "    <tr>\n",
       "      <th>0</th>\n",
       "      <td>784785.0</td>\n",
       "      <td>4380.0</td>\n",
       "      <td>1100858.0</td>\n",
       "      <td>3.6</td>\n",
       "      <td>748.8</td>\n",
       "      <td>721.053620</td>\n",
       "    </tr>\n",
       "    <tr>\n",
       "      <th>1</th>\n",
       "      <td>145279.0</td>\n",
       "      <td>5.0</td>\n",
       "      <td>106080.0</td>\n",
       "      <td>9.5</td>\n",
       "      <td>1.5</td>\n",
       "      <td>500.798725</td>\n",
       "    </tr>\n",
       "    <tr>\n",
       "      <th>2</th>\n",
       "      <td>139038.0</td>\n",
       "      <td>982.0</td>\n",
       "      <td>530213.0</td>\n",
       "      <td>3.3</td>\n",
       "      <td>338.3</td>\n",
       "      <td>1653.655687</td>\n",
       "    </tr>\n",
       "    <tr>\n",
       "      <th>3</th>\n",
       "      <td>409893.0</td>\n",
       "      <td>1291.0</td>\n",
       "      <td>282860.0</td>\n",
       "      <td>4.4</td>\n",
       "      <td>130.8</td>\n",
       "      <td>2591.963428</td>\n",
       "    </tr>\n",
       "    <tr>\n",
       "      <th>4</th>\n",
       "      <td>442738.0</td>\n",
       "      <td>4918.0</td>\n",
       "      <td>139104.0</td>\n",
       "      <td>5.9</td>\n",
       "      <td>1.6</td>\n",
       "      <td>253.646750</td>\n",
       "    </tr>\n",
       "    <tr>\n",
       "      <th>...</th>\n",
       "      <td>...</td>\n",
       "      <td>...</td>\n",
       "      <td>...</td>\n",
       "      <td>...</td>\n",
       "      <td>...</td>\n",
       "      <td>...</td>\n",
       "    </tr>\n",
       "    <tr>\n",
       "      <th>126041</th>\n",
       "      <td>184134.0</td>\n",
       "      <td>662.0</td>\n",
       "      <td>180787.0</td>\n",
       "      <td>1.6</td>\n",
       "      <td>1.4</td>\n",
       "      <td>1020.123254</td>\n",
       "    </tr>\n",
       "    <tr>\n",
       "      <th>126042</th>\n",
       "      <td>190264.0</td>\n",
       "      <td>170.0</td>\n",
       "      <td>740966.0</td>\n",
       "      <td>9.5</td>\n",
       "      <td>2.0</td>\n",
       "      <td>261.375347</td>\n",
       "    </tr>\n",
       "    <tr>\n",
       "      <th>126043</th>\n",
       "      <td>469494.0</td>\n",
       "      <td>3470.0</td>\n",
       "      <td>543560.0</td>\n",
       "      <td>4.2</td>\n",
       "      <td>1.9</td>\n",
       "      <td>1547.707528</td>\n",
       "    </tr>\n",
       "    <tr>\n",
       "      <th>126044</th>\n",
       "      <td>302061.0</td>\n",
       "      <td>6534.0</td>\n",
       "      <td>312298.0</td>\n",
       "      <td>5.8</td>\n",
       "      <td>117.0</td>\n",
       "      <td>999.244844</td>\n",
       "    </tr>\n",
       "    <tr>\n",
       "      <th>126045</th>\n",
       "      <td>1114657.0</td>\n",
       "      <td>4056.0</td>\n",
       "      <td>3293095.0</td>\n",
       "      <td>3.0</td>\n",
       "      <td>2.2</td>\n",
       "      <td>2140.068851</td>\n",
       "    </tr>\n",
       "  </tbody>\n",
       "</table>\n",
       "<p>126046 rows × 6 columns</p>\n",
       "</div>"
      ],
      "text/plain": [
       "        ZHVI_lagged_1  Permits_lagged_1  Total_Households_lagged_2  \\\n",
       "0            784785.0            4380.0                  1100858.0   \n",
       "1            145279.0               5.0                   106080.0   \n",
       "2            139038.0             982.0                   530213.0   \n",
       "3            409893.0            1291.0                   282860.0   \n",
       "4            442738.0            4918.0                   139104.0   \n",
       "...               ...               ...                        ...   \n",
       "126041       184134.0             662.0                   180787.0   \n",
       "126042       190264.0             170.0                   740966.0   \n",
       "126043       469494.0            3470.0                   543560.0   \n",
       "126044       302061.0            6534.0                   312298.0   \n",
       "126045      1114657.0            4056.0                  3293095.0   \n",
       "\n",
       "        Rental Vacancy Rate_lagged_2  GRAPI_lagged_2  P_Density_lagged_2  \n",
       "0                                3.6           748.8          721.053620  \n",
       "1                                9.5             1.5          500.798725  \n",
       "2                                3.3           338.3         1653.655687  \n",
       "3                                4.4           130.8         2591.963428  \n",
       "4                                5.9             1.6          253.646750  \n",
       "...                              ...             ...                 ...  \n",
       "126041                           1.6             1.4         1020.123254  \n",
       "126042                           9.5             2.0          261.375347  \n",
       "126043                           4.2             1.9         1547.707528  \n",
       "126044                           5.8           117.0          999.244844  \n",
       "126045                           3.0             2.2         2140.068851  \n",
       "\n",
       "[126046 rows x 6 columns]"
      ]
     },
     "execution_count": 11,
     "metadata": {},
     "output_type": "execute_result"
    }
   ],
   "source": [
    "calculate_vif_(pd.concat([train_MLR.iloc[:, 4:].reset_index().drop('index', axis = 1), \n",
    "                          pd.DataFrame(np.array(1).repeat(train_MLR.shape[0]).reshape(-1, 1),\n",
    "                                       columns = ['Constant'])], axis = 1),\n",
    "               thresh = 5)"
   ]
  },
  {
   "cell_type": "code",
   "execution_count": 12,
   "metadata": {},
   "outputs": [],
   "source": [
    "# Left with 6 final features after removing multicollinear features\n",
    "df_clean_MLR = df_clean_MLR[['Year', 'Month', 'ZipCode', 'ZORI', 'ZHVI_lagged_1', 'Permits_lagged_1',\n",
    "                             'Total_Households_lagged_2', 'Rental Vacancy Rate_lagged_2', 'P_Density_lagged_2',\n",
    "                             'GRAPI_lagged_2']]\n",
    "df_pred_MLR = df_pred_MLR[['Year', 'Month', 'ZipCode', 'ZHVI_lagged_1', 'Permits_lagged_1', 'Total_Households_lagged_2', \n",
    "                           'Rental Vacancy Rate_lagged_2', 'P_Density_lagged_2', 'GRAPI_lagged_2']]\n",
    "train_MLR = train_MLR[['Year', 'Month', 'ZipCode', 'ZORI', 'ZHVI_lagged_1', 'Permits_lagged_1', 'Total_Households_lagged_2',\n",
    "                       'Rental Vacancy Rate_lagged_2', 'P_Density_lagged_2', 'GRAPI_lagged_2']]\n",
    "test_MLR = test_MLR[['Year', 'Month', 'ZipCode', 'ZORI', 'ZHVI_lagged_1', 'Permits_lagged_1', 'Total_Households_lagged_2',\n",
    "             'Rental Vacancy Rate_lagged_2', 'P_Density_lagged_2', 'GRAPI_lagged_2']]"
   ]
  },
  {
   "cell_type": "code",
   "execution_count": 13,
   "metadata": {},
   "outputs": [
    {
     "data": {
      "text/plain": [
       "0.7143874617063244"
      ]
     },
     "execution_count": 13,
     "metadata": {},
     "output_type": "execute_result"
    }
   ],
   "source": [
    "regression = LinearRegression()\n",
    "regression.fit(train_MLR.iloc[:, 4:], train_MLR.iloc[:, 3])\n",
    "regression.score(train_MLR.iloc[:, 4:], train_MLR.iloc[:, 3])"
   ]
  },
  {
   "cell_type": "code",
   "execution_count": 14,
   "metadata": {},
   "outputs": [
    {
     "data": {
      "text/plain": [
       "0.7119582640825751"
      ]
     },
     "execution_count": 14,
     "metadata": {},
     "output_type": "execute_result"
    }
   ],
   "source": [
    "r2_score(test_MLR.iloc[:, 3], regression.predict(test_MLR.iloc[:, 4:]))"
   ]
  },
  {
   "cell_type": "code",
   "execution_count": 93,
   "metadata": {},
   "outputs": [
    {
     "data": {
      "text/plain": [
       "293.2793119149558"
      ]
     },
     "execution_count": 93,
     "metadata": {},
     "output_type": "execute_result"
    }
   ],
   "source": [
    "mean_squared_error(test_MLR.iloc[:, 3], regression.predict(test_MLR.iloc[:, 4:]), squared = False)"
   ]
  },
  {
   "cell_type": "code",
   "execution_count": 15,
   "metadata": {},
   "outputs": [
    {
     "data": {
      "text/plain": [
       "LinearRegression()"
      ]
     },
     "execution_count": 15,
     "metadata": {},
     "output_type": "execute_result"
    }
   ],
   "source": [
    "# Refit using the entire dataset\n",
    "regression.fit(df_clean_MLR.iloc[:, 4:], df_clean_MLR.iloc[:, 3])"
   ]
  },
  {
   "cell_type": "code",
   "execution_count": 157,
   "metadata": {},
   "outputs": [],
   "source": [
    "# Prediction on a randomly chosen ZipCode\n",
    "zipcode = 85032\n",
    "df_pred_zipcode = df_pred_MLR[df_pred_MLR['ZipCode'] == zipcode]\n",
    "pred_MLR = regression.predict(df_pred_zipcode.iloc[:, 3:])"
   ]
  },
  {
   "cell_type": "code",
   "execution_count": 158,
   "metadata": {},
   "outputs": [],
   "source": [
    "pred_MLR = pd.DataFrame({'Year': df_pred_zipcode['Year'], 'Month': df_pred_zipcode['Month'], \n",
    "                         'ZORI_MLR': pred_MLR}).reset_index().drop('index', axis = 1)\n",
    "pred_MLR['Year_Month'] = pred_MLR['Year'].map(str) + '_' + pred_MLR['Month'].map(str)\n",
    "pred_MLR = pred_MLR[['Year_Month', 'ZORI_MLR']]\n",
    "pred_MLR['Year_Month'] = pd.to_datetime(pred_MLR['Year_Month'], format = '%Y_%m')"
   ]
  },
  {
   "cell_type": "code",
   "execution_count": 159,
   "metadata": {},
   "outputs": [],
   "source": [
    "actual = zori[zori['ZipCode'] == zipcode][['Year_Month', 'ZORI']]\n",
    "actual['Year_Month'] = pd.to_datetime(actual['Year_Month'], format = '%Y_%m')"
   ]
  },
  {
   "cell_type": "code",
   "execution_count": 160,
   "metadata": {},
   "outputs": [
    {
     "data": {
      "image/png": "[encoded data removed]",
      "text/plain": [
       "<Figure size 432x288 with 1 Axes>"
      ]
     },
     "metadata": {
      "needs_background": "light"
     },
     "output_type": "display_data"
    }
   ],
   "source": [
    "sns.lineplot(x = 'Year_Month', y = 'ZORI', data = actual)\n",
    "sns.lineplot(x = 'Year_Month', y = 'ZORI_MLR', data = pred_MLR)\n",
    "plt.title(f'ZORI for {zipcode}');"
   ]
  },
  {
   "cell_type": "markdown",
   "metadata": {},
   "source": [
    "## Gradient Boosting Regressor on ZORI"
   ]
  },
  {
   "cell_type": "code",
   "execution_count": 20,
   "metadata": {},
   "outputs": [],
   "source": [
    "gbm = ensemble.GradientBoostingRegressor()"
   ]
  },
  {
   "cell_type": "code",
   "execution_count": 21,
   "metadata": {},
   "outputs": [
    {
     "data": {
      "text/plain": [
       "GridSearchCV(cv=5, estimator=GradientBoostingRegressor(), n_jobs=-1,\n",
       "             param_grid=[{'criterion': ['mse'], 'learning_rate': [0.01],\n",
       "                          'loss': ['ls'], 'max_depth': [2, 4, 6, 8, 10],\n",
       "                          'max_features': [10], 'n_estimators': [250, 500, 750],\n",
       "                          'subsample': [0.7]}],\n",
       "             return_train_score=True)"
      ]
     },
     "execution_count": 21,
     "metadata": {},
     "output_type": "execute_result"
    }
   ],
   "source": [
    "grid_para_gbm = [{\n",
    "    \"loss\": ['ls'], \n",
    "    \"criterion\": ['mse'],\n",
    "    \"n_estimators\": [250, 500, 750], \n",
    "    \"learning_rate\": [0.01], \n",
    "    \"subsample\": [0.7],\n",
    "    \"max_depth\": [2, 4, 6, 8, 10], \n",
    "    \"max_features\": [10]}]\n",
    "\n",
    "grid_search_gbm = GridSearchCV(gbm, grid_para_gbm, cv = 5, n_jobs = -1, return_train_score = True)\n",
    "grid_search_gbm.fit(train.iloc[:, 4:], train.iloc[:, 3])"
   ]
  },
  {
   "cell_type": "code",
   "execution_count": 22,
   "metadata": {},
   "outputs": [
    {
     "data": {
      "text/html": [
       "<div>\n",
       "<style scoped>\n",
       "    .dataframe tbody tr th:only-of-type {\n",
       "        vertical-align: middle;\n",
       "    }\n",
       "\n",
       "    .dataframe tbody tr th {\n",
       "        vertical-align: top;\n",
       "    }\n",
       "\n",
       "    .dataframe thead th {\n",
       "        text-align: right;\n",
       "    }\n",
       "</style>\n",
       "<table border=\"1\" class=\"dataframe\">\n",
       "  <thead>\n",
       "    <tr style=\"text-align: right;\">\n",
       "      <th></th>\n",
       "      <th>hyperparameter</th>\n",
       "    </tr>\n",
       "  </thead>\n",
       "  <tbody>\n",
       "    <tr>\n",
       "      <th>criterion</th>\n",
       "      <td>mse</td>\n",
       "    </tr>\n",
       "    <tr>\n",
       "      <th>learning_rate</th>\n",
       "      <td>0.01</td>\n",
       "    </tr>\n",
       "    <tr>\n",
       "      <th>loss</th>\n",
       "      <td>ls</td>\n",
       "    </tr>\n",
       "    <tr>\n",
       "      <th>max_depth</th>\n",
       "      <td>10</td>\n",
       "    </tr>\n",
       "    <tr>\n",
       "      <th>max_features</th>\n",
       "      <td>10</td>\n",
       "    </tr>\n",
       "    <tr>\n",
       "      <th>n_estimators</th>\n",
       "      <td>750</td>\n",
       "    </tr>\n",
       "    <tr>\n",
       "      <th>subsample</th>\n",
       "      <td>0.7</td>\n",
       "    </tr>\n",
       "  </tbody>\n",
       "</table>\n",
       "</div>"
      ],
      "text/plain": [
       "              hyperparameter\n",
       "criterion                mse\n",
       "learning_rate           0.01\n",
       "loss                      ls\n",
       "max_depth                 10\n",
       "max_features              10\n",
       "n_estimators             750\n",
       "subsample                0.7"
      ]
     },
     "execution_count": 22,
     "metadata": {},
     "output_type": "execute_result"
    }
   ],
   "source": [
    "pd.DataFrame.from_dict(grid_search_gbm.best_params_, orient = 'index', columns = ['hyperparameter'])"
   ]
  },
  {
   "cell_type": "code",
   "execution_count": 23,
   "metadata": {},
   "outputs": [
    {
     "data": {
      "text/plain": [
       "0.9457511191612481"
      ]
     },
     "execution_count": 23,
     "metadata": {},
     "output_type": "execute_result"
    }
   ],
   "source": [
    "grid_search_gbm.cv_results_['mean_train_score'][0]"
   ]
  },
  {
   "cell_type": "code",
   "execution_count": 24,
   "metadata": {},
   "outputs": [
    {
     "data": {
      "text/plain": [
       "0.9984151791806368"
      ]
     },
     "execution_count": 24,
     "metadata": {},
     "output_type": "execute_result"
    }
   ],
   "source": [
    "grid_search_gbm.score(test.iloc[:, 4:], test.iloc[:, 3])"
   ]
  },
  {
   "cell_type": "code",
   "execution_count": 94,
   "metadata": {},
   "outputs": [
    {
     "data": {
      "text/plain": [
       "17.3070716068167"
      ]
     },
     "execution_count": 94,
     "metadata": {},
     "output_type": "execute_result"
    }
   ],
   "source": [
    "mean_squared_error(test.iloc[:, 3], grid_search_gbm.predict(test.iloc[:, 4:]), squared = False)"
   ]
  },
  {
   "cell_type": "code",
   "execution_count": 25,
   "metadata": {},
   "outputs": [
    {
     "data": {
      "text/plain": [
       "GridSearchCV(cv=5, estimator=GradientBoostingRegressor(), n_jobs=-1,\n",
       "             param_grid=[{'criterion': ['mse'], 'learning_rate': [0.01],\n",
       "                          'loss': ['ls'], 'max_depth': [2, 4, 6, 8, 10],\n",
       "                          'max_features': [10], 'n_estimators': [250, 500, 750],\n",
       "                          'subsample': [0.7]}],\n",
       "             return_train_score=True)"
      ]
     },
     "execution_count": 25,
     "metadata": {},
     "output_type": "execute_result"
    }
   ],
   "source": [
    "# Refit using the entire dataset\n",
    "grid_search_gbm.fit(df_clean.iloc[:, 4:], df_clean.iloc[:, 3])"
   ]
  },
  {
   "cell_type": "code",
   "execution_count": 161,
   "metadata": {},
   "outputs": [],
   "source": [
    "# Prediction on a randomly chosen ZipCode\n",
    "df_pred_zipcode = df_pred[df_pred['ZipCode'] == zipcode]\n",
    "pred_GBM = grid_search_gbm.predict(df_pred_zipcode.iloc[:, 3:])"
   ]
  },
  {
   "cell_type": "code",
   "execution_count": 162,
   "metadata": {},
   "outputs": [],
   "source": [
    "pred_GBM = pd.DataFrame({'Year': df_pred_zipcode['Year'], 'Month': df_pred_zipcode['Month'], \n",
    "                         'ZORI_GBM': pred_GBM}).reset_index().drop('index', axis = 1)\n",
    "pred_GBM['Year_Month'] = pred_GBM['Year'].map(str) + '_' + pred_GBM['Month'].map(str)\n",
    "pred_GBM = pred_GBM[['Year_Month', 'ZORI_GBM']]\n",
    "pred_GBM['Year_Month'] = pd.to_datetime(pred_GBM['Year_Month'], format = '%Y_%m')"
   ]
  },
  {
   "cell_type": "code",
   "execution_count": 163,
   "metadata": {},
   "outputs": [],
   "source": [
    "actual = zori[zori['ZipCode'] == zipcode][['Year_Month', 'ZORI']]\n",
    "actual['Year_Month'] = pd.to_datetime(actual['Year_Month'], format = '%Y_%m')"
   ]
  },
  {
   "cell_type": "code",
   "execution_count": 164,
   "metadata": {},
   "outputs": [
    {
     "data": {
      "image/png": "[encoded data removed]",
      "text/plain": [
       "<Figure size 432x288 with 1 Axes>"
      ]
     },
     "metadata": {
      "needs_background": "light"
     },
     "output_type": "display_data"
    }
   ],
   "source": [
    "sns.lineplot(x = 'Year_Month', y = 'ZORI', data = actual)\n",
    "sns.lineplot(x = 'Year_Month', y = 'ZORI_GBM', data = pred_GBM)\n",
    "plt.title(f'ZORI for {zipcode}');"
   ]
  },
  {
   "cell_type": "markdown",
   "metadata": {},
   "source": [
    "## Random Forest Regressor on ZORI"
   ]
  },
  {
   "cell_type": "code",
   "execution_count": 30,
   "metadata": {},
   "outputs": [],
   "source": [
    "randomForest = ensemble.RandomForestRegressor()"
   ]
  },
  {
   "cell_type": "code",
   "execution_count": 31,
   "metadata": {},
   "outputs": [
    {
     "data": {
      "text/plain": [
       "GridSearchCV(cv=5, estimator=RandomForestRegressor(), n_jobs=-1,\n",
       "             param_grid=[{'criterion': ['mse'], 'max_depth': [11, 12, 13],\n",
       "                          'max_features': ['sqrt'],\n",
       "                          'min_samples_leaf': [50, 75, 100],\n",
       "                          'n_estimators': [300]}],\n",
       "             return_train_score=True)"
      ]
     },
     "execution_count": 31,
     "metadata": {},
     "output_type": "execute_result"
    }
   ],
   "source": [
    "grid_para_forest = [{\n",
    "    \"n_estimators\": [300],\n",
    "    \"criterion\": [\"mse\"],\n",
    "    \"min_samples_leaf\": [50, 75, 100],\n",
    "    \"max_depth\": [11, 12, 13], \n",
    "    \"max_features\": ['sqrt']}]\n",
    "\n",
    "grid_search_forest = GridSearchCV(randomForest, grid_para_forest, cv = 5, n_jobs = -1, return_train_score = True)\n",
    "grid_search_forest.fit(train.iloc[:, 4:], train.iloc[:, 3])"
   ]
  },
  {
   "cell_type": "code",
   "execution_count": 32,
   "metadata": {},
   "outputs": [
    {
     "data": {
      "text/html": [
       "<div>\n",
       "<style scoped>\n",
       "    .dataframe tbody tr th:only-of-type {\n",
       "        vertical-align: middle;\n",
       "    }\n",
       "\n",
       "    .dataframe tbody tr th {\n",
       "        vertical-align: top;\n",
       "    }\n",
       "\n",
       "    .dataframe thead th {\n",
       "        text-align: right;\n",
       "    }\n",
       "</style>\n",
       "<table border=\"1\" class=\"dataframe\">\n",
       "  <thead>\n",
       "    <tr style=\"text-align: right;\">\n",
       "      <th></th>\n",
       "      <th>hyperparameter</th>\n",
       "    </tr>\n",
       "  </thead>\n",
       "  <tbody>\n",
       "    <tr>\n",
       "      <th>criterion</th>\n",
       "      <td>mse</td>\n",
       "    </tr>\n",
       "    <tr>\n",
       "      <th>max_depth</th>\n",
       "      <td>13</td>\n",
       "    </tr>\n",
       "    <tr>\n",
       "      <th>max_features</th>\n",
       "      <td>sqrt</td>\n",
       "    </tr>\n",
       "    <tr>\n",
       "      <th>min_samples_leaf</th>\n",
       "      <td>50</td>\n",
       "    </tr>\n",
       "    <tr>\n",
       "      <th>n_estimators</th>\n",
       "      <td>300</td>\n",
       "    </tr>\n",
       "  </tbody>\n",
       "</table>\n",
       "</div>"
      ],
      "text/plain": [
       "                 hyperparameter\n",
       "criterion                   mse\n",
       "max_depth                    13\n",
       "max_features               sqrt\n",
       "min_samples_leaf             50\n",
       "n_estimators                300"
      ]
     },
     "execution_count": 32,
     "metadata": {},
     "output_type": "execute_result"
    }
   ],
   "source": [
    "pd.DataFrame.from_dict(grid_search_forest.best_params_, orient = 'index', columns = ['hyperparameter'])"
   ]
  },
  {
   "cell_type": "code",
   "execution_count": 33,
   "metadata": {},
   "outputs": [
    {
     "data": {
      "text/plain": [
       "0.983811822031085"
      ]
     },
     "execution_count": 33,
     "metadata": {},
     "output_type": "execute_result"
    }
   ],
   "source": [
    "grid_search_forest.cv_results_['mean_train_score'][0]"
   ]
  },
  {
   "cell_type": "code",
   "execution_count": 34,
   "metadata": {},
   "outputs": [
    {
     "data": {
      "text/plain": [
       "0.9861248263269438"
      ]
     },
     "execution_count": 34,
     "metadata": {},
     "output_type": "execute_result"
    }
   ],
   "source": [
    "grid_search_forest.score(test.iloc[:, 4:], test.iloc[:, 3])"
   ]
  },
  {
   "cell_type": "code",
   "execution_count": 95,
   "metadata": {},
   "outputs": [
    {
     "data": {
      "text/plain": [
       "57.14455073551606"
      ]
     },
     "execution_count": 95,
     "metadata": {},
     "output_type": "execute_result"
    }
   ],
   "source": [
    "mean_squared_error(test.iloc[:, 3], grid_search_forest.predict(test.iloc[:, 4:]), squared = False)"
   ]
  },
  {
   "cell_type": "code",
   "execution_count": 35,
   "metadata": {},
   "outputs": [
    {
     "data": {
      "text/plain": [
       "GridSearchCV(cv=5, estimator=RandomForestRegressor(), n_jobs=-1,\n",
       "             param_grid=[{'criterion': ['mse'], 'max_depth': [11, 12, 13],\n",
       "                          'max_features': ['sqrt'],\n",
       "                          'min_samples_leaf': [50, 75, 100],\n",
       "                          'n_estimators': [300]}],\n",
       "             return_train_score=True)"
      ]
     },
     "execution_count": 35,
     "metadata": {},
     "output_type": "execute_result"
    }
   ],
   "source": [
    "# Refit using the entire dataset\n",
    "grid_search_forest.fit(df_clean.iloc[:, 4:], df_clean.iloc[:, 3])"
   ]
  },
  {
   "cell_type": "code",
   "execution_count": 165,
   "metadata": {},
   "outputs": [],
   "source": [
    "# Prediction on a randomly chosen ZipCode\n",
    "df_pred_zipcode = df_pred[df_pred['ZipCode'] == zipcode]\n",
    "pred_RF = grid_search_forest.predict(df_pred_zipcode.iloc[:, 3:])"
   ]
  },
  {
   "cell_type": "code",
   "execution_count": 166,
   "metadata": {},
   "outputs": [],
   "source": [
    "pred_RF = pd.DataFrame({'Year': df_pred_zipcode['Year'], 'Month': df_pred_zipcode['Month'], \n",
    "                     'ZORI_RF': pred_RF}).reset_index().drop('index', axis = 1)\n",
    "pred_RF['Year_Month'] = pred_RF['Year'].map(str) + '_' + pred_RF['Month'].map(str)\n",
    "pred_RF = pred_RF[['Year_Month', 'ZORI_RF']]\n",
    "pred_RF['Year_Month'] = pd.to_datetime(pred_RF['Year_Month'], format = '%Y_%m')"
   ]
  },
  {
   "cell_type": "code",
   "execution_count": 167,
   "metadata": {},
   "outputs": [],
   "source": [
    "actual = zori[zori['ZipCode'] == zipcode][['Year_Month', 'ZORI']]\n",
    "actual['Year_Month'] = pd.to_datetime(actual['Year_Month'], format = '%Y_%m')"
   ]
  },
  {
   "cell_type": "code",
   "execution_count": 168,
   "metadata": {},
   "outputs": [
    {
     "data": {
      "image/png": "[encoded data removed]",
      "text/plain": [
       "<Figure size 432x288 with 1 Axes>"
      ]
     },
     "metadata": {
      "needs_background": "light"
     },
     "output_type": "display_data"
    }
   ],
   "source": [
    "sns.lineplot(x = 'Year_Month', y = 'ZORI', data = actual)\n",
    "sns.lineplot(x = 'Year_Month', y = 'ZORI_RF', data = pred_RF)\n",
    "plt.title(f'ZORI for {zipcode}');"
   ]
  },
  {
   "cell_type": "code",
   "execution_count": 40,
   "metadata": {},
   "outputs": [
    {
     "data": {
      "text/html": [
       "<div>\n",
       "<style scoped>\n",
       "    .dataframe tbody tr th:only-of-type {\n",
       "        vertical-align: middle;\n",
       "    }\n",
       "\n",
       "    .dataframe tbody tr th {\n",
       "        vertical-align: top;\n",
       "    }\n",
       "\n",
       "    .dataframe thead th {\n",
       "        text-align: right;\n",
       "    }\n",
       "</style>\n",
       "<table border=\"1\" class=\"dataframe\">\n",
       "  <thead>\n",
       "    <tr style=\"text-align: right;\">\n",
       "      <th></th>\n",
       "      <th>feature</th>\n",
       "      <th>importance</th>\n",
       "    </tr>\n",
       "  </thead>\n",
       "  <tbody>\n",
       "    <tr>\n",
       "      <th>0</th>\n",
       "      <td>ZORI_lagged_1</td>\n",
       "      <td>0.485032</td>\n",
       "    </tr>\n",
       "    <tr>\n",
       "      <th>1</th>\n",
       "      <td>ZHVI_lagged_1</td>\n",
       "      <td>0.239569</td>\n",
       "    </tr>\n",
       "    <tr>\n",
       "      <th>2</th>\n",
       "      <td>HPI_lagged_2</td>\n",
       "      <td>0.056815</td>\n",
       "    </tr>\n",
       "    <tr>\n",
       "      <th>3</th>\n",
       "      <td>Job Openings_lagged_1</td>\n",
       "      <td>0.044352</td>\n",
       "    </tr>\n",
       "    <tr>\n",
       "      <th>4</th>\n",
       "      <td>Med_Income_lagged_2</td>\n",
       "      <td>0.042157</td>\n",
       "    </tr>\n",
       "    <tr>\n",
       "      <th>5</th>\n",
       "      <td>CommuteTime_lagged_2</td>\n",
       "      <td>0.033085</td>\n",
       "    </tr>\n",
       "    <tr>\n",
       "      <th>6</th>\n",
       "      <td>Rental Vacancy Rate_lagged_2</td>\n",
       "      <td>0.025515</td>\n",
       "    </tr>\n",
       "    <tr>\n",
       "      <th>7</th>\n",
       "      <td>Percent Bachelors_lagged_2</td>\n",
       "      <td>0.013780</td>\n",
       "    </tr>\n",
       "    <tr>\n",
       "      <th>8</th>\n",
       "      <td>Permits_lagged_1</td>\n",
       "      <td>0.012647</td>\n",
       "    </tr>\n",
       "    <tr>\n",
       "      <th>9</th>\n",
       "      <td>Population_lagged_2</td>\n",
       "      <td>0.009618</td>\n",
       "    </tr>\n",
       "    <tr>\n",
       "      <th>10</th>\n",
       "      <td>Total_Households_lagged_2</td>\n",
       "      <td>0.009211</td>\n",
       "    </tr>\n",
       "    <tr>\n",
       "      <th>11</th>\n",
       "      <td>P_Density_lagged_2</td>\n",
       "      <td>0.006682</td>\n",
       "    </tr>\n",
       "    <tr>\n",
       "      <th>12</th>\n",
       "      <td>Salwrkr_lagged_2</td>\n",
       "      <td>0.005992</td>\n",
       "    </tr>\n",
       "    <tr>\n",
       "      <th>13</th>\n",
       "      <td>Gini_Index_lagged_2</td>\n",
       "      <td>0.005009</td>\n",
       "    </tr>\n",
       "    <tr>\n",
       "      <th>14</th>\n",
       "      <td>Govwrkr_lagged_2</td>\n",
       "      <td>0.004047</td>\n",
       "    </tr>\n",
       "    <tr>\n",
       "      <th>15</th>\n",
       "      <td>GRAPI_lagged_2</td>\n",
       "      <td>0.004033</td>\n",
       "    </tr>\n",
       "    <tr>\n",
       "      <th>16</th>\n",
       "      <td>Unemployment_lagged_1</td>\n",
       "      <td>0.001485</td>\n",
       "    </tr>\n",
       "    <tr>\n",
       "      <th>17</th>\n",
       "      <td>AQI_lagged_1</td>\n",
       "      <td>0.000780</td>\n",
       "    </tr>\n",
       "    <tr>\n",
       "      <th>18</th>\n",
       "      <td>PCE_lagged_1</td>\n",
       "      <td>0.000192</td>\n",
       "    </tr>\n",
       "  </tbody>\n",
       "</table>\n",
       "</div>"
      ],
      "text/plain": [
       "                         feature  importance\n",
       "0                  ZORI_lagged_1    0.485032\n",
       "1                  ZHVI_lagged_1    0.239569\n",
       "2                   HPI_lagged_2    0.056815\n",
       "3          Job Openings_lagged_1    0.044352\n",
       "4            Med_Income_lagged_2    0.042157\n",
       "5           CommuteTime_lagged_2    0.033085\n",
       "6   Rental Vacancy Rate_lagged_2    0.025515\n",
       "7     Percent Bachelors_lagged_2    0.013780\n",
       "8               Permits_lagged_1    0.012647\n",
       "9            Population_lagged_2    0.009618\n",
       "10     Total_Households_lagged_2    0.009211\n",
       "11            P_Density_lagged_2    0.006682\n",
       "12              Salwrkr_lagged_2    0.005992\n",
       "13           Gini_Index_lagged_2    0.005009\n",
       "14              Govwrkr_lagged_2    0.004047\n",
       "15                GRAPI_lagged_2    0.004033\n",
       "16         Unemployment_lagged_1    0.001485\n",
       "17                  AQI_lagged_1    0.000780\n",
       "18                  PCE_lagged_1    0.000192"
      ]
     },
     "execution_count": 40,
     "metadata": {},
     "output_type": "execute_result"
    }
   ],
   "source": [
    "feature_importance = list(zip(df_pred_zipcode.columns[3:], grid_search_forest.best_estimator_.feature_importances_))\n",
    "pd.DataFrame(sorted(feature_importance, key = lambda x: x[1], reverse = True), columns = ['feature', 'importance']).head(25)"
   ]
  },
  {
   "cell_type": "markdown",
   "metadata": {},
   "source": [
    "## Multiple Linear Regression on % Change in ZORI "
   ]
  },
  {
   "cell_type": "code",
   "execution_count": 41,
   "metadata": {},
   "outputs": [
    {
     "data": {
      "text/plain": [
       "GridSearchCV(cv=5, estimator=Lasso(max_iter=2500), n_jobs=-1,\n",
       "             param_grid=[{'alpha': array([1.0e-06, 2.0e-06, 3.0e-06, 4.0e-06, 5.0e-06, 6.0e-06, 7.0e-06,\n",
       "       8.0e-06, 9.0e-06, 1.0e-05, 1.1e-05, 1.2e-05, 1.3e-05, 1.4e-05,\n",
       "       1.5e-05, 1.6e-05, 1.7e-05, 1.8e-05, 1.9e-05, 2.0e-05, 2.1e-05,\n",
       "       2.2e-05, 2.3e-05, 2.4e-05, 2.5e-05, 2.6e-05, 2.7e-05, 2.8e-05,\n",
       "       2.9e-05, 3.0e-05, 3.1e-05, 3.2e-05, 3.3e-05...\n",
       "       5.7e-05, 5.8e-05, 5.9e-05, 6.0e-05, 6.1e-05, 6.2e-05, 6.3e-05,\n",
       "       6.4e-05, 6.5e-05, 6.6e-05, 6.7e-05, 6.8e-05, 6.9e-05, 7.0e-05,\n",
       "       7.1e-05, 7.2e-05, 7.3e-05, 7.4e-05, 7.5e-05, 7.6e-05, 7.7e-05,\n",
       "       7.8e-05, 7.9e-05, 8.0e-05, 8.1e-05, 8.2e-05, 8.3e-05, 8.4e-05,\n",
       "       8.5e-05, 8.6e-05, 8.7e-05, 8.8e-05, 8.9e-05, 9.0e-05, 9.1e-05,\n",
       "       9.2e-05, 9.3e-05, 9.4e-05, 9.5e-05, 9.6e-05, 9.7e-05, 9.8e-05,\n",
       "       9.9e-05, 1.0e-04])}],\n",
       "             return_train_score=True)"
      ]
     },
     "execution_count": 41,
     "metadata": {},
     "output_type": "execute_result"
    }
   ],
   "source": [
    "# Lasso penalization to assess feature significance\n",
    "scaler = StandardScaler()\n",
    "data = train_change.iloc[:, 4:].copy()\n",
    "scaler.fit(data)\n",
    "scaled_data = pd.DataFrame(scaler.transform(data), columns = data.columns)\n",
    "\n",
    "lasso_change = Lasso(max_iter = 2500)\n",
    "\n",
    "grid_para_lasso_change = [{\"alpha\": np.linspace(1e-6, 1e-4, 100)}]\n",
    "\n",
    "grid_search_lasso_change = GridSearchCV(lasso_change, grid_para_lasso_change, cv = 5, n_jobs = -1,\n",
    "                                        return_train_score = True)\n",
    "grid_search_lasso_change.fit(scaled_data, train_change.iloc[:, 3])"
   ]
  },
  {
   "cell_type": "code",
   "execution_count": 42,
   "metadata": {},
   "outputs": [
    {
     "data": {
      "text/html": [
       "<div>\n",
       "<style scoped>\n",
       "    .dataframe tbody tr th:only-of-type {\n",
       "        vertical-align: middle;\n",
       "    }\n",
       "\n",
       "    .dataframe tbody tr th {\n",
       "        vertical-align: top;\n",
       "    }\n",
       "\n",
       "    .dataframe thead th {\n",
       "        text-align: right;\n",
       "    }\n",
       "</style>\n",
       "<table border=\"1\" class=\"dataframe\">\n",
       "  <thead>\n",
       "    <tr style=\"text-align: right;\">\n",
       "      <th></th>\n",
       "      <th>Coefficient for alpha = 7.000000000000001e-06</th>\n",
       "    </tr>\n",
       "  </thead>\n",
       "  <tbody>\n",
       "    <tr>\n",
       "      <th>ZHVI_lagged_1_delta</th>\n",
       "      <td>0.007295</td>\n",
       "    </tr>\n",
       "    <tr>\n",
       "      <th>HPI_lagged_2_delta</th>\n",
       "      <td>0.003028</td>\n",
       "    </tr>\n",
       "    <tr>\n",
       "      <th>AQI_lagged_1_delta</th>\n",
       "      <td>-0.000157</td>\n",
       "    </tr>\n",
       "    <tr>\n",
       "      <th>Population_lagged_2_delta</th>\n",
       "      <td>0.002918</td>\n",
       "    </tr>\n",
       "    <tr>\n",
       "      <th>Unemployment_lagged_1_delta</th>\n",
       "      <td>-0.002092</td>\n",
       "    </tr>\n",
       "    <tr>\n",
       "      <th>Percent Bachelors_lagged_2_delta</th>\n",
       "      <td>-0.000225</td>\n",
       "    </tr>\n",
       "    <tr>\n",
       "      <th>Permits_lagged_1_delta</th>\n",
       "      <td>-0.000259</td>\n",
       "    </tr>\n",
       "    <tr>\n",
       "      <th>Total_Households_lagged_2_delta</th>\n",
       "      <td>-0.000378</td>\n",
       "    </tr>\n",
       "    <tr>\n",
       "      <th>Med_Income_lagged_2_delta</th>\n",
       "      <td>0.000046</td>\n",
       "    </tr>\n",
       "    <tr>\n",
       "      <th>PCE_lagged_1_delta</th>\n",
       "      <td>-0.001623</td>\n",
       "    </tr>\n",
       "    <tr>\n",
       "      <th>Rental Vacancy Rate_lagged_2_delta</th>\n",
       "      <td>-0.001735</td>\n",
       "    </tr>\n",
       "    <tr>\n",
       "      <th>Job Openings_lagged_1_delta</th>\n",
       "      <td>0.001886</td>\n",
       "    </tr>\n",
       "    <tr>\n",
       "      <th>CommuteTime_lagged_2_delta</th>\n",
       "      <td>0.000563</td>\n",
       "    </tr>\n",
       "    <tr>\n",
       "      <th>Salwrkr_lagged_2_delta</th>\n",
       "      <td>0.000569</td>\n",
       "    </tr>\n",
       "    <tr>\n",
       "      <th>Govwrkr_lagged_2_delta</th>\n",
       "      <td>0.000861</td>\n",
       "    </tr>\n",
       "    <tr>\n",
       "      <th>GRAPI_lagged_2_delta</th>\n",
       "      <td>0.000295</td>\n",
       "    </tr>\n",
       "    <tr>\n",
       "      <th>P_Density_lagged_2_delta</th>\n",
       "      <td>-0.000856</td>\n",
       "    </tr>\n",
       "    <tr>\n",
       "      <th>Gini_Index_lagged_2_delta</th>\n",
       "      <td>-0.000192</td>\n",
       "    </tr>\n",
       "  </tbody>\n",
       "</table>\n",
       "</div>"
      ],
      "text/plain": [
       "                                    Coefficient for alpha = 7.000000000000001e-06\n",
       "ZHVI_lagged_1_delta                                                      0.007295\n",
       "HPI_lagged_2_delta                                                       0.003028\n",
       "AQI_lagged_1_delta                                                      -0.000157\n",
       "Population_lagged_2_delta                                                0.002918\n",
       "Unemployment_lagged_1_delta                                             -0.002092\n",
       "Percent Bachelors_lagged_2_delta                                        -0.000225\n",
       "Permits_lagged_1_delta                                                  -0.000259\n",
       "Total_Households_lagged_2_delta                                         -0.000378\n",
       "Med_Income_lagged_2_delta                                                0.000046\n",
       "PCE_lagged_1_delta                                                      -0.001623\n",
       "Rental Vacancy Rate_lagged_2_delta                                      -0.001735\n",
       "Job Openings_lagged_1_delta                                              0.001886\n",
       "CommuteTime_lagged_2_delta                                               0.000563\n",
       "Salwrkr_lagged_2_delta                                                   0.000569\n",
       "Govwrkr_lagged_2_delta                                                   0.000861\n",
       "GRAPI_lagged_2_delta                                                     0.000295\n",
       "P_Density_lagged_2_delta                                                -0.000856\n",
       "Gini_Index_lagged_2_delta                                               -0.000192"
      ]
     },
     "execution_count": 42,
     "metadata": {},
     "output_type": "execute_result"
    }
   ],
   "source": [
    "pd.DataFrame(grid_search_lasso_change.best_estimator_.coef_.reshape(-1, 1), index = train_change.iloc[:, 4:].columns, \n",
    "             columns = [f\"Coefficient for alpha = {grid_search_lasso_change.best_params_['alpha']}\"])"
   ]
  },
  {
   "cell_type": "code",
   "execution_count": 43,
   "metadata": {},
   "outputs": [],
   "source": [
    "# Drop Gini_Index_lagged_2_delta since coefficient is closest to 0\n",
    "df_change_MLR = df_change.drop('Gini_Index_lagged_2_delta', axis = 1)\n",
    "df_pred_change_MLR = df_pred_change.drop('Gini_Index_lagged_2_delta', axis = 1)\n",
    "train_change_MLR = train_change.drop('Gini_Index_lagged_2_delta', axis = 1)\n",
    "test_change_MLR = test_change.drop('Gini_Index_lagged_2_delta', axis = 1)"
   ]
  },
  {
   "cell_type": "code",
   "execution_count": 44,
   "metadata": {},
   "outputs": [
    {
     "name": "stdout",
     "output_type": "stream",
     "text": [
      "dropping 'Constant' at index: 17\n",
      "\n",
      "Remaining variables:\n",
      "Index(['ZHVI_lagged_1_delta', 'HPI_lagged_2_delta', 'AQI_lagged_1_delta',\n",
      "       'Population_lagged_2_delta', 'Unemployment_lagged_1_delta',\n",
      "       'Percent Bachelors_lagged_2_delta', 'Permits_lagged_1_delta',\n",
      "       'Total_Households_lagged_2_delta', 'Med_Income_lagged_2_delta',\n",
      "       'PCE_lagged_1_delta', 'Rental Vacancy Rate_lagged_2_delta',\n",
      "       'Job Openings_lagged_1_delta', 'CommuteTime_lagged_2_delta',\n",
      "       'Salwrkr_lagged_2_delta', 'Govwrkr_lagged_2_delta',\n",
      "       'GRAPI_lagged_2_delta', 'P_Density_lagged_2_delta'],\n",
      "      dtype='object')\n"
     ]
    },
    {
     "data": {
      "text/html": [
       "<div>\n",
       "<style scoped>\n",
       "    .dataframe tbody tr th:only-of-type {\n",
       "        vertical-align: middle;\n",
       "    }\n",
       "\n",
       "    .dataframe tbody tr th {\n",
       "        vertical-align: top;\n",
       "    }\n",
       "\n",
       "    .dataframe thead th {\n",
       "        text-align: right;\n",
       "    }\n",
       "</style>\n",
       "<table border=\"1\" class=\"dataframe\">\n",
       "  <thead>\n",
       "    <tr style=\"text-align: right;\">\n",
       "      <th></th>\n",
       "      <th>ZHVI_lagged_1_delta</th>\n",
       "      <th>HPI_lagged_2_delta</th>\n",
       "      <th>AQI_lagged_1_delta</th>\n",
       "      <th>Population_lagged_2_delta</th>\n",
       "      <th>Unemployment_lagged_1_delta</th>\n",
       "      <th>Percent Bachelors_lagged_2_delta</th>\n",
       "      <th>Permits_lagged_1_delta</th>\n",
       "      <th>Total_Households_lagged_2_delta</th>\n",
       "      <th>Med_Income_lagged_2_delta</th>\n",
       "      <th>PCE_lagged_1_delta</th>\n",
       "      <th>Rental Vacancy Rate_lagged_2_delta</th>\n",
       "      <th>Job Openings_lagged_1_delta</th>\n",
       "      <th>CommuteTime_lagged_2_delta</th>\n",
       "      <th>Salwrkr_lagged_2_delta</th>\n",
       "      <th>Govwrkr_lagged_2_delta</th>\n",
       "      <th>GRAPI_lagged_2_delta</th>\n",
       "      <th>P_Density_lagged_2_delta</th>\n",
       "    </tr>\n",
       "  </thead>\n",
       "  <tbody>\n",
       "    <tr>\n",
       "      <th>0</th>\n",
       "      <td>0.033259</td>\n",
       "      <td>0.074654</td>\n",
       "      <td>0.212027</td>\n",
       "      <td>0.015318</td>\n",
       "      <td>0.111111</td>\n",
       "      <td>-0.037209</td>\n",
       "      <td>17.250000</td>\n",
       "      <td>0.020514</td>\n",
       "      <td>0.016389</td>\n",
       "      <td>0.219622</td>\n",
       "      <td>-0.269663</td>\n",
       "      <td>-0.202703</td>\n",
       "      <td>0.000000</td>\n",
       "      <td>-0.017544</td>\n",
       "      <td>0.020619</td>\n",
       "      <td>-0.991444</td>\n",
       "      <td>0.015318</td>\n",
       "    </tr>\n",
       "    <tr>\n",
       "      <th>1</th>\n",
       "      <td>0.086675</td>\n",
       "      <td>0.081949</td>\n",
       "      <td>0.025641</td>\n",
       "      <td>0.032263</td>\n",
       "      <td>-0.076923</td>\n",
       "      <td>0.109489</td>\n",
       "      <td>0.362010</td>\n",
       "      <td>0.074964</td>\n",
       "      <td>0.065987</td>\n",
       "      <td>0.559821</td>\n",
       "      <td>-0.112245</td>\n",
       "      <td>0.096463</td>\n",
       "      <td>0.038732</td>\n",
       "      <td>-0.011016</td>\n",
       "      <td>0.089431</td>\n",
       "      <td>-0.967532</td>\n",
       "      <td>0.032263</td>\n",
       "    </tr>\n",
       "    <tr>\n",
       "      <th>2</th>\n",
       "      <td>0.138092</td>\n",
       "      <td>0.216548</td>\n",
       "      <td>-0.145206</td>\n",
       "      <td>0.006688</td>\n",
       "      <td>0.114286</td>\n",
       "      <td>0.026415</td>\n",
       "      <td>-0.627273</td>\n",
       "      <td>-0.002573</td>\n",
       "      <td>0.035082</td>\n",
       "      <td>-0.080298</td>\n",
       "      <td>0.404255</td>\n",
       "      <td>-0.068376</td>\n",
       "      <td>0.003745</td>\n",
       "      <td>0.010333</td>\n",
       "      <td>-0.062500</td>\n",
       "      <td>0.000000</td>\n",
       "      <td>0.006688</td>\n",
       "    </tr>\n",
       "    <tr>\n",
       "      <th>3</th>\n",
       "      <td>0.066669</td>\n",
       "      <td>0.066336</td>\n",
       "      <td>0.063850</td>\n",
       "      <td>0.010216</td>\n",
       "      <td>-0.117647</td>\n",
       "      <td>-0.017668</td>\n",
       "      <td>-0.330000</td>\n",
       "      <td>0.005164</td>\n",
       "      <td>0.027586</td>\n",
       "      <td>0.222897</td>\n",
       "      <td>-0.161290</td>\n",
       "      <td>0.359649</td>\n",
       "      <td>0.046025</td>\n",
       "      <td>0.004745</td>\n",
       "      <td>-0.008696</td>\n",
       "      <td>0.000000</td>\n",
       "      <td>0.010216</td>\n",
       "    </tr>\n",
       "    <tr>\n",
       "      <th>4</th>\n",
       "      <td>0.077736</td>\n",
       "      <td>0.057268</td>\n",
       "      <td>0.474377</td>\n",
       "      <td>0.015502</td>\n",
       "      <td>-0.078947</td>\n",
       "      <td>-0.016854</td>\n",
       "      <td>1.064906</td>\n",
       "      <td>0.007152</td>\n",
       "      <td>0.018136</td>\n",
       "      <td>0.392767</td>\n",
       "      <td>0.120482</td>\n",
       "      <td>0.208068</td>\n",
       "      <td>-0.011719</td>\n",
       "      <td>0.000000</td>\n",
       "      <td>-0.050725</td>\n",
       "      <td>0.000000</td>\n",
       "      <td>0.015502</td>\n",
       "    </tr>\n",
       "    <tr>\n",
       "      <th>...</th>\n",
       "      <td>...</td>\n",
       "      <td>...</td>\n",
       "      <td>...</td>\n",
       "      <td>...</td>\n",
       "      <td>...</td>\n",
       "      <td>...</td>\n",
       "      <td>...</td>\n",
       "      <td>...</td>\n",
       "      <td>...</td>\n",
       "      <td>...</td>\n",
       "      <td>...</td>\n",
       "      <td>...</td>\n",
       "      <td>...</td>\n",
       "      <td>...</td>\n",
       "      <td>...</td>\n",
       "      <td>...</td>\n",
       "      <td>...</td>\n",
       "    </tr>\n",
       "    <tr>\n",
       "      <th>128276</th>\n",
       "      <td>0.050774</td>\n",
       "      <td>0.060113</td>\n",
       "      <td>0.147307</td>\n",
       "      <td>0.002524</td>\n",
       "      <td>-0.041667</td>\n",
       "      <td>0.029268</td>\n",
       "      <td>-0.330379</td>\n",
       "      <td>0.001707</td>\n",
       "      <td>0.059800</td>\n",
       "      <td>0.355939</td>\n",
       "      <td>0.137931</td>\n",
       "      <td>0.146893</td>\n",
       "      <td>0.003165</td>\n",
       "      <td>0.000000</td>\n",
       "      <td>-0.008772</td>\n",
       "      <td>0.000000</td>\n",
       "      <td>0.002524</td>\n",
       "    </tr>\n",
       "    <tr>\n",
       "      <th>128277</th>\n",
       "      <td>0.027456</td>\n",
       "      <td>0.031789</td>\n",
       "      <td>0.082251</td>\n",
       "      <td>0.011016</td>\n",
       "      <td>-0.022727</td>\n",
       "      <td>0.023256</td>\n",
       "      <td>-0.004862</td>\n",
       "      <td>0.001452</td>\n",
       "      <td>0.037191</td>\n",
       "      <td>0.203475</td>\n",
       "      <td>0.400000</td>\n",
       "      <td>0.132353</td>\n",
       "      <td>-0.003155</td>\n",
       "      <td>0.009602</td>\n",
       "      <td>-0.014151</td>\n",
       "      <td>-0.048969</td>\n",
       "      <td>0.011016</td>\n",
       "    </tr>\n",
       "    <tr>\n",
       "      <th>128278</th>\n",
       "      <td>0.132206</td>\n",
       "      <td>0.098594</td>\n",
       "      <td>0.298196</td>\n",
       "      <td>-0.003183</td>\n",
       "      <td>-0.134615</td>\n",
       "      <td>0.014851</td>\n",
       "      <td>0.206074</td>\n",
       "      <td>0.003794</td>\n",
       "      <td>0.037271</td>\n",
       "      <td>-0.101121</td>\n",
       "      <td>-0.033333</td>\n",
       "      <td>0.041908</td>\n",
       "      <td>0.022654</td>\n",
       "      <td>-0.005019</td>\n",
       "      <td>0.055556</td>\n",
       "      <td>0.000000</td>\n",
       "      <td>-0.003183</td>\n",
       "    </tr>\n",
       "    <tr>\n",
       "      <th>128279</th>\n",
       "      <td>0.103019</td>\n",
       "      <td>0.178695</td>\n",
       "      <td>0.057464</td>\n",
       "      <td>0.017461</td>\n",
       "      <td>-0.101449</td>\n",
       "      <td>-0.029586</td>\n",
       "      <td>0.081373</td>\n",
       "      <td>0.005237</td>\n",
       "      <td>0.024169</td>\n",
       "      <td>-0.308396</td>\n",
       "      <td>-0.069444</td>\n",
       "      <td>0.155235</td>\n",
       "      <td>0.041379</td>\n",
       "      <td>-0.002427</td>\n",
       "      <td>-0.030000</td>\n",
       "      <td>-0.005733</td>\n",
       "      <td>0.017461</td>\n",
       "    </tr>\n",
       "    <tr>\n",
       "      <th>128280</th>\n",
       "      <td>0.119885</td>\n",
       "      <td>0.187907</td>\n",
       "      <td>-0.039804</td>\n",
       "      <td>0.019399</td>\n",
       "      <td>-0.111111</td>\n",
       "      <td>-0.024876</td>\n",
       "      <td>0.149194</td>\n",
       "      <td>0.022921</td>\n",
       "      <td>0.035565</td>\n",
       "      <td>-0.176428</td>\n",
       "      <td>-0.161290</td>\n",
       "      <td>0.027027</td>\n",
       "      <td>-0.011858</td>\n",
       "      <td>0.001212</td>\n",
       "      <td>-0.042373</td>\n",
       "      <td>0.016419</td>\n",
       "      <td>0.019399</td>\n",
       "    </tr>\n",
       "  </tbody>\n",
       "</table>\n",
       "<p>128281 rows × 17 columns</p>\n",
       "</div>"
      ],
      "text/plain": [
       "        ZHVI_lagged_1_delta  HPI_lagged_2_delta  AQI_lagged_1_delta  \\\n",
       "0                  0.033259            0.074654            0.212027   \n",
       "1                  0.086675            0.081949            0.025641   \n",
       "2                  0.138092            0.216548           -0.145206   \n",
       "3                  0.066669            0.066336            0.063850   \n",
       "4                  0.077736            0.057268            0.474377   \n",
       "...                     ...                 ...                 ...   \n",
       "128276             0.050774            0.060113            0.147307   \n",
       "128277             0.027456            0.031789            0.082251   \n",
       "128278             0.132206            0.098594            0.298196   \n",
       "128279             0.103019            0.178695            0.057464   \n",
       "128280             0.119885            0.187907           -0.039804   \n",
       "\n",
       "        Population_lagged_2_delta  Unemployment_lagged_1_delta  \\\n",
       "0                        0.015318                     0.111111   \n",
       "1                        0.032263                    -0.076923   \n",
       "2                        0.006688                     0.114286   \n",
       "3                        0.010216                    -0.117647   \n",
       "4                        0.015502                    -0.078947   \n",
       "...                           ...                          ...   \n",
       "128276                   0.002524                    -0.041667   \n",
       "128277                   0.011016                    -0.022727   \n",
       "128278                  -0.003183                    -0.134615   \n",
       "128279                   0.017461                    -0.101449   \n",
       "128280                   0.019399                    -0.111111   \n",
       "\n",
       "        Percent Bachelors_lagged_2_delta  Permits_lagged_1_delta  \\\n",
       "0                              -0.037209               17.250000   \n",
       "1                               0.109489                0.362010   \n",
       "2                               0.026415               -0.627273   \n",
       "3                              -0.017668               -0.330000   \n",
       "4                              -0.016854                1.064906   \n",
       "...                                  ...                     ...   \n",
       "128276                          0.029268               -0.330379   \n",
       "128277                          0.023256               -0.004862   \n",
       "128278                          0.014851                0.206074   \n",
       "128279                         -0.029586                0.081373   \n",
       "128280                         -0.024876                0.149194   \n",
       "\n",
       "        Total_Households_lagged_2_delta  Med_Income_lagged_2_delta  \\\n",
       "0                              0.020514                   0.016389   \n",
       "1                              0.074964                   0.065987   \n",
       "2                             -0.002573                   0.035082   \n",
       "3                              0.005164                   0.027586   \n",
       "4                              0.007152                   0.018136   \n",
       "...                                 ...                        ...   \n",
       "128276                         0.001707                   0.059800   \n",
       "128277                         0.001452                   0.037191   \n",
       "128278                         0.003794                   0.037271   \n",
       "128279                         0.005237                   0.024169   \n",
       "128280                         0.022921                   0.035565   \n",
       "\n",
       "        PCE_lagged_1_delta  Rental Vacancy Rate_lagged_2_delta  \\\n",
       "0                 0.219622                           -0.269663   \n",
       "1                 0.559821                           -0.112245   \n",
       "2                -0.080298                            0.404255   \n",
       "3                 0.222897                           -0.161290   \n",
       "4                 0.392767                            0.120482   \n",
       "...                    ...                                 ...   \n",
       "128276            0.355939                            0.137931   \n",
       "128277            0.203475                            0.400000   \n",
       "128278           -0.101121                           -0.033333   \n",
       "128279           -0.308396                           -0.069444   \n",
       "128280           -0.176428                           -0.161290   \n",
       "\n",
       "        Job Openings_lagged_1_delta  CommuteTime_lagged_2_delta  \\\n",
       "0                         -0.202703                    0.000000   \n",
       "1                          0.096463                    0.038732   \n",
       "2                         -0.068376                    0.003745   \n",
       "3                          0.359649                    0.046025   \n",
       "4                          0.208068                   -0.011719   \n",
       "...                             ...                         ...   \n",
       "128276                     0.146893                    0.003165   \n",
       "128277                     0.132353                   -0.003155   \n",
       "128278                     0.041908                    0.022654   \n",
       "128279                     0.155235                    0.041379   \n",
       "128280                     0.027027                   -0.011858   \n",
       "\n",
       "        Salwrkr_lagged_2_delta  Govwrkr_lagged_2_delta  GRAPI_lagged_2_delta  \\\n",
       "0                    -0.017544                0.020619             -0.991444   \n",
       "1                    -0.011016                0.089431             -0.967532   \n",
       "2                     0.010333               -0.062500              0.000000   \n",
       "3                     0.004745               -0.008696              0.000000   \n",
       "4                     0.000000               -0.050725              0.000000   \n",
       "...                        ...                     ...                   ...   \n",
       "128276                0.000000               -0.008772              0.000000   \n",
       "128277                0.009602               -0.014151             -0.048969   \n",
       "128278               -0.005019                0.055556              0.000000   \n",
       "128279               -0.002427               -0.030000             -0.005733   \n",
       "128280                0.001212               -0.042373              0.016419   \n",
       "\n",
       "        P_Density_lagged_2_delta  \n",
       "0                       0.015318  \n",
       "1                       0.032263  \n",
       "2                       0.006688  \n",
       "3                       0.010216  \n",
       "4                       0.015502  \n",
       "...                          ...  \n",
       "128276                  0.002524  \n",
       "128277                  0.011016  \n",
       "128278                 -0.003183  \n",
       "128279                  0.017461  \n",
       "128280                  0.019399  \n",
       "\n",
       "[128281 rows x 17 columns]"
      ]
     },
     "execution_count": 44,
     "metadata": {},
     "output_type": "execute_result"
    }
   ],
   "source": [
    "calculate_vif_(pd.concat([train_change_MLR.iloc[:, 4:].reset_index().drop('index', axis = 1), \n",
    "                          pd.DataFrame(np.array(1).repeat(train_change_MLR.shape[0]).reshape(-1, 1),\n",
    "                                       columns = ['Constant'])], axis = 1),\n",
    "               thresh = 5)"
   ]
  },
  {
   "cell_type": "code",
   "execution_count": 45,
   "metadata": {},
   "outputs": [],
   "source": [
    "# No multicollinearity so all features stay"
   ]
  },
  {
   "cell_type": "code",
   "execution_count": 46,
   "metadata": {},
   "outputs": [
    {
     "data": {
      "text/plain": [
       "0.17422407791708372"
      ]
     },
     "execution_count": 46,
     "metadata": {},
     "output_type": "execute_result"
    }
   ],
   "source": [
    "regression_change = LinearRegression()\n",
    "regression_change.fit(train_change_MLR.iloc[:, 4:], train_change_MLR.iloc[:, 3])\n",
    "regression_change.score(train_change_MLR.iloc[:, 4:], train_change_MLR.iloc[:, 3])"
   ]
  },
  {
   "cell_type": "code",
   "execution_count": 47,
   "metadata": {},
   "outputs": [
    {
     "data": {
      "text/plain": [
       "0.17939519400351267"
      ]
     },
     "execution_count": 47,
     "metadata": {},
     "output_type": "execute_result"
    }
   ],
   "source": [
    "r2_score(test_change_MLR.iloc[:, 3], regression_change.predict(test_change_MLR.iloc[:, 4:]))"
   ]
  },
  {
   "cell_type": "code",
   "execution_count": 96,
   "metadata": {},
   "outputs": [
    {
     "data": {
      "text/plain": [
       "0.025061745219316922"
      ]
     },
     "execution_count": 96,
     "metadata": {},
     "output_type": "execute_result"
    }
   ],
   "source": [
    "mean_squared_error(test_change_MLR.iloc[:, 3], regression_change.predict(test_change_MLR.iloc[:, 4:]), squared = False)"
   ]
  },
  {
   "cell_type": "code",
   "execution_count": 48,
   "metadata": {},
   "outputs": [
    {
     "data": {
      "text/plain": [
       "LinearRegression()"
      ]
     },
     "execution_count": 48,
     "metadata": {},
     "output_type": "execute_result"
    }
   ],
   "source": [
    "# Refit using the entire dataset\n",
    "regression_change.fit(df_change_MLR.iloc[:, 4:], df_change_MLR.iloc[:, 3])"
   ]
  },
  {
   "cell_type": "code",
   "execution_count": 169,
   "metadata": {},
   "outputs": [],
   "source": [
    "# Prediction on a randomly chosen ZipCode\n",
    "df_pred_change_zipcode = df_pred_change_MLR[df_pred_change_MLR['ZipCode'] == zipcode]\n",
    "pred_change_MLR = regression_change.predict(df_pred_change_zipcode.iloc[:, 3:])"
   ]
  },
  {
   "cell_type": "code",
   "execution_count": 170,
   "metadata": {},
   "outputs": [],
   "source": [
    "pred_change_MLR = pd.DataFrame({'Year': df_pred_change_zipcode['Year'], 'Month': df_pred_change_zipcode['Month'], \n",
    "                     'ZORI_MLR': pred_change_MLR}).reset_index().drop('index', axis = 1)\n",
    "pred_change_MLR['Year_Month'] = pred_change_MLR['Year'].map(str) + '_' + pred_change_MLR['Month'].map(str)\n",
    "pred_change_MLR = pred_change_MLR[['Year_Month', 'ZORI_MLR']]\n",
    "pred_change_MLR['Year_Month'] = pd.to_datetime(pred_change_MLR['Year_Month'], format = '%Y_%m')"
   ]
  },
  {
   "cell_type": "code",
   "execution_count": 171,
   "metadata": {},
   "outputs": [],
   "source": [
    "actual = zori[zori['ZipCode'] == zipcode][['Year_Month', 'ZORI']]\n",
    "actual['Year_Month'] = pd.to_datetime(actual['Year_Month'], format = '%Y_%m')"
   ]
  },
  {
   "cell_type": "code",
   "execution_count": 172,
   "metadata": {},
   "outputs": [],
   "source": [
    "pred_change_MLR.loc[:, 'ZORI_MLR'] = np.array(actual[actual['Year_Month'].isin(pred_change_MLR['Year_Month'].map(lambda date:\\\n",
    "                                     date - relativedelta(months = 12)))]['ZORI']) * np.array((1 +\\\n",
    "                                     pred_change_MLR['ZORI_MLR']))"
   ]
  },
  {
   "cell_type": "code",
   "execution_count": 173,
   "metadata": {},
   "outputs": [
    {
     "data": {
      "image/png": "[encoded data removed]",
      "text/plain": [
       "<Figure size 432x288 with 1 Axes>"
      ]
     },
     "metadata": {
      "needs_background": "light"
     },
     "output_type": "display_data"
    }
   ],
   "source": [
    "sns.lineplot(x = 'Year_Month', y = 'ZORI', data = actual)\n",
    "sns.lineplot(x = 'Year_Month', y = 'ZORI_MLR', data = pred_change_MLR)\n",
    "plt.title(f'ZORI for {zipcode}');"
   ]
  },
  {
   "cell_type": "markdown",
   "metadata": {},
   "source": [
    "## Gradient Boosting Regressor on % Change in ZORI"
   ]
  },
  {
   "cell_type": "code",
   "execution_count": 54,
   "metadata": {},
   "outputs": [],
   "source": [
    "gbm_change = ensemble.GradientBoostingRegressor()"
   ]
  },
  {
   "cell_type": "code",
   "execution_count": 55,
   "metadata": {},
   "outputs": [
    {
     "data": {
      "text/plain": [
       "GridSearchCV(cv=5, estimator=GradientBoostingRegressor(), n_jobs=-1,\n",
       "             param_grid=[{'criterion': ['mse'], 'learning_rate': [0.01],\n",
       "                          'loss': ['ls'], 'max_depth': [2, 4, 6, 8, 10],\n",
       "                          'max_features': [10], 'n_estimators': [250, 500, 750],\n",
       "                          'subsample': [0.7]}],\n",
       "             return_train_score=True)"
      ]
     },
     "execution_count": 55,
     "metadata": {},
     "output_type": "execute_result"
    }
   ],
   "source": [
    "grid_para_gbm_change = [{\n",
    "    \"loss\": ['ls'], \n",
    "    \"criterion\": ['mse'],\n",
    "    \"n_estimators\": [250, 500, 750],\n",
    "    \"learning_rate\": [0.01], \n",
    "    \"subsample\": [0.7],\n",
    "    \"max_depth\": [2, 4, 6, 8, 10], \n",
    "    \"max_features\": [10]}]\n",
    "\n",
    "grid_search_gbm_change = GridSearchCV(gbm_change, grid_para_gbm_change, cv = 5, n_jobs = -1, return_train_score = True)\n",
    "grid_search_gbm_change.fit(train_change.iloc[:, 4:], train_change.iloc[:, 3])"
   ]
  },
  {
   "cell_type": "code",
   "execution_count": 56,
   "metadata": {},
   "outputs": [
    {
     "data": {
      "text/html": [
       "<div>\n",
       "<style scoped>\n",
       "    .dataframe tbody tr th:only-of-type {\n",
       "        vertical-align: middle;\n",
       "    }\n",
       "\n",
       "    .dataframe tbody tr th {\n",
       "        vertical-align: top;\n",
       "    }\n",
       "\n",
       "    .dataframe thead th {\n",
       "        text-align: right;\n",
       "    }\n",
       "</style>\n",
       "<table border=\"1\" class=\"dataframe\">\n",
       "  <thead>\n",
       "    <tr style=\"text-align: right;\">\n",
       "      <th></th>\n",
       "      <th>hyperparameter</th>\n",
       "    </tr>\n",
       "  </thead>\n",
       "  <tbody>\n",
       "    <tr>\n",
       "      <th>criterion</th>\n",
       "      <td>mse</td>\n",
       "    </tr>\n",
       "    <tr>\n",
       "      <th>learning_rate</th>\n",
       "      <td>0.01</td>\n",
       "    </tr>\n",
       "    <tr>\n",
       "      <th>loss</th>\n",
       "      <td>ls</td>\n",
       "    </tr>\n",
       "    <tr>\n",
       "      <th>max_depth</th>\n",
       "      <td>10</td>\n",
       "    </tr>\n",
       "    <tr>\n",
       "      <th>max_features</th>\n",
       "      <td>10</td>\n",
       "    </tr>\n",
       "    <tr>\n",
       "      <th>n_estimators</th>\n",
       "      <td>750</td>\n",
       "    </tr>\n",
       "    <tr>\n",
       "      <th>subsample</th>\n",
       "      <td>0.7</td>\n",
       "    </tr>\n",
       "  </tbody>\n",
       "</table>\n",
       "</div>"
      ],
      "text/plain": [
       "              hyperparameter\n",
       "criterion                mse\n",
       "learning_rate           0.01\n",
       "loss                      ls\n",
       "max_depth                 10\n",
       "max_features              10\n",
       "n_estimators             750\n",
       "subsample                0.7"
      ]
     },
     "execution_count": 56,
     "metadata": {},
     "output_type": "execute_result"
    }
   ],
   "source": [
    "pd.DataFrame.from_dict(grid_search_gbm_change.best_params_, orient = 'index', columns = ['hyperparameter'])"
   ]
  },
  {
   "cell_type": "code",
   "execution_count": 57,
   "metadata": {},
   "outputs": [
    {
     "data": {
      "text/plain": [
       "0.19468554812626554"
      ]
     },
     "execution_count": 57,
     "metadata": {},
     "output_type": "execute_result"
    }
   ],
   "source": [
    "grid_search_gbm_change.cv_results_['mean_train_score'][0]"
   ]
  },
  {
   "cell_type": "code",
   "execution_count": 58,
   "metadata": {},
   "outputs": [
    {
     "data": {
      "text/plain": [
       "0.6155905544948749"
      ]
     },
     "execution_count": 58,
     "metadata": {},
     "output_type": "execute_result"
    }
   ],
   "source": [
    "grid_search_gbm_change.score(test_change.iloc[:, 4:], test_change.iloc[:, 3])"
   ]
  },
  {
   "cell_type": "code",
   "execution_count": 97,
   "metadata": {},
   "outputs": [
    {
     "data": {
      "text/plain": [
       "0.015233533744449556"
      ]
     },
     "execution_count": 97,
     "metadata": {},
     "output_type": "execute_result"
    }
   ],
   "source": [
    "mean_squared_error(test_change.iloc[:, 3], grid_search_gbm_change.predict(test_change.iloc[:, 4:]), squared = False)"
   ]
  },
  {
   "cell_type": "code",
   "execution_count": 174,
   "metadata": {},
   "outputs": [
    {
     "data": {
      "text/plain": [
       "GridSearchCV(cv=5, estimator=GradientBoostingRegressor(), n_jobs=-1,\n",
       "             param_grid=[{'criterion': ['mse'], 'learning_rate': [0.01],\n",
       "                          'loss': ['ls'], 'max_depth': [2, 4, 6, 8, 10],\n",
       "                          'max_features': [10], 'n_estimators': [250, 500, 750],\n",
       "                          'subsample': [0.7]}],\n",
       "             return_train_score=True)"
      ]
     },
     "execution_count": 174,
     "metadata": {},
     "output_type": "execute_result"
    }
   ],
   "source": [
    "# Refit using the entire dataset\n",
    "grid_search_gbm_change.fit(df_change.iloc[:, 4:], df_change.iloc[:, 3])"
   ]
  },
  {
   "cell_type": "code",
   "execution_count": 176,
   "metadata": {},
   "outputs": [],
   "source": [
    "# Prediction on a randomly chosen ZipCode\n",
    "df_pred_change_zipcode = df_pred_change[df_pred_change['ZipCode'] == zipcode]\n",
    "pred_change_GBM = grid_search_gbm_change.predict(df_pred_change_zipcode.iloc[:, 3:])"
   ]
  },
  {
   "cell_type": "code",
   "execution_count": 177,
   "metadata": {},
   "outputs": [],
   "source": [
    "pred_change_GBM = pd.DataFrame({'Year': df_pred_change_zipcode['Year'], 'Month': df_pred_change_zipcode['Month'], \n",
    "                                'ZORI_GBM': pred_change_GBM}).reset_index().drop('index', axis = 1)\n",
    "pred_change_GBM['Year_Month'] = pred_change_GBM['Year'].map(str) + '_' + pred_change_GBM['Month'].map(str)\n",
    "pred_change_GBM = pred_change_GBM[['Year_Month', 'ZORI_GBM']]\n",
    "pred_change_GBM['Year_Month'] = pd.to_datetime(pred_change_GBM['Year_Month'], format = '%Y_%m')"
   ]
  },
  {
   "cell_type": "code",
   "execution_count": 178,
   "metadata": {},
   "outputs": [],
   "source": [
    "actual = zori[zori['ZipCode'] == zipcode][['Year_Month', 'ZORI']]\n",
    "actual['Year_Month'] = pd.to_datetime(actual['Year_Month'], format = '%Y_%m')"
   ]
  },
  {
   "cell_type": "code",
   "execution_count": 179,
   "metadata": {},
   "outputs": [],
   "source": [
    "pred_change_GBM.loc[:, 'ZORI_GBM'] = np.array(actual[actual['Year_Month'].isin(pred_change_GBM['Year_Month'].map(lambda date:\\\n",
    "                                     date - relativedelta(months = 12)))]['ZORI']) * np.array((1 + pred_change_GBM['ZORI_GBM']))"
   ]
  },
  {
   "cell_type": "code",
   "execution_count": 180,
   "metadata": {},
   "outputs": [
    {
     "data": {
      "image/png": "[encoded data removed]",
      "text/plain": [
       "<Figure size 432x288 with 1 Axes>"
      ]
     },
     "metadata": {
      "needs_background": "light"
     },
     "output_type": "display_data"
    }
   ],
   "source": [
    "sns.lineplot(x = 'Year_Month', y = 'ZORI', data = actual)\n",
    "sns.lineplot(x = 'Year_Month', y = 'ZORI_GBM', data = pred_change_GBM)\n",
    "plt.title(f'ZORI for {zipcode}');"
   ]
  },
  {
   "cell_type": "markdown",
   "metadata": {},
   "source": [
    "## Random Forest Regressor on % Change in ZORI"
   ]
  },
  {
   "cell_type": "code",
   "execution_count": 65,
   "metadata": {},
   "outputs": [],
   "source": [
    "randomForest_change = ensemble.RandomForestRegressor()"
   ]
  },
  {
   "cell_type": "code",
   "execution_count": 66,
   "metadata": {},
   "outputs": [
    {
     "data": {
      "text/plain": [
       "GridSearchCV(cv=5, estimator=RandomForestRegressor(), n_jobs=-1,\n",
       "             param_grid=[{'criterion': ['mse'], 'max_depth': [10, 11, 12],\n",
       "                          'max_features': ['sqrt'],\n",
       "                          'min_samples_leaf': [40, 50, 60],\n",
       "                          'n_estimators': [300]}],\n",
       "             return_train_score=True)"
      ]
     },
     "execution_count": 66,
     "metadata": {},
     "output_type": "execute_result"
    }
   ],
   "source": [
    "grid_para_forest_change = [{\n",
    "    \"n_estimators\": [300],\n",
    "    \"criterion\": [\"mse\"],\n",
    "    \"min_samples_leaf\": [40, 50, 60],\n",
    "    \"max_depth\": [10, 11, 12],\n",
    "    \"max_features\": ['sqrt']}]\n",
    "\n",
    "grid_search_forest_change = GridSearchCV(randomForest_change, grid_para_forest_change, cv = 5, n_jobs = -1,\n",
    "                                         return_train_score = True)\n",
    "grid_search_forest_change.fit(train_change.iloc[:, 4:], train_change.iloc[:, 3])"
   ]
  },
  {
   "cell_type": "code",
   "execution_count": 67,
   "metadata": {},
   "outputs": [
    {
     "data": {
      "text/html": [
       "<div>\n",
       "<style scoped>\n",
       "    .dataframe tbody tr th:only-of-type {\n",
       "        vertical-align: middle;\n",
       "    }\n",
       "\n",
       "    .dataframe tbody tr th {\n",
       "        vertical-align: top;\n",
       "    }\n",
       "\n",
       "    .dataframe thead th {\n",
       "        text-align: right;\n",
       "    }\n",
       "</style>\n",
       "<table border=\"1\" class=\"dataframe\">\n",
       "  <thead>\n",
       "    <tr style=\"text-align: right;\">\n",
       "      <th></th>\n",
       "      <th>hyperparameter</th>\n",
       "    </tr>\n",
       "  </thead>\n",
       "  <tbody>\n",
       "    <tr>\n",
       "      <th>criterion</th>\n",
       "      <td>mse</td>\n",
       "    </tr>\n",
       "    <tr>\n",
       "      <th>max_depth</th>\n",
       "      <td>12</td>\n",
       "    </tr>\n",
       "    <tr>\n",
       "      <th>max_features</th>\n",
       "      <td>sqrt</td>\n",
       "    </tr>\n",
       "    <tr>\n",
       "      <th>min_samples_leaf</th>\n",
       "      <td>40</td>\n",
       "    </tr>\n",
       "    <tr>\n",
       "      <th>n_estimators</th>\n",
       "      <td>300</td>\n",
       "    </tr>\n",
       "  </tbody>\n",
       "</table>\n",
       "</div>"
      ],
      "text/plain": [
       "                 hyperparameter\n",
       "criterion                   mse\n",
       "max_depth                    12\n",
       "max_features               sqrt\n",
       "min_samples_leaf             40\n",
       "n_estimators                300"
      ]
     },
     "execution_count": 67,
     "metadata": {},
     "output_type": "execute_result"
    }
   ],
   "source": [
    "pd.DataFrame.from_dict(grid_search_forest_change.best_params_, orient = 'index', columns = ['hyperparameter'])"
   ]
  },
  {
   "cell_type": "code",
   "execution_count": 68,
   "metadata": {},
   "outputs": [
    {
     "data": {
      "text/plain": [
       "0.43223748980450444"
      ]
     },
     "execution_count": 68,
     "metadata": {},
     "output_type": "execute_result"
    }
   ],
   "source": [
    "grid_search_forest_change.cv_results_['mean_train_score'][0]"
   ]
  },
  {
   "cell_type": "code",
   "execution_count": 69,
   "metadata": {},
   "outputs": [
    {
     "data": {
      "text/plain": [
       "0.46614326525710004"
      ]
     },
     "execution_count": 69,
     "metadata": {},
     "output_type": "execute_result"
    }
   ],
   "source": [
    "grid_search_forest_change.score(test_change.iloc[:, 4:], test_change.iloc[:, 3])"
   ]
  },
  {
   "cell_type": "code",
   "execution_count": 100,
   "metadata": {},
   "outputs": [
    {
     "data": {
      "text/plain": [
       "0.01971322620230723"
      ]
     },
     "execution_count": 100,
     "metadata": {},
     "output_type": "execute_result"
    }
   ],
   "source": [
    "mean_squared_error(test_change.iloc[:, 3], grid_search_forest_change.predict(test_change.iloc[:, 4:]), squared = False)"
   ]
  },
  {
   "cell_type": "code",
   "execution_count": 70,
   "metadata": {},
   "outputs": [
    {
     "data": {
      "text/plain": [
       "GridSearchCV(cv=5, estimator=RandomForestRegressor(), n_jobs=-1,\n",
       "             param_grid=[{'criterion': ['mse'], 'max_depth': [10, 11, 12],\n",
       "                          'max_features': ['sqrt'],\n",
       "                          'min_samples_leaf': [40, 50, 60],\n",
       "                          'n_estimators': [300]}],\n",
       "             return_train_score=True)"
      ]
     },
     "execution_count": 70,
     "metadata": {},
     "output_type": "execute_result"
    }
   ],
   "source": [
    "# Refit using the entire dataset\n",
    "grid_search_forest_change.fit(df_change.iloc[:, 4:], df_change.iloc[:, 3])"
   ]
  },
  {
   "cell_type": "code",
   "execution_count": 181,
   "metadata": {},
   "outputs": [],
   "source": [
    "# Prediction on a randomly chosen ZipCode\n",
    "df_pred_change_zipcode = df_pred_change[df_pred_change['ZipCode'] == zipcode]\n",
    "pred_change_RF = grid_search_forest_change.predict(df_pred_change_zipcode.iloc[:, 3:])"
   ]
  },
  {
   "cell_type": "code",
   "execution_count": 182,
   "metadata": {},
   "outputs": [],
   "source": [
    "pred_change_RF = pd.DataFrame({'Year': df_pred_change_zipcode['Year'], 'Month': df_pred_change_zipcode['Month'], \n",
    "                     'ZORI_RF': pred_change_RF}).reset_index().drop('index', axis = 1)\n",
    "pred_change_RF['Year_Month'] = pred_change_RF['Year'].map(str) + '_' + pred_change_RF['Month'].map(str)\n",
    "pred_change_RF = pred_change_RF[['Year_Month', 'ZORI_RF']]\n",
    "pred_change_RF['Year_Month'] = pd.to_datetime(pred_change_RF['Year_Month'], format = '%Y_%m')"
   ]
  },
  {
   "cell_type": "code",
   "execution_count": 183,
   "metadata": {},
   "outputs": [],
   "source": [
    "actual = zori[zori['ZipCode'] == zipcode][['Year_Month', 'ZORI']]\n",
    "actual['Year_Month'] = pd.to_datetime(actual['Year_Month'], format = '%Y_%m')"
   ]
  },
  {
   "cell_type": "code",
   "execution_count": 184,
   "metadata": {},
   "outputs": [],
   "source": [
    "pred_change_RF.loc[:, 'ZORI_RF'] = np.array(actual[actual['Year_Month'].isin(pred_change_RF['Year_Month'].map(lambda date:\\\n",
    "                                   date - relativedelta(months = 12)))]['ZORI']) * np.array((1 + pred_change_RF['ZORI_RF']))"
   ]
  },
  {
   "cell_type": "code",
   "execution_count": 185,
   "metadata": {},
   "outputs": [
    {
     "data": {
      "image/png": "[encoded data removed]",
      "text/plain": [
       "<Figure size 432x288 with 1 Axes>"
      ]
     },
     "metadata": {
      "needs_background": "light"
     },
     "output_type": "display_data"
    }
   ],
   "source": [
    "sns.lineplot(x = 'Year_Month', y = 'ZORI', data = actual)\n",
    "sns.lineplot(x = 'Year_Month', y = 'ZORI_RF', data = pred_change_RF)\n",
    "plt.title(f'ZORI for {zipcode}');"
   ]
  },
  {
   "cell_type": "markdown",
   "metadata": {},
   "source": [
    "## Aggregate Prediction "
   ]
  },
  {
   "cell_type": "code",
   "execution_count": 186,
   "metadata": {},
   "outputs": [],
   "source": [
    "pred = pd.DataFrame({'Year_Month': pred_MLR['Year_Month'], 'ZORI':\\\n",
    "            ((pred_MLR['ZORI_MLR'] + pred_RF['ZORI_RF'] + pred_GBM['ZORI_GBM'] + pred_change_MLR['ZORI_MLR'] +\\\n",
    "              pred_change_RF['ZORI_RF'] + pred_change_GBM['ZORI_GBM']) / 6)})"
   ]
  },
  {
   "cell_type": "code",
   "execution_count": 187,
   "metadata": {},
   "outputs": [
    {
     "data": {
      "image/png": "[encoded data removed]",
      "text/plain": [
       "<Figure size 432x288 with 1 Axes>"
      ]
     },
     "metadata": {
      "needs_background": "light"
     },
     "output_type": "display_data"
    }
   ],
   "source": [
    "sns.lineplot(x = 'Year_Month', y = 'ZORI', data = actual)\n",
    "sns.lineplot(x = 'Year_Month', y = 'ZORI', data = pred)\n",
    "plt.title(f'ZORI for {zipcode}');"
   ]
  },
  {
   "cell_type": "code",
   "execution_count": 229,
   "metadata": {},
   "outputs": [
    {
     "data": {
      "text/plain": [
       "array([60657, 60614, 77449, 77084, 79936, 60640, 11226, 78660, 37013,\n",
       "       60647, 11375, 90250, 37211, 77573, 60618, 77584, 28269, 77433,\n",
       "       30349, 79912, 75052, 73099, 90046, 77429, 78245, 60613, 30044,\n",
       "       28277, 60625, 30043, 11212, 10463, 60629, 11209, 30096, 98052,\n",
       "       30024, 78704, 77077, 85032, 77379, 21234, 33160, 34787, 75243,\n",
       "       11207, 94501,  2169, 33411, 60619, 78745, 94110, 33025, 75067,\n",
       "       90034, 80134, 95630, 44107, 66062, 44035, 85281, 11377, 90805,\n",
       "        7302, 85710, 92683, 85225, 11234, 30281, 37075, 11355, 10314,\n",
       "       19143, 91709, 11215, 60617, 32210, 90026, 76063, 91910, 27587,\n",
       "       93722, 97229,  6010, 76028, 33908, 43123, 75056, 89108, 85308,\n",
       "       78240, 33024, 98012, 30318, 44060, 95608, 33647, 92677, 44256,\n",
       "        2148], dtype=int64)"
      ]
     },
     "execution_count": 229,
     "metadata": {},
     "output_type": "execute_result"
    }
   ],
   "source": [
    "df_pred['ZipCode'].unique()[:100]"
   ]
  },
  {
   "cell_type": "code",
   "execution_count": 230,
   "metadata": {},
   "outputs": [
    {
     "name": "stdout",
     "output_type": "stream",
     "text": [
      "Denton, TX\n"
     ]
    }
   ],
   "source": [
    "# County prediction\n",
    "zipcode = 75056\n",
    "county = search.by_zipcode(zipcode).values()[5][:-7]\n",
    "state = search.by_zipcode(zipcode).values()[6]\n",
    "print(county + ', ' + state)"
   ]
  },
  {
   "cell_type": "code",
   "execution_count": 231,
   "metadata": {},
   "outputs": [],
   "source": [
    "df_county_temp = pd.merge(df_pred, zori[['ZipCode', 'County', 'State']].drop_duplicates(), on = 'ZipCode')\n",
    "df_county_temp_MLR = pd.merge(df_pred_MLR, zori[['ZipCode', 'County', 'State']].drop_duplicates(), on = 'ZipCode')\n",
    "df_county_change_temp = pd.merge(df_pred_change, zori[['ZipCode', 'County', 'State']].drop_duplicates(), on = 'ZipCode')\n",
    "df_county_change_temp_MLR = pd.merge(df_pred_change_MLR, zori[['ZipCode', 'County', 'State']].drop_duplicates(),\n",
    "                                     on = 'ZipCode')"
   ]
  },
  {
   "cell_type": "code",
   "execution_count": 232,
   "metadata": {},
   "outputs": [],
   "source": [
    "df_pred_county = df_county_temp.groupby(['County', 'State', 'Year', 'Month']).mean().reset_index()\n",
    "df_pred_county = df_pred_county[(df_pred_county['County'] == county) & (df_pred_county['State'] == state)]\n",
    "df_pred_county_MLR = df_county_temp_MLR.groupby(['County', 'State', 'Year', 'Month']).mean().reset_index()\n",
    "df_pred_county_MLR = df_pred_county_MLR[(df_pred_county_MLR['County'] == county) & (df_pred_county_MLR['State'] == state)]\n",
    "df_pred_change_county = df_county_change_temp.groupby(['County', 'State', 'Year', 'Month']).mean().reset_index()\n",
    "df_pred_change_county = df_pred_change_county[(df_pred_change_county['County'] == county) &\\\n",
    "                                              (df_pred_change_county['State'] == state)]\n",
    "df_pred_change_county_MLR = df_county_change_temp_MLR.groupby(['County', 'State', 'Year', 'Month']).mean().reset_index()\n",
    "df_pred_change_county_MLR = df_pred_change_county_MLR[(df_pred_change_county_MLR['County'] == county) &\\\n",
    "                                                      (df_pred_change_county_MLR['State'] == state)]"
   ]
  },
  {
   "cell_type": "code",
   "execution_count": 233,
   "metadata": {},
   "outputs": [],
   "source": [
    "actual_county = zori.groupby(['County', 'State', 'Year', 'Month']).mean().reset_index()[['County', 'State', 'Year',\n",
    "                                                                                         'Month', 'ZORI']]\n",
    "actual_county['Year_Month'] = actual_county['Year'].map(str) + '_' + actual_county['Month'].map(str)\n",
    "actual_county['Year_Month'] = pd.to_datetime(actual_county['Year_Month'], format = '%Y_%m')\n",
    "actual_county = actual_county[(actual_county['County'] == county) & (actual_county['State'] == state)]\n",
    "temp_date_county = pd.to_datetime(df_pred_county['Year'].map(str) + '_' + df_pred_county['Month'].map(str),\n",
    "                                  format = '%Y_%m')"
   ]
  },
  {
   "cell_type": "code",
   "execution_count": 234,
   "metadata": {},
   "outputs": [],
   "source": [
    "pred_county_MLR = regression.predict(df_pred_county_MLR.iloc[:, 5:])\n",
    "pred_county_GBM = grid_search_gbm.predict(df_pred_county.iloc[:, 5:])\n",
    "pred_county_RF = grid_search_forest.predict(df_pred_county.iloc[:, 5:])\n",
    "pred_change_county_MLR = regression_change.predict(df_pred_change_county_MLR.iloc[:, 5:])\n",
    "pred_change_county_MLR = np.array(actual_county[actual_county['Year_Month'].isin(temp_date_county.map(lambda date:\\\n",
    "                                  date - relativedelta(months = 12)))]['ZORI']) * np.array((1 + pred_change_county_MLR))\n",
    "pred_change_county_GBM = grid_search_gbm_change.predict(df_pred_change_county.iloc[:, 5:])\n",
    "pred_change_county_GBM = np.array(actual_county[actual_county['Year_Month'].isin(temp_date_county.map(lambda date:\\\n",
    "                                  date - relativedelta(months = 12)))]['ZORI']) * np.array((1 + pred_change_county_GBM))\n",
    "pred_change_county_RF = grid_search_forest_change.predict(df_pred_change_county.iloc[:, 5:])\n",
    "pred_change_county_RF = np.array(actual_county[actual_county['Year_Month'].isin(temp_date_county.map(lambda date:\\\n",
    "                                 date - relativedelta(months = 12)))]['ZORI']) * np.array((1 + pred_change_county_RF))\n",
    "\n",
    "pred_county = pd.DataFrame({'Year_Month': temp_date_county,\n",
    "                            'ZORI': (pred_county_MLR + pred_county_GBM + pred_county_RF + pred_change_county_MLR +\\\n",
    "                                     pred_change_county_GBM + pred_change_county_RF) / 6})"
   ]
  },
  {
   "cell_type": "code",
   "execution_count": 235,
   "metadata": {},
   "outputs": [
    {
     "data": {
      "image/png": "[encoded data removed]",
      "text/plain": [
       "<Figure size 432x288 with 1 Axes>"
      ]
     },
     "metadata": {
      "needs_background": "light"
     },
     "output_type": "display_data"
    }
   ],
   "source": [
    "sns.lineplot(x = 'Year_Month', y = 'ZORI', data = actual_county)\n",
    "sns.lineplot(x = 'Year_Month', y = 'ZORI', data = pred_county)\n",
    "plt.title(f'ZORI for {county}, {state}');"
   ]
  },
  {
   "cell_type": "code",
   "execution_count": 84,
   "metadata": {},
   "outputs": [],
   "source": [
    "# National prediction\n",
    "df_pred_usa = df_pred.groupby(['Year', 'Month']).mean().reset_index()\n",
    "df_pred_usa_MLR = df_pred_MLR.groupby(['Year', 'Month']).mean().reset_index()\n",
    "df_pred_change_usa = df_pred_change.groupby(['Year', 'Month']).mean().reset_index()\n",
    "df_pred_change_usa_MLR = df_pred_change_MLR.groupby(['Year', 'Month']).mean().reset_index()"
   ]
  },
  {
   "cell_type": "code",
   "execution_count": 85,
   "metadata": {},
   "outputs": [],
   "source": [
    "actual_usa = zori.groupby(['Year', 'Month']).mean().reset_index()[['Year', 'Month', 'ZORI']]\n",
    "actual_usa['Year_Month'] = actual_usa['Year'].map(str) + '_' + actual_usa['Month'].map(str)\n",
    "actual_usa['Year_Month'] = pd.to_datetime(actual_usa['Year_Month'], format = '%Y_%m')\n",
    "temp_date_usa = pd.to_datetime(df_pred_usa['Year'].map(str) + '_' + df_pred_usa['Month'].map(str), format = '%Y_%m')"
   ]
  },
  {
   "cell_type": "code",
   "execution_count": 86,
   "metadata": {},
   "outputs": [],
   "source": [
    "pred_usa_MLR = regression.predict(df_pred_usa_MLR.iloc[:, 3:])\n",
    "pred_usa_GBM = grid_search_gbm.predict(df_pred_usa.iloc[:, 3:])\n",
    "pred_usa_RF = grid_search_forest.predict(df_pred_usa.iloc[:, 3:])\n",
    "pred_change_usa_MLR = regression_change.predict(df_pred_change_usa_MLR.iloc[:, 3:])\n",
    "pred_change_usa_MLR = np.array(actual_usa[actual_usa['Year_Month'].isin(temp_date_usa.map(lambda date:\\\n",
    "                               date - relativedelta(months = 12)))]['ZORI']) * np.array((1 + pred_change_usa_MLR))\n",
    "pred_change_usa_GBM = grid_search_gbm_change.predict(df_pred_change_usa.iloc[:, 3:])\n",
    "pred_change_usa_GBM = np.array(actual_usa[actual_usa['Year_Month'].isin(temp_date_usa.map(lambda date:\\\n",
    "                               date - relativedelta(months = 12)))]['ZORI']) * np.array((1 + pred_change_usa_GBM))\n",
    "pred_change_usa_RF = grid_search_forest_change.predict(df_pred_change_usa.iloc[:, 3:])\n",
    "pred_change_usa_RF = np.array(actual_usa[actual_usa['Year_Month'].isin(temp_date_usa.map(lambda date:\\\n",
    "                               date - relativedelta(months = 12)))]['ZORI']) * np.array((1 + pred_change_usa_RF))\n",
    "\n",
    "pred_usa = pd.DataFrame({'Year_Month': temp_date_usa,\n",
    "                         'ZORI': (pred_usa_MLR + pred_usa_GBM + pred_usa_RF + pred_change_usa_MLR + pred_change_usa_GBM +\n",
    "                                  pred_change_usa_RF) / 6})"
   ]
  },
  {
   "cell_type": "code",
   "execution_count": 87,
   "metadata": {},
   "outputs": [
    {
     "data": {
      "image/png": "[encoded data removed]",
      "text/plain": [
       "<Figure size 432x288 with 1 Axes>"
      ]
     },
     "metadata": {
      "needs_background": "light"
     },
     "output_type": "display_data"
    }
   ],
   "source": [
    "sns.lineplot(x = 'Year_Month', y = 'ZORI', data = actual_usa)\n",
    "sns.lineplot(x = 'Year_Month', y = 'ZORI', data = pred_usa)\n",
    "plt.title(f'ZORI for USA');"
   ]
  }
 ],
 "metadata": {
  "kernelspec": {
   "display_name": "Python 3",
   "language": "python",
   "name": "python3"
  },
  "language_info": {
   "codemirror_mode": {
    "name": "ipython",
    "version": 3
   },
   "file_extension": ".py",
   "mimetype": "text/x-python",
   "name": "python",
   "nbconvert_exporter": "python",
   "pygments_lexer": "ipython3",
   "version": "3.7.7"
  }
 },
 "nbformat": 4,
 "nbformat_minor": 4
}
