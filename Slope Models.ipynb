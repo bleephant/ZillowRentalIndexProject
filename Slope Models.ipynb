{
 "cells": [
  {
   "cell_type": "code",
   "execution_count": 64,
   "metadata": {},
   "outputs": [],
   "source": [
    "import numpy as np\n",
    "import pandas as pd\n",
    "from sklearn.linear_model import LinearRegression\n",
    "from sklearn.model_selection import cross_validate\n",
    "from sklearn.metrics import r2_score, mean_squared_error\n",
    "from sklearn import ensemble\n",
    "from sklearn.feature_selection import f_regression, mutual_info_regression\n",
    "from sklearn.model_selection import GridSearchCV\n",
    "import seaborn as sns\n",
    "%matplotlib inline"
   ]
  },
  {
   "cell_type": "code",
   "execution_count": 2,
   "metadata": {},
   "outputs": [],
   "source": [
    "zori = pd.read_csv('./cleandata/clean_zori.csv').drop('Unnamed: 0', axis = 1)\n",
    "hpi = pd.read_csv('./cleandata/clean_hpi.csv').drop('Unnamed: 0', axis = 1)\n",
    "zhvi = pd.read_csv('./cleandata/clean_zhvi.csv').drop('Unnamed: 0', axis = 1)\n",
    "airq = pd.read_csv('./cleandata/clean_airq.csv').drop('Unnamed: 0', axis = 1)\n",
    "population = pd.read_csv('./cleandata/clean_population.csv').drop('Unnamed: 0', axis = 1)\n",
    "unemployment = pd.read_csv('./cleandata/clean_unemployment.csv').drop('Unnamed: 0', axis = 1)\n",
    "education = pd.read_csv('./cleandata/clean_education.csv').drop('Unnamed: 0', axis = 1)\n",
    "permits = pd.read_csv('./cleandata/clean_permits.csv').drop('Unnamed: 0', axis = 1)\n",
    "IandH = pd.read_csv('./cleandata/clean_IandH.csv').drop('Unnamed: 0', axis = 1)\n",
    "pce = pd.read_csv('./cleandata/clean_pce.csv').drop('Unnamed: 0', axis = 1)\n",
    "vacancy = pd.read_csv('./cleandata/clean_vacancy.csv').drop('Unnamed: 0', axis = 1)\n",
    "jobs = pd.read_csv('./cleandata/clean_jos.csv').drop('Unnamed: 0', axis = 1)\n",
    "commute_worker = pd.read_csv('./cleandata/clean_commute_worker.csv').drop('Unnamed: 0', axis = 1)\n",
    "grapi = pd.read_csv('./cleandata/clean_grapi.csv').drop('Unnamed: 0', axis = 1)\n",
    "income_inequality = pd.read_csv('./cleandata/clean_income_inequality.csv').drop('Unnamed: 0', axis = 1)\n",
    "population_density = pd.read_csv('./cleandata/clean_population_density.csv').drop('Unnamed: 0', axis = 1)"
   ]
  },
  {
   "cell_type": "markdown",
   "metadata": {},
   "source": [
    "# Combine data for same month and year"
   ]
  },
  {
   "cell_type": "code",
   "execution_count": 291,
   "metadata": {},
   "outputs": [],
   "source": [
    "df = zori.copy()\n",
    "#df = zori[zori['ZORI'] <= 4000]"
   ]
  },
  {
   "cell_type": "code",
   "execution_count": 292,
   "metadata": {},
   "outputs": [],
   "source": [
    "df = pd.merge(df, zhvi[['Year_Month', 'ZipCode', 'ZHVI']], left_on = ['Year_Month', 'ZipCode'],\n",
    "              right_on = ['Year_Month', 'ZipCode'], how = 'left')"
   ]
  },
  {
   "cell_type": "code",
   "execution_count": 293,
   "metadata": {},
   "outputs": [],
   "source": [
    "df = pd.merge(df, hpi[['Year_Month', 'ZipCode', 'HPI']], left_on = ['Year_Month', 'ZipCode'],\n",
    "              right_on = ['Year_Month', 'ZipCode'], how = 'left')"
   ]
  },
  {
   "cell_type": "code",
   "execution_count": 294,
   "metadata": {},
   "outputs": [],
   "source": [
    "df = pd.merge(df, airq[['County', 'State', 'Year_Month', 'AQI']], left_on = ['County', 'State', 'Year_Month'],\n",
    "              right_on = ['County', 'State', 'Year_Month'], how = 'left')"
   ]
  },
  {
   "cell_type": "code",
   "execution_count": 295,
   "metadata": {},
   "outputs": [],
   "source": [
    "df = pd.merge(df, population[['County', 'State', 'Year_Month', 'Population']], \n",
    "              left_on = ['County', 'State', 'Year_Month'], right_on = ['County', 'State', 'Year_Month'], how = 'left')"
   ]
  },
  {
   "cell_type": "code",
   "execution_count": 296,
   "metadata": {},
   "outputs": [],
   "source": [
    "df = pd.merge(df, unemployment[['County', 'State', 'Year_Month', 'Unemployment']], \n",
    "             left_on = ['County', 'State', 'Year_Month'], right_on = ['County', 'State', 'Year_Month'], how = 'left')"
   ]
  },
  {
   "cell_type": "code",
   "execution_count": 297,
   "metadata": {},
   "outputs": [],
   "source": [
    "df = pd.merge(df, education[['County', 'State', 'Year_Month', 'Percent Bachelors']],\n",
    "              left_on = ['County', 'State', 'Year_Month'], right_on = ['County', 'State', 'Year_Month'], how = 'left')"
   ]
  },
  {
   "cell_type": "code",
   "execution_count": 298,
   "metadata": {},
   "outputs": [],
   "source": [
    "df = pd.merge(df, permits[['State', 'Units', 'Year_Month']], left_on = ['State', 'Year_Month'], \n",
    "              right_on = ['State', 'Year_Month'], how = 'left')"
   ]
  },
  {
   "cell_type": "code",
   "execution_count": 299,
   "metadata": {},
   "outputs": [],
   "source": [
    "df = pd.merge(df, IandH[['County', 'State', 'Year_Month', 'Total_Households', 'Med_income']], \n",
    "             left_on = ['County', 'State', 'Year_Month'], right_on = ['County', 'State', 'Year_Month'], how = 'left')"
   ]
  },
  {
   "cell_type": "code",
   "execution_count": 300,
   "metadata": {},
   "outputs": [],
   "source": [
    "df = pd.merge(df, pce[['PCE', 'Year_Month']], left_on = 'Year_Month', right_on = 'Year_Month')"
   ]
  },
  {
   "cell_type": "code",
   "execution_count": 301,
   "metadata": {},
   "outputs": [],
   "source": [
    "df = pd.merge(df, vacancy[['County', 'State', 'Year_Month', 'Rental Vacancy Rate']], left_on = ['County', 'State', 'Year_Month'], right_on = ['County', 'State', 'Year_Month'], how = 'left')"
   ]
  },
  {
   "cell_type": "code",
   "execution_count": 302,
   "metadata": {},
   "outputs": [],
   "source": [
    "df = pd.merge(df, jobs[['State', 'Job Openings', 'Year_Month']], left_on = ['State', 'Year_Month'], \n",
    "              right_on = ['State', 'Year_Month'], how = 'left')"
   ]
  },
  {
   "cell_type": "code",
   "execution_count": 303,
   "metadata": {},
   "outputs": [],
   "source": [
    "df = pd.merge(df, commute_worker[['County', 'State', 'CommuteTime', 'Salwrkr', 'Govwrkr', 'Year_Month']],\n",
    "              left_on = ['County', 'State', 'Year_Month'], right_on = ['County', 'State', 'Year_Month'], how = 'left')"
   ]
  },
  {
   "cell_type": "code",
   "execution_count": 304,
   "metadata": {},
   "outputs": [],
   "source": [
    "df = pd.merge(df, grapi[['County', 'State', 'GRAPI', 'Year_Month']], left_on = ['County', 'State', 'Year_Month'], \n",
    "              right_on = ['County', 'State', 'Year_Month'], how = 'left')"
   ]
  },
  {
   "cell_type": "code",
   "execution_count": 305,
   "metadata": {},
   "outputs": [],
   "source": [
    "df = pd.merge(df, income_inequality[['County', 'State', 'Gini_Index', 'Year_Month']], left_on = ['County', 'State', 'Year_Month'], \n",
    "              right_on = ['County', 'State', 'Year_Month'], how = 'left')"
   ]
  },
  {
   "cell_type": "code",
   "execution_count": 306,
   "metadata": {},
   "outputs": [],
   "source": [
    "df = pd.merge(df, population_density[['County', 'State', 'P_Density', 'Year_Month']], left_on = ['County', 'State', 'Year_Month'], \n",
    "              right_on = ['County', 'State', 'Year_Month'], how = 'left')"
   ]
  },
  {
   "cell_type": "code",
   "execution_count": 307,
   "metadata": {},
   "outputs": [],
   "source": [
    "df.drop('Year_Month', axis = 1, inplace = True)"
   ]
  },
  {
   "cell_type": "code",
   "execution_count": 308,
   "metadata": {},
   "outputs": [
    {
     "data": {
      "text/html": [
       "<div>\n",
       "<style scoped>\n",
       "    .dataframe tbody tr th:only-of-type {\n",
       "        vertical-align: middle;\n",
       "    }\n",
       "\n",
       "    .dataframe tbody tr th {\n",
       "        vertical-align: top;\n",
       "    }\n",
       "\n",
       "    .dataframe thead th {\n",
       "        text-align: right;\n",
       "    }\n",
       "</style>\n",
       "<table border=\"1\" class=\"dataframe\">\n",
       "  <thead>\n",
       "    <tr style=\"text-align: right;\">\n",
       "      <th></th>\n",
       "      <th>ZipCode</th>\n",
       "      <th>County</th>\n",
       "      <th>State</th>\n",
       "      <th>ZORI</th>\n",
       "      <th>Year</th>\n",
       "      <th>Month</th>\n",
       "      <th>ZHVI</th>\n",
       "      <th>HPI</th>\n",
       "      <th>AQI</th>\n",
       "      <th>Population</th>\n",
       "      <th>Unemployment</th>\n",
       "      <th>Percent Bachelors</th>\n",
       "      <th>Units</th>\n",
       "      <th>Total_Households</th>\n",
       "      <th>Med_income</th>\n",
       "      <th>PCE</th>\n",
       "      <th>Rental Vacancy Rate</th>\n",
       "      <th>Job Openings</th>\n",
       "      <th>CommuteTime</th>\n",
       "      <th>Salwrkr</th>\n",
       "      <th>Govwrkr</th>\n",
       "      <th>GRAPI</th>\n",
       "      <th>Gini_Index</th>\n",
       "      <th>P_Density</th>\n",
       "    </tr>\n",
       "  </thead>\n",
       "  <tbody>\n",
       "    <tr>\n",
       "      <th>0</th>\n",
       "      <td>10025</td>\n",
       "      <td>New York</td>\n",
       "      <td>NY</td>\n",
       "      <td>3020.0</td>\n",
       "      <td>2014</td>\n",
       "      <td>2</td>\n",
       "      <td>1056185.0</td>\n",
       "      <td>NaN</td>\n",
       "      <td>62.107143</td>\n",
       "      <td>1636268.0</td>\n",
       "      <td>7.1</td>\n",
       "      <td>31.2</td>\n",
       "      <td>1458.0</td>\n",
       "      <td>762228.0</td>\n",
       "      <td>76089.0</td>\n",
       "      <td>1.455676</td>\n",
       "      <td>4.5</td>\n",
       "      <td>212.0</td>\n",
       "      <td>31.3</td>\n",
       "      <td>84.1</td>\n",
       "      <td>8.3</td>\n",
       "      <td>734.7</td>\n",
       "      <td>0.5939</td>\n",
       "      <td>48582.779097</td>\n",
       "    </tr>\n",
       "    <tr>\n",
       "      <th>1</th>\n",
       "      <td>60657</td>\n",
       "      <td>Cook</td>\n",
       "      <td>IL</td>\n",
       "      <td>1583.0</td>\n",
       "      <td>2014</td>\n",
       "      <td>2</td>\n",
       "      <td>441010.0</td>\n",
       "      <td>158.76</td>\n",
       "      <td>59.571429</td>\n",
       "      <td>5246456.0</td>\n",
       "      <td>9.1</td>\n",
       "      <td>21.8</td>\n",
       "      <td>269.0</td>\n",
       "      <td>1938055.0</td>\n",
       "      <td>55069.0</td>\n",
       "      <td>1.455676</td>\n",
       "      <td>6.7</td>\n",
       "      <td>154.0</td>\n",
       "      <td>32.8</td>\n",
       "      <td>84.1</td>\n",
       "      <td>11.3</td>\n",
       "      <td>1440.3</td>\n",
       "      <td>0.4982</td>\n",
       "      <td>3209.057490</td>\n",
       "    </tr>\n",
       "    <tr>\n",
       "      <th>2</th>\n",
       "      <td>10023</td>\n",
       "      <td>New York</td>\n",
       "      <td>NY</td>\n",
       "      <td>3145.0</td>\n",
       "      <td>2014</td>\n",
       "      <td>2</td>\n",
       "      <td>1015651.0</td>\n",
       "      <td>NaN</td>\n",
       "      <td>62.107143</td>\n",
       "      <td>1636268.0</td>\n",
       "      <td>7.1</td>\n",
       "      <td>31.2</td>\n",
       "      <td>1458.0</td>\n",
       "      <td>762228.0</td>\n",
       "      <td>76089.0</td>\n",
       "      <td>1.455676</td>\n",
       "      <td>4.5</td>\n",
       "      <td>212.0</td>\n",
       "      <td>31.3</td>\n",
       "      <td>84.1</td>\n",
       "      <td>8.3</td>\n",
       "      <td>734.7</td>\n",
       "      <td>0.5939</td>\n",
       "      <td>48582.779097</td>\n",
       "    </tr>\n",
       "    <tr>\n",
       "      <th>3</th>\n",
       "      <td>77494</td>\n",
       "      <td>Fort Bend</td>\n",
       "      <td>TX</td>\n",
       "      <td>1746.0</td>\n",
       "      <td>2014</td>\n",
       "      <td>2</td>\n",
       "      <td>311407.0</td>\n",
       "      <td>154.29</td>\n",
       "      <td>NaN</td>\n",
       "      <td>685345.0</td>\n",
       "      <td>4.9</td>\n",
       "      <td>28.3</td>\n",
       "      <td>4368.0</td>\n",
       "      <td>214215.0</td>\n",
       "      <td>87973.0</td>\n",
       "      <td>1.455676</td>\n",
       "      <td>6.5</td>\n",
       "      <td>374.0</td>\n",
       "      <td>32.3</td>\n",
       "      <td>81.8</td>\n",
       "      <td>12.4</td>\n",
       "      <td>48.8</td>\n",
       "      <td>0.4318</td>\n",
       "      <td>773.431064</td>\n",
       "    </tr>\n",
       "    <tr>\n",
       "      <th>4</th>\n",
       "      <td>60614</td>\n",
       "      <td>Cook</td>\n",
       "      <td>IL</td>\n",
       "      <td>1752.0</td>\n",
       "      <td>2014</td>\n",
       "      <td>2</td>\n",
       "      <td>564138.0</td>\n",
       "      <td>146.37</td>\n",
       "      <td>59.571429</td>\n",
       "      <td>5246456.0</td>\n",
       "      <td>9.1</td>\n",
       "      <td>21.8</td>\n",
       "      <td>269.0</td>\n",
       "      <td>1938055.0</td>\n",
       "      <td>55069.0</td>\n",
       "      <td>1.455676</td>\n",
       "      <td>6.7</td>\n",
       "      <td>154.0</td>\n",
       "      <td>32.8</td>\n",
       "      <td>84.1</td>\n",
       "      <td>11.3</td>\n",
       "      <td>1440.3</td>\n",
       "      <td>0.4982</td>\n",
       "      <td>3209.057490</td>\n",
       "    </tr>\n",
       "  </tbody>\n",
       "</table>\n",
       "</div>"
      ],
      "text/plain": [
       "   ZipCode     County State    ZORI  Year  Month       ZHVI     HPI  \\\n",
       "0    10025   New York    NY  3020.0  2014      2  1056185.0     NaN   \n",
       "1    60657       Cook    IL  1583.0  2014      2   441010.0  158.76   \n",
       "2    10023   New York    NY  3145.0  2014      2  1015651.0     NaN   \n",
       "3    77494  Fort Bend    TX  1746.0  2014      2   311407.0  154.29   \n",
       "4    60614       Cook    IL  1752.0  2014      2   564138.0  146.37   \n",
       "\n",
       "         AQI  Population  Unemployment  Percent Bachelors   Units  \\\n",
       "0  62.107143   1636268.0           7.1               31.2  1458.0   \n",
       "1  59.571429   5246456.0           9.1               21.8   269.0   \n",
       "2  62.107143   1636268.0           7.1               31.2  1458.0   \n",
       "3        NaN    685345.0           4.9               28.3  4368.0   \n",
       "4  59.571429   5246456.0           9.1               21.8   269.0   \n",
       "\n",
       "   Total_Households  Med_income       PCE  Rental Vacancy Rate  Job Openings  \\\n",
       "0          762228.0     76089.0  1.455676                  4.5         212.0   \n",
       "1         1938055.0     55069.0  1.455676                  6.7         154.0   \n",
       "2          762228.0     76089.0  1.455676                  4.5         212.0   \n",
       "3          214215.0     87973.0  1.455676                  6.5         374.0   \n",
       "4         1938055.0     55069.0  1.455676                  6.7         154.0   \n",
       "\n",
       "   CommuteTime  Salwrkr  Govwrkr   GRAPI  Gini_Index     P_Density  \n",
       "0         31.3     84.1      8.3   734.7      0.5939  48582.779097  \n",
       "1         32.8     84.1     11.3  1440.3      0.4982   3209.057490  \n",
       "2         31.3     84.1      8.3   734.7      0.5939  48582.779097  \n",
       "3         32.3     81.8     12.4    48.8      0.4318    773.431064  \n",
       "4         32.8     84.1     11.3  1440.3      0.4982   3209.057490  "
      ]
     },
     "execution_count": 308,
     "metadata": {},
     "output_type": "execute_result"
    }
   ],
   "source": [
    "pd.options.display.max_columns = None\n",
    "df.head()\n"
   ]
  },
  {
   "cell_type": "code",
   "execution_count": 309,
   "metadata": {},
   "outputs": [],
   "source": [
    "\n",
    "df.columns = ['ZipCode','County','State','ZORI','Year','Month','ZHVI', 'HPI', 'AQI',\n",
    "              'Population', 'Unemployment', 'Percent Bachelors', 'Permits',\n",
    "              'Total_Households', 'Med_Income', 'PCE', 'Rental Vacancy Rate',\n",
    "              'Job Openings', 'CommuteTime', 'Salwrkr', 'Govwrkr', 'GRAPI', 'Gini_Index','P_Density']"
   ]
  },
  {
   "cell_type": "code",
   "execution_count": 310,
   "metadata": {},
   "outputs": [],
   "source": [
    "df.to_csv('stationary_raw_data.csv', index=False)"
   ]
  },
  {
   "cell_type": "code",
   "execution_count": 280,
   "metadata": {},
   "outputs": [],
   "source": [
    "#df = pd.read_csv('stationary_raw_data.csv')"
   ]
  },
  {
   "cell_type": "code",
   "execution_count": 281,
   "metadata": {},
   "outputs": [],
   "source": [
    "df = df[df['ZORI'] <= 4000]"
   ]
  },
  {
   "cell_type": "code",
   "execution_count": 282,
   "metadata": {},
   "outputs": [
    {
     "data": {
      "text/plain": [
       "ZipCode                    0\n",
       "County                   160\n",
       "State                     80\n",
       "ZORI                       0\n",
       "Year                       0\n",
       "Month                      0\n",
       "ZHVI                   10148\n",
       "HPI                    43757\n",
       "AQI                    21659\n",
       "Population             36095\n",
       "Unemployment            7458\n",
       "Percent Bachelors      36095\n",
       "Permits                   80\n",
       "Total_Households       36095\n",
       "Med_Income             36095\n",
       "PCE                        0\n",
       "Rental Vacancy Rate    36399\n",
       "Job Openings           10867\n",
       "CommuteTime            36095\n",
       "Salwrkr                36095\n",
       "Govwrkr                36095\n",
       "GRAPI                  36095\n",
       "Gini_Index             36095\n",
       "P_Density              36095\n",
       "dtype: int64"
      ]
     },
     "execution_count": 282,
     "metadata": {},
     "output_type": "execute_result"
    }
   ],
   "source": [
    "df.isnull().sum(axis=0)"
   ]
  },
  {
   "cell_type": "code",
   "execution_count": 283,
   "metadata": {},
   "outputs": [],
   "source": [
    "df_clean = df[df['Year']!=2020]"
   ]
  },
  {
   "cell_type": "code",
   "execution_count": 284,
   "metadata": {},
   "outputs": [],
   "source": [
    "# Dropping all NaN values instead of imputing for simplicity for now\n",
    "df_clean = df_clean[~df_clean['HPI'].isnull()]\n",
    "df_clean = df_clean[~df_clean['AQI'].isnull()]\n",
    "df_clean = df_clean[~df_clean['ZHVI'].isnull()]\n",
    "df_clean = df_clean[~df_clean['Rental Vacancy Rate'].isnull()]"
   ]
  },
  {
   "cell_type": "code",
   "execution_count": 285,
   "metadata": {},
   "outputs": [
    {
     "data": {
      "text/plain": [
       "ZipCode                0\n",
       "County                 0\n",
       "State                  0\n",
       "ZORI                   0\n",
       "Year                   0\n",
       "Month                  0\n",
       "ZHVI                   0\n",
       "HPI                    0\n",
       "AQI                    0\n",
       "Population             0\n",
       "Unemployment           0\n",
       "Percent Bachelors      0\n",
       "Permits                0\n",
       "Total_Households       0\n",
       "Med_Income             0\n",
       "PCE                    0\n",
       "Rental Vacancy Rate    0\n",
       "Job Openings           0\n",
       "CommuteTime            0\n",
       "Salwrkr                0\n",
       "Govwrkr                0\n",
       "GRAPI                  0\n",
       "Gini_Index             0\n",
       "P_Density              0\n",
       "dtype: int64"
      ]
     },
     "execution_count": 285,
     "metadata": {},
     "output_type": "execute_result"
    }
   ],
   "source": [
    "df_clean.isnull().sum(axis=0)"
   ]
  },
  {
   "cell_type": "code",
   "execution_count": 286,
   "metadata": {},
   "outputs": [
    {
     "data": {
      "text/plain": [
       "(179280, 24)"
      ]
     },
     "execution_count": 286,
     "metadata": {},
     "output_type": "execute_result"
    }
   ],
   "source": [
    "df_clean.shape"
   ]
  },
  {
   "cell_type": "code",
   "execution_count": 287,
   "metadata": {},
   "outputs": [],
   "source": [
    "df_clean.to_csv('stationary_data4.csv', index=False)"
   ]
  },
  {
   "cell_type": "code",
   "execution_count": 95,
   "metadata": {},
   "outputs": [
    {
     "data": {
      "text/plain": [
       "Index(['ZipCode', 'County', 'State', 'ZORI', 'Year', 'Month', 'ZHVI', 'HPI',\n",
       "       'AQI', 'Population', 'Unemployment', 'Percent Bachelors', 'Permits',\n",
       "       'Total_Households', 'Med_Income', 'PCE', 'Rental Vacancy Rate',\n",
       "       'Job Openings', 'CommuteTime', 'Salwrkr', 'Govwrkr', 'GRAPI',\n",
       "       'Gini_Index', 'P_Density'],\n",
       "      dtype='object')"
      ]
     },
     "execution_count": 95,
     "metadata": {},
     "output_type": "execute_result"
    }
   ],
   "source": [
    "df_clean.columns"
   ]
  },
  {
   "cell_type": "markdown",
   "metadata": {},
   "source": [
    "# Create feature for Slope of ZORI versus Year"
   ]
  },
  {
   "cell_type": "code",
   "execution_count": 33,
   "metadata": {},
   "outputs": [],
   "source": [
    "#perform linear fit of ZORI versus year for chosen Zip Code and return slope\n",
    "def zipcodeyrslope(code):\n",
    "    r1 = LinearRegression()\n",
    "    y1 = df_clean[df_clean['ZipCode']==code]['ZORI']\n",
    "    x1 = df_clean[df_clean['ZipCode']==code][['Year']]\n",
    "    r1.fit(x1, y1)\n",
    "    return r1.coef_[0] "
   ]
  },
  {
   "cell_type": "code",
   "execution_count": 34,
   "metadata": {},
   "outputs": [],
   "source": [
    "allzc = df_clean.ZipCode.unique()"
   ]
  },
  {
   "cell_type": "code",
   "execution_count": 35,
   "metadata": {},
   "outputs": [],
   "source": [
    "# determine slope versus time for all zip codes\n",
    "ZORI_slopes = []\n",
    "for code in allzc:\n",
    "    ZORI_slopes.append(zipcodeyrslope(code))"
   ]
  },
  {
   "cell_type": "code",
   "execution_count": 36,
   "metadata": {},
   "outputs": [],
   "source": [
    "slope_df = pd.DataFrame({'ZipCode':allzc, 'Slope_by_year':ZORI_slopes })"
   ]
  },
  {
   "cell_type": "code",
   "execution_count": 37,
   "metadata": {},
   "outputs": [
    {
     "data": {
      "text/html": [
       "<div>\n",
       "<style scoped>\n",
       "    .dataframe tbody tr th:only-of-type {\n",
       "        vertical-align: middle;\n",
       "    }\n",
       "\n",
       "    .dataframe tbody tr th {\n",
       "        vertical-align: top;\n",
       "    }\n",
       "\n",
       "    .dataframe thead th {\n",
       "        text-align: right;\n",
       "    }\n",
       "</style>\n",
       "<table border=\"1\" class=\"dataframe\">\n",
       "  <thead>\n",
       "    <tr style=\"text-align: right;\">\n",
       "      <th></th>\n",
       "      <th>ZipCode</th>\n",
       "      <th>Slope_by_year</th>\n",
       "    </tr>\n",
       "  </thead>\n",
       "  <tbody>\n",
       "    <tr>\n",
       "      <th>1891</th>\n",
       "      <td>91011</td>\n",
       "      <td>364.833333</td>\n",
       "    </tr>\n",
       "    <tr>\n",
       "      <th>2206</th>\n",
       "      <td>34228</td>\n",
       "      <td>228.887755</td>\n",
       "    </tr>\n",
       "    <tr>\n",
       "      <th>2460</th>\n",
       "      <td>92624</td>\n",
       "      <td>208.508621</td>\n",
       "    </tr>\n",
       "    <tr>\n",
       "      <th>2554</th>\n",
       "      <td>91436</td>\n",
       "      <td>206.243024</td>\n",
       "    </tr>\n",
       "    <tr>\n",
       "      <th>2556</th>\n",
       "      <td>92210</td>\n",
       "      <td>195.574180</td>\n",
       "    </tr>\n",
       "    <tr>\n",
       "      <th>...</th>\n",
       "      <td>...</td>\n",
       "      <td>...</td>\n",
       "    </tr>\n",
       "    <tr>\n",
       "      <th>2028</th>\n",
       "      <td>50266</td>\n",
       "      <td>-22.184936</td>\n",
       "    </tr>\n",
       "    <tr>\n",
       "      <th>1614</th>\n",
       "      <td>20721</td>\n",
       "      <td>-23.063865</td>\n",
       "    </tr>\n",
       "    <tr>\n",
       "      <th>1830</th>\n",
       "      <td>22303</td>\n",
       "      <td>-29.874609</td>\n",
       "    </tr>\n",
       "    <tr>\n",
       "      <th>1041</th>\n",
       "      <td>77056</td>\n",
       "      <td>-65.350081</td>\n",
       "    </tr>\n",
       "    <tr>\n",
       "      <th>2620</th>\n",
       "      <td>85305</td>\n",
       "      <td>-123.752174</td>\n",
       "    </tr>\n",
       "  </tbody>\n",
       "</table>\n",
       "<p>2626 rows × 2 columns</p>\n",
       "</div>"
      ],
      "text/plain": [
       "      ZipCode  Slope_by_year\n",
       "1891    91011     364.833333\n",
       "2206    34228     228.887755\n",
       "2460    92624     208.508621\n",
       "2554    91436     206.243024\n",
       "2556    92210     195.574180\n",
       "...       ...            ...\n",
       "2028    50266     -22.184936\n",
       "1614    20721     -23.063865\n",
       "1830    22303     -29.874609\n",
       "1041    77056     -65.350081\n",
       "2620    85305    -123.752174\n",
       "\n",
       "[2626 rows x 2 columns]"
      ]
     },
     "execution_count": 37,
     "metadata": {},
     "output_type": "execute_result"
    }
   ],
   "source": [
    "slope_df.sort_values(by='Slope_by_year',ascending=False)"
   ]
  },
  {
   "cell_type": "code",
   "execution_count": 38,
   "metadata": {},
   "outputs": [],
   "source": [
    "#include slope versus year into df_clean data frame\n",
    "df_clean = pd.merge(df_clean, slope_df[['ZipCode', 'Slope_by_year']], left_on = ['ZipCode'],\n",
    "              right_on = ['ZipCode'], how = 'left')"
   ]
  },
  {
   "cell_type": "code",
   "execution_count": 39,
   "metadata": {},
   "outputs": [],
   "source": [
    "#rearrange column order\n",
    "cols = df_clean.columns.tolist()\n",
    "cols2 = cols[:3] + cols[4:6] + ['ZORI'] + cols[6:]\n",
    "#list(zip(cols, cols2))\n",
    "df_clean = df_clean[cols2]"
   ]
  },
  {
   "cell_type": "markdown",
   "metadata": {},
   "source": [
    "# Linear Regression Models"
   ]
  },
  {
   "cell_type": "code",
   "execution_count": 40,
   "metadata": {},
   "outputs": [],
   "source": [
    "# seperate test and train by year\n",
    "test = df_clean[df_clean['Year']==2019]\n",
    "train = df_clean[df_clean['Year']<2019]"
   ]
  },
  {
   "cell_type": "code",
   "execution_count": 41,
   "metadata": {},
   "outputs": [
    {
     "data": {
      "text/plain": [
       "0.4859566173910883"
      ]
     },
     "execution_count": 41,
     "metadata": {},
     "output_type": "execute_result"
    }
   ],
   "source": [
    "# linear regression on separation by year\n",
    "regression1 = LinearRegression()\n",
    "regression1.fit(train.iloc[:, 5:24], train.iloc[:, 24])\n",
    "regression1.score(test.iloc[:, 5:24], test.iloc[:, 24])"
   ]
  },
  {
   "cell_type": "code",
   "execution_count": 42,
   "metadata": {},
   "outputs": [],
   "source": [
    "# seperate by random choice\n",
    "df_clean.reset_index(inplace = True)\n",
    "df_clean.drop('index', axis=1, inplace=True)\n",
    "train_idx = np.random.choice(range(df_clean.shape[0]), round(0.7 * df_clean.shape[0]), replace = False)\n",
    "test_idx = df_clean.index[~df_clean.index.isin(train_idx)]\n",
    "train = df_clean.iloc[train_idx, :]\n",
    "test = df_clean.iloc[test_idx, :]"
   ]
  },
  {
   "cell_type": "code",
   "execution_count": 43,
   "metadata": {},
   "outputs": [
    {
     "data": {
      "text/plain": [
       "0.47771560958665726"
      ]
     },
     "execution_count": 43,
     "metadata": {},
     "output_type": "execute_result"
    }
   ],
   "source": [
    "# linear regression on separation by random choice\n",
    "regression2 = LinearRegression()\n",
    "regression2.fit(train.iloc[:, 5:24], train.iloc[:, 24])\n",
    "regression2.score(test.iloc[:, 5:24], test.iloc[:, 24])"
   ]
  },
  {
   "cell_type": "code",
   "execution_count": 44,
   "metadata": {},
   "outputs": [],
   "source": [
    "# seperate by random choice of Zip Codes\n",
    "allzc = pd.Series(df_clean.ZipCode.unique())\n",
    "train_idx = np.random.choice(range(len(allzc)), round(0.7*len(allzc)), replace = False)\n",
    "test_idx = allzc.index[~allzc.index.isin(train_idx)]\n",
    "train_zips = allzc[train_idx]\n",
    "test_zips = allzc[test_idx]\n",
    "train = df_clean[df_clean['ZipCode'].isin(train_zips)]\n",
    "test = df_clean[df_clean['ZipCode'].isin(test_zips)]"
   ]
  },
  {
   "cell_type": "code",
   "execution_count": 45,
   "metadata": {},
   "outputs": [
    {
     "data": {
      "text/plain": [
       "0.490085675491581"
      ]
     },
     "execution_count": 45,
     "metadata": {},
     "output_type": "execute_result"
    }
   ],
   "source": [
    "# linear regression on separation by random choice of ZipCode\n",
    "regression2 = LinearRegression()\n",
    "regression2.fit(train.iloc[:, 5:24], train.iloc[:, 24])\n",
    "regression2.score(test.iloc[:, 5:24], test.iloc[:, 24])"
   ]
  },
  {
   "cell_type": "code",
   "execution_count": 38,
   "metadata": {},
   "outputs": [],
   "source": [
    "value_f, p_f = f_regression(df_clean.iloc[:, 5:24], df_clean.iloc[:, 24])\n",
    "mutual_scores = mutual_info_regression(df_clean.iloc[:, 5:24], df_clean.iloc[:, 24])"
   ]
  },
  {
   "cell_type": "code",
   "execution_count": 41,
   "metadata": {},
   "outputs": [
    {
     "data": {
      "text/html": [
       "<div>\n",
       "<style scoped>\n",
       "    .dataframe tbody tr th:only-of-type {\n",
       "        vertical-align: middle;\n",
       "    }\n",
       "\n",
       "    .dataframe tbody tr th {\n",
       "        vertical-align: top;\n",
       "    }\n",
       "\n",
       "    .dataframe thead th {\n",
       "        text-align: right;\n",
       "    }\n",
       "</style>\n",
       "<table border=\"1\" class=\"dataframe\">\n",
       "  <thead>\n",
       "    <tr style=\"text-align: right;\">\n",
       "      <th></th>\n",
       "      <th>mutual information scores</th>\n",
       "      <th>p_values</th>\n",
       "      <th>value_f</th>\n",
       "      <th>coefficients1</th>\n",
       "      <th>coefficients2</th>\n",
       "    </tr>\n",
       "  </thead>\n",
       "  <tbody>\n",
       "    <tr>\n",
       "      <th>ZORI</th>\n",
       "      <td>0.588684</td>\n",
       "      <td>0.000000e+00</td>\n",
       "      <td>57454.903017</td>\n",
       "      <td>0.009309</td>\n",
       "      <td>0.011108</td>\n",
       "    </tr>\n",
       "    <tr>\n",
       "      <th>ZHVI</th>\n",
       "      <td>1.043579</td>\n",
       "      <td>0.000000e+00</td>\n",
       "      <td>68006.297966</td>\n",
       "      <td>0.000022</td>\n",
       "      <td>0.000021</td>\n",
       "    </tr>\n",
       "    <tr>\n",
       "      <th>HPI</th>\n",
       "      <td>7.320274</td>\n",
       "      <td>0.000000e+00</td>\n",
       "      <td>44207.054348</td>\n",
       "      <td>0.098586</td>\n",
       "      <td>0.108226</td>\n",
       "    </tr>\n",
       "    <tr>\n",
       "      <th>AQI</th>\n",
       "      <td>0.199494</td>\n",
       "      <td>0.000000e+00</td>\n",
       "      <td>18287.379864</td>\n",
       "      <td>0.080531</td>\n",
       "      <td>0.074104</td>\n",
       "    </tr>\n",
       "    <tr>\n",
       "      <th>Population</th>\n",
       "      <td>4.770250</td>\n",
       "      <td>0.000000e+00</td>\n",
       "      <td>34967.396901</td>\n",
       "      <td>-0.000003</td>\n",
       "      <td>-0.000002</td>\n",
       "    </tr>\n",
       "    <tr>\n",
       "      <th>Unemployment</th>\n",
       "      <td>0.269184</td>\n",
       "      <td>1.248628e-126</td>\n",
       "      <td>573.919689</td>\n",
       "      <td>3.428991</td>\n",
       "      <td>3.658547</td>\n",
       "    </tr>\n",
       "    <tr>\n",
       "      <th>Percent Bachelors</th>\n",
       "      <td>3.349893</td>\n",
       "      <td>2.029943e-55</td>\n",
       "      <td>246.073179</td>\n",
       "      <td>0.462667</td>\n",
       "      <td>0.473340</td>\n",
       "    </tr>\n",
       "    <tr>\n",
       "      <th>Permits</th>\n",
       "      <td>0.369489</td>\n",
       "      <td>0.000000e+00</td>\n",
       "      <td>24171.985978</td>\n",
       "      <td>0.000538</td>\n",
       "      <td>0.000267</td>\n",
       "    </tr>\n",
       "    <tr>\n",
       "      <th>Total_Households</th>\n",
       "      <td>4.770658</td>\n",
       "      <td>0.000000e+00</td>\n",
       "      <td>31682.423308</td>\n",
       "      <td>0.000009</td>\n",
       "      <td>0.000005</td>\n",
       "    </tr>\n",
       "    <tr>\n",
       "      <th>Med_Income</th>\n",
       "      <td>4.760606</td>\n",
       "      <td>0.000000e+00</td>\n",
       "      <td>3317.821620</td>\n",
       "      <td>-0.000273</td>\n",
       "      <td>-0.000240</td>\n",
       "    </tr>\n",
       "    <tr>\n",
       "      <th>PCE</th>\n",
       "      <td>0.000000</td>\n",
       "      <td>8.281561e-01</td>\n",
       "      <td>0.047118</td>\n",
       "      <td>-1.067574</td>\n",
       "      <td>-1.991841</td>\n",
       "    </tr>\n",
       "    <tr>\n",
       "      <th>Rental Vacancy Rate</th>\n",
       "      <td>2.698918</td>\n",
       "      <td>0.000000e+00</td>\n",
       "      <td>22905.206714</td>\n",
       "      <td>-2.542307</td>\n",
       "      <td>-2.072309</td>\n",
       "    </tr>\n",
       "    <tr>\n",
       "      <th>Job Openings</th>\n",
       "      <td>0.635678</td>\n",
       "      <td>0.000000e+00</td>\n",
       "      <td>52737.318196</td>\n",
       "      <td>0.017298</td>\n",
       "      <td>0.018592</td>\n",
       "    </tr>\n",
       "    <tr>\n",
       "      <th>CommuteTime</th>\n",
       "      <td>3.207993</td>\n",
       "      <td>0.000000e+00</td>\n",
       "      <td>7926.962861</td>\n",
       "      <td>-0.224545</td>\n",
       "      <td>-0.222908</td>\n",
       "    </tr>\n",
       "    <tr>\n",
       "      <th>Salwrkr</th>\n",
       "      <td>3.058693</td>\n",
       "      <td>0.000000e+00</td>\n",
       "      <td>1600.692219</td>\n",
       "      <td>-3.686936</td>\n",
       "      <td>-3.351124</td>\n",
       "    </tr>\n",
       "    <tr>\n",
       "      <th>Govwrkr</th>\n",
       "      <td>2.854328</td>\n",
       "      <td>0.000000e+00</td>\n",
       "      <td>2550.919580</td>\n",
       "      <td>-4.902210</td>\n",
       "      <td>-4.669549</td>\n",
       "    </tr>\n",
       "    <tr>\n",
       "      <th>GRAPI</th>\n",
       "      <td>2.227778</td>\n",
       "      <td>0.000000e+00</td>\n",
       "      <td>2409.179562</td>\n",
       "      <td>0.001060</td>\n",
       "      <td>0.001590</td>\n",
       "    </tr>\n",
       "    <tr>\n",
       "      <th>Gini_Index</th>\n",
       "      <td>4.333352</td>\n",
       "      <td>1.082794e-313</td>\n",
       "      <td>1439.289049</td>\n",
       "      <td>-152.564404</td>\n",
       "      <td>-159.678892</td>\n",
       "    </tr>\n",
       "    <tr>\n",
       "      <th>P_Density</th>\n",
       "      <td>4.769574</td>\n",
       "      <td>3.078062e-228</td>\n",
       "      <td>1043.356628</td>\n",
       "      <td>-0.000095</td>\n",
       "      <td>-0.000103</td>\n",
       "    </tr>\n",
       "  </tbody>\n",
       "</table>\n",
       "</div>"
      ],
      "text/plain": [
       "                     mutual information scores       p_values       value_f  \\\n",
       "ZORI                                  0.588684   0.000000e+00  57454.903017   \n",
       "ZHVI                                  1.043579   0.000000e+00  68006.297966   \n",
       "HPI                                   7.320274   0.000000e+00  44207.054348   \n",
       "AQI                                   0.199494   0.000000e+00  18287.379864   \n",
       "Population                            4.770250   0.000000e+00  34967.396901   \n",
       "Unemployment                          0.269184  1.248628e-126    573.919689   \n",
       "Percent Bachelors                     3.349893   2.029943e-55    246.073179   \n",
       "Permits                               0.369489   0.000000e+00  24171.985978   \n",
       "Total_Households                      4.770658   0.000000e+00  31682.423308   \n",
       "Med_Income                            4.760606   0.000000e+00   3317.821620   \n",
       "PCE                                   0.000000   8.281561e-01      0.047118   \n",
       "Rental Vacancy Rate                   2.698918   0.000000e+00  22905.206714   \n",
       "Job Openings                          0.635678   0.000000e+00  52737.318196   \n",
       "CommuteTime                           3.207993   0.000000e+00   7926.962861   \n",
       "Salwrkr                               3.058693   0.000000e+00   1600.692219   \n",
       "Govwrkr                               2.854328   0.000000e+00   2550.919580   \n",
       "GRAPI                                 2.227778   0.000000e+00   2409.179562   \n",
       "Gini_Index                            4.333352  1.082794e-313   1439.289049   \n",
       "P_Density                             4.769574  3.078062e-228   1043.356628   \n",
       "\n",
       "                     coefficients1  coefficients2  \n",
       "ZORI                      0.009309       0.011108  \n",
       "ZHVI                      0.000022       0.000021  \n",
       "HPI                       0.098586       0.108226  \n",
       "AQI                       0.080531       0.074104  \n",
       "Population               -0.000003      -0.000002  \n",
       "Unemployment              3.428991       3.658547  \n",
       "Percent Bachelors         0.462667       0.473340  \n",
       "Permits                   0.000538       0.000267  \n",
       "Total_Households          0.000009       0.000005  \n",
       "Med_Income               -0.000273      -0.000240  \n",
       "PCE                      -1.067574      -1.991841  \n",
       "Rental Vacancy Rate      -2.542307      -2.072309  \n",
       "Job Openings              0.017298       0.018592  \n",
       "CommuteTime              -0.224545      -0.222908  \n",
       "Salwrkr                  -3.686936      -3.351124  \n",
       "Govwrkr                  -4.902210      -4.669549  \n",
       "GRAPI                     0.001060       0.001590  \n",
       "Gini_Index             -152.564404    -159.678892  \n",
       "P_Density                -0.000095      -0.000103  "
      ]
     },
     "execution_count": 41,
     "metadata": {},
     "output_type": "execute_result"
    }
   ],
   "source": [
    "pd.DataFrame({'mutual information scores':mutual_scores,\n",
    "              'p_values':p_f,\n",
    "              'value_f':value_f,\n",
    "              'coefficients1':regression1.coef_,\n",
    "             'coefficients2':regression2.coef_},index = df_clean.iloc[:, 5:24].columns)"
   ]
  },
  {
   "cell_type": "markdown",
   "metadata": {},
   "source": [
    "# Random Forest Model"
   ]
  },
  {
   "cell_type": "code",
   "execution_count": 46,
   "metadata": {},
   "outputs": [],
   "source": [
    "# seperate by random choice of Zip Codes\n",
    "allzc = pd.Series(df_clean.ZipCode.unique())\n",
    "train_idx = np.random.choice(range(len(allzc)), round(0.7*len(allzc)), replace = False)\n",
    "test_idx = allzc.index[~allzc.index.isin(train_idx)]\n",
    "train_zips = allzc[train_idx]\n",
    "test_zips = allzc[test_idx]\n",
    "train = df_clean[df_clean['ZipCode'].isin(train_zips)]\n",
    "test = df_clean[df_clean['ZipCode'].isin(test_zips)]"
   ]
  },
  {
   "cell_type": "code",
   "execution_count": 47,
   "metadata": {},
   "outputs": [
    {
     "data": {
      "text/plain": [
       "RandomForestRegressor(max_features=2, random_state=42)"
      ]
     },
     "execution_count": 47,
     "metadata": {},
     "output_type": "execute_result"
    }
   ],
   "source": [
    "randomForest = ensemble.RandomForestRegressor()\n",
    "randomForest.set_params(random_state=42, n_estimators=100, max_features=2)"
   ]
  },
  {
   "cell_type": "code",
   "execution_count": 48,
   "metadata": {},
   "outputs": [
    {
     "data": {
      "text/plain": [
       "RandomForestRegressor(max_features=2, random_state=42)"
      ]
     },
     "execution_count": 48,
     "metadata": {},
     "output_type": "execute_result"
    }
   ],
   "source": [
    "randomForest.fit(train.iloc[:, 5:24], train.iloc[:, 24])"
   ]
  },
  {
   "cell_type": "code",
   "execution_count": 49,
   "metadata": {},
   "outputs": [
    {
     "data": {
      "text/plain": [
       "0.7501373824673857"
      ]
     },
     "execution_count": 49,
     "metadata": {},
     "output_type": "execute_result"
    }
   ],
   "source": [
    "randomForest.score(test.iloc[:, 5:24], test.iloc[:, 24])"
   ]
  },
  {
   "cell_type": "code",
   "execution_count": 50,
   "metadata": {},
   "outputs": [
    {
     "data": {
      "text/plain": [
       "RandomForestRegressor(max_depth=16, max_features=2, n_estimators=300,\n",
       "                      random_state=42)"
      ]
     },
     "execution_count": 50,
     "metadata": {},
     "output_type": "execute_result"
    }
   ],
   "source": [
    "# set to best parameters and try fit.  Only n_estimators and max_depth changed\n",
    "randomForest.set_params(n_estimators=300, max_depth=16)"
   ]
  },
  {
   "cell_type": "code",
   "execution_count": 51,
   "metadata": {},
   "outputs": [
    {
     "data": {
      "text/plain": [
       "RandomForestRegressor(max_depth=16, max_features=2, n_estimators=300,\n",
       "                      random_state=42)"
      ]
     },
     "execution_count": 51,
     "metadata": {},
     "output_type": "execute_result"
    }
   ],
   "source": [
    "randomForest.fit(train.iloc[:, 5:24], train.iloc[:, 24])"
   ]
  },
  {
   "cell_type": "code",
   "execution_count": 52,
   "metadata": {},
   "outputs": [
    {
     "data": {
      "text/plain": [
       "0.7667999805153888"
      ]
     },
     "execution_count": 52,
     "metadata": {},
     "output_type": "execute_result"
    }
   ],
   "source": [
    "randomForest.score(test.iloc[:, 5:24], test.iloc[:, 24])"
   ]
  },
  {
   "cell_type": "code",
   "execution_count": 53,
   "metadata": {},
   "outputs": [],
   "source": [
    "# try predictions from one year to the next"
   ]
  },
  {
   "cell_type": "code",
   "execution_count": 54,
   "metadata": {},
   "outputs": [
    {
     "data": {
      "text/plain": [
       "0.4634693575317522"
      ]
     },
     "execution_count": 54,
     "metadata": {},
     "output_type": "execute_result"
    }
   ],
   "source": [
    "test_2014 = test[test['Year']==2014]\n",
    "test_2015 = test[test['Year']==2015]\n",
    "pred_yr1 = pd.DataFrame(list(zip(np.array(test_2014.iloc[:,0]),\n",
    "                               np.array(test_2014.iloc[:,5]),\n",
    "                                 np.array(test_2015.iloc[:,5]),\n",
    "                               randomForest.predict(test_2014.iloc[:, 5:24]))),\n",
    "                      columns=['ZipCode','ZORI_2014','ZORI_2015','Prediction'])\n",
    "pred_yr1['Pred_2015']= pred_yr1['ZORI_2014']+ pred_yr1['Prediction']\n",
    "np.sqrt(mean_squared_error(pred_yr1.ZORI_2015, pred_yr1.Pred_2015))/np.mean(pred_yr1.ZORI_2015)"
   ]
  },
  {
   "cell_type": "code",
   "execution_count": 55,
   "metadata": {},
   "outputs": [
    {
     "data": {
      "text/plain": [
       "0.4622605636312282"
      ]
     },
     "execution_count": 55,
     "metadata": {},
     "output_type": "execute_result"
    }
   ],
   "source": [
    "test_1415 = test[test['Year']<2016]\n",
    "test_2016 = test[test['Year']==2016]\n",
    "pred_yr2 = pd.DataFrame(list(zip(np.array(test_1415.iloc[:,0]),\n",
    "                               np.array(test_2015.iloc[:,5]),\n",
    "                                 np.array(test_2016.iloc[:,5]),\n",
    "                               randomForest.predict(test_1415.iloc[:, 5:24]))),\n",
    "                      columns=['ZipCode','ZORI_2015','ZORI_2016','Prediction'])\n",
    "pred_yr2['Pred_2016']= pred_yr2['ZORI_2015']+ pred_yr2['Prediction']\n",
    "np.sqrt(mean_squared_error(pred_yr2.ZORI_2016, pred_yr2.Pred_2016))/np.mean(pred_yr2.ZORI_2016)"
   ]
  },
  {
   "cell_type": "code",
   "execution_count": 56,
   "metadata": {},
   "outputs": [
    {
     "data": {
      "text/plain": [
       "0.4534627694922368"
      ]
     },
     "execution_count": 56,
     "metadata": {},
     "output_type": "execute_result"
    }
   ],
   "source": [
    "test_1416 = test[test['Year']<2017]\n",
    "test_2017 = test[test['Year']==2017]\n",
    "pred_yr3 = pd.DataFrame(list(zip(np.array(test_1416.iloc[:,0]),\n",
    "                               np.array(test_2016.iloc[:,5]),\n",
    "                                 np.array(test_2017.iloc[:,5]),\n",
    "                               randomForest.predict(test_1416.iloc[:, 5:24]))),\n",
    "                      columns=['ZipCode','ZORI_2016','ZORI_2017','Prediction'])\n",
    "pred_yr3['Pred_2017']= pred_yr3['ZORI_2016']+ pred_yr3['Prediction']\n",
    "np.sqrt(mean_squared_error(pred_yr3.ZORI_2017, pred_yr3.Pred_2017))/np.mean(pred_yr3.ZORI_2017)"
   ]
  },
  {
   "cell_type": "code",
   "execution_count": 57,
   "metadata": {},
   "outputs": [
    {
     "data": {
      "text/plain": [
       "0.43802563900186814"
      ]
     },
     "execution_count": 57,
     "metadata": {},
     "output_type": "execute_result"
    }
   ],
   "source": [
    "test_1417 = test[test['Year']<2018]\n",
    "test_2018 = test[test['Year']==2018]\n",
    "pred_yr4 = pd.DataFrame(list(zip(np.array(test_1417.iloc[:,0]),\n",
    "                               np.array(test_2017.iloc[:,5]),\n",
    "                                 np.array(test_2018.iloc[:,5]),\n",
    "                               randomForest.predict(test_1417.iloc[:, 5:24]))),\n",
    "                      columns=['ZipCode','ZORI_2017','ZORI_2018','Prediction'])\n",
    "pred_yr4['Pred_2018']= pred_yr4['ZORI_2017']+ pred_yr4['Prediction']\n",
    "np.sqrt(mean_squared_error(pred_yr4.ZORI_2018, pred_yr4.Pred_2018))/np.mean(pred_yr4.ZORI_2018)"
   ]
  },
  {
   "cell_type": "code",
   "execution_count": 58,
   "metadata": {},
   "outputs": [
    {
     "data": {
      "text/plain": [
       "0.42434652854820093"
      ]
     },
     "execution_count": 58,
     "metadata": {},
     "output_type": "execute_result"
    }
   ],
   "source": [
    "test_1418 = test[test['Year']<2019]\n",
    "test_2019 = test[test['Year']==2019]\n",
    "pred_yr5 = pd.DataFrame(list(zip(np.array(test_1418.iloc[:,0]),\n",
    "                               np.array(test_2018.iloc[:,5]),\n",
    "                                 np.array(test_2019.iloc[:,5]),\n",
    "                               randomForest.predict(test_1418.iloc[:, 5:24]))),\n",
    "                      columns=['ZipCode','ZORI_2018','ZORI_2019','Prediction'])\n",
    "pred_yr5['Pred_2019']= pred_yr5['ZORI_2018']+ pred_yr5['Prediction']\n",
    "np.sqrt(mean_squared_error(pred_yr5.ZORI_2019, pred_yr5.Pred_2019))/np.mean(pred_yr5.ZORI_2019)"
   ]
  },
  {
   "cell_type": "code",
   "execution_count": 61,
   "metadata": {},
   "outputs": [],
   "source": [
    "pred_yr5['Delta']=200*(pred_yr5['Pred_2019']-pred_yr5['ZORI_2019'])/(pred_yr5['Pred_2019']+pred_yr5['ZORI_2019'])"
   ]
  },
  {
   "cell_type": "code",
   "execution_count": 66,
   "metadata": {},
   "outputs": [
    {
     "name": "stderr",
     "output_type": "stream",
     "text": [
      "/Applications/anaconda3/envs/Base_new/lib/python3.7/site-packages/seaborn/distributions.py:2551: FutureWarning: `distplot` is a deprecated function and will be removed in a future version. Please adapt your code to use either `displot` (a figure-level function with similar flexibility) or `histplot` (an axes-level function for histograms).\n",
      "  warnings.warn(msg, FutureWarning)\n"
     ]
    },
    {
     "data": {
      "text/plain": [
       "[Text(0.5, 0, 'Percent Error (%)'), Text(0, 0.5, 'No. of ZipCodes (norm)')]"
      ]
     },
     "execution_count": 66,
     "metadata": {},
     "output_type": "execute_result"
    },
    {
     "data": {
      "image/png": "[encoded data removed]",
      "text/plain": [
       "<Figure size 432x288 with 1 Axes>"
      ]
     },
     "metadata": {
      "needs_background": "light"
     },
     "output_type": "display_data"
    }
   ],
   "source": [
    "# Display distribution of errors in prediction\n",
    "g = sns.distplot(pred_yr5['Delta'])\n",
    "g.set(xlabel='Percent Error (%)', ylabel='No. of ZipCodes (norm)')"
   ]
  },
  {
   "cell_type": "code",
   "execution_count": 67,
   "metadata": {},
   "outputs": [
    {
     "data": {
      "text/html": [
       "<div>\n",
       "<style scoped>\n",
       "    .dataframe tbody tr th:only-of-type {\n",
       "        vertical-align: middle;\n",
       "    }\n",
       "\n",
       "    .dataframe tbody tr th {\n",
       "        vertical-align: top;\n",
       "    }\n",
       "\n",
       "    .dataframe thead th {\n",
       "        text-align: right;\n",
       "    }\n",
       "</style>\n",
       "<table border=\"1\" class=\"dataframe\">\n",
       "  <thead>\n",
       "    <tr style=\"text-align: right;\">\n",
       "      <th></th>\n",
       "      <th>feature importance</th>\n",
       "    </tr>\n",
       "  </thead>\n",
       "  <tbody>\n",
       "    <tr>\n",
       "      <th>Job Openings</th>\n",
       "      <td>0.107166</td>\n",
       "    </tr>\n",
       "    <tr>\n",
       "      <th>ZORI</th>\n",
       "      <td>0.097154</td>\n",
       "    </tr>\n",
       "    <tr>\n",
       "      <th>ZHVI</th>\n",
       "      <td>0.096856</td>\n",
       "    </tr>\n",
       "    <tr>\n",
       "      <th>Total_Households</th>\n",
       "      <td>0.074465</td>\n",
       "    </tr>\n",
       "    <tr>\n",
       "      <th>HPI</th>\n",
       "      <td>0.074020</td>\n",
       "    </tr>\n",
       "    <tr>\n",
       "      <th>Population</th>\n",
       "      <td>0.073233</td>\n",
       "    </tr>\n",
       "    <tr>\n",
       "      <th>Rental Vacancy Rate</th>\n",
       "      <td>0.072509</td>\n",
       "    </tr>\n",
       "    <tr>\n",
       "      <th>Permits</th>\n",
       "      <td>0.051493</td>\n",
       "    </tr>\n",
       "    <tr>\n",
       "      <th>GRAPI</th>\n",
       "      <td>0.048547</td>\n",
       "    </tr>\n",
       "    <tr>\n",
       "      <th>P_Density</th>\n",
       "      <td>0.044517</td>\n",
       "    </tr>\n",
       "    <tr>\n",
       "      <th>CommuteTime</th>\n",
       "      <td>0.042621</td>\n",
       "    </tr>\n",
       "    <tr>\n",
       "      <th>Salwrkr</th>\n",
       "      <td>0.042285</td>\n",
       "    </tr>\n",
       "    <tr>\n",
       "      <th>Govwrkr</th>\n",
       "      <td>0.041895</td>\n",
       "    </tr>\n",
       "    <tr>\n",
       "      <th>Med_Income</th>\n",
       "      <td>0.035822</td>\n",
       "    </tr>\n",
       "    <tr>\n",
       "      <th>Percent Bachelors</th>\n",
       "      <td>0.031552</td>\n",
       "    </tr>\n",
       "    <tr>\n",
       "      <th>Gini_Index</th>\n",
       "      <td>0.031473</td>\n",
       "    </tr>\n",
       "    <tr>\n",
       "      <th>AQI</th>\n",
       "      <td>0.020593</td>\n",
       "    </tr>\n",
       "    <tr>\n",
       "      <th>Unemployment</th>\n",
       "      <td>0.009879</td>\n",
       "    </tr>\n",
       "    <tr>\n",
       "      <th>PCE</th>\n",
       "      <td>0.003921</td>\n",
       "    </tr>\n",
       "  </tbody>\n",
       "</table>\n",
       "</div>"
      ],
      "text/plain": [
       "                     feature importance\n",
       "Job Openings                   0.107166\n",
       "ZORI                           0.097154\n",
       "ZHVI                           0.096856\n",
       "Total_Households               0.074465\n",
       "HPI                            0.074020\n",
       "Population                     0.073233\n",
       "Rental Vacancy Rate            0.072509\n",
       "Permits                        0.051493\n",
       "GRAPI                          0.048547\n",
       "P_Density                      0.044517\n",
       "CommuteTime                    0.042621\n",
       "Salwrkr                        0.042285\n",
       "Govwrkr                        0.041895\n",
       "Med_Income                     0.035822\n",
       "Percent Bachelors              0.031552\n",
       "Gini_Index                     0.031473\n",
       "AQI                            0.020593\n",
       "Unemployment                   0.009879\n",
       "PCE                            0.003921"
      ]
     },
     "execution_count": 67,
     "metadata": {},
     "output_type": "execute_result"
    }
   ],
   "source": [
    "fi_values = pd.Series(randomForest.feature_importances_, index = test.iloc[:, 5:24].columns).sort_values(ascending=False)\n",
    "pd.DataFrame({'feature importance':fi_values})"
   ]
  },
  {
   "cell_type": "markdown",
   "metadata": {},
   "source": [
    "# Fitting of earlier features to (ZORI_2019 - ZORI_2018)"
   ]
  },
  {
   "cell_type": "code",
   "execution_count": 29,
   "metadata": {},
   "outputs": [],
   "source": [
    "#df_clean = pd.read_csv('stationary_data2.csv') # start with fresh data"
   ]
  },
  {
   "cell_type": "code",
   "execution_count": 179,
   "metadata": {},
   "outputs": [],
   "source": [
    "df_features = df_clean[df_clean['Year']<2019]"
   ]
  },
  {
   "cell_type": "code",
   "execution_count": 180,
   "metadata": {},
   "outputs": [],
   "source": [
    "df_2019 = df_clean[df_clean['Year']==2019][['Year','Month','ZipCode','ZORI']]\n",
    "df_2019 = df_2019.rename(columns={'ZORI':'ZORI_2019'})\n",
    "df_2018 = df_clean[df_clean['Year']==2018][['Year','Month','ZipCode','ZORI']]\n",
    "df_2018 = df_2018.rename(columns={'ZORI':'ZORI_2018'})\n",
    "df_2019['Year'] = df_2019['Year']-1"
   ]
  },
  {
   "cell_type": "code",
   "execution_count": 181,
   "metadata": {},
   "outputs": [],
   "source": [
    "# combine 2018 and 2019 ZORI into one dataframe\n",
    "df_predict = pd.merge(df_2018, df_2019, left_on = ['Year','Month','ZipCode'],\n",
    "              right_on = ['Year','Month','ZipCode'], how = 'left')"
   ]
  },
  {
   "cell_type": "code",
   "execution_count": 182,
   "metadata": {},
   "outputs": [],
   "source": [
    "df_predict = df_predict[~df_predict['ZORI_2019'].isnull()]"
   ]
  },
  {
   "cell_type": "code",
   "execution_count": 183,
   "metadata": {},
   "outputs": [
    {
     "data": {
      "text/plain": [
       "Year         0\n",
       "Month        0\n",
       "ZipCode      0\n",
       "ZORI_2018    0\n",
       "ZORI_2019    0\n",
       "dtype: int64"
      ]
     },
     "execution_count": 183,
     "metadata": {},
     "output_type": "execute_result"
    }
   ],
   "source": [
    "df_predict.isnull().sum(axis=0)"
   ]
  },
  {
   "cell_type": "code",
   "execution_count": 184,
   "metadata": {},
   "outputs": [],
   "source": [
    "# calculate change in ZORI from 2019 to 2018\n",
    "df_predict['DZORI']=2*(df_predict['ZORI_2019']-df_predict['ZORI_2018'])/(df_predict['ZORI_2019']+df_predict['ZORI_2018'])"
   ]
  },
  {
   "cell_type": "code",
   "execution_count": 185,
   "metadata": {},
   "outputs": [
    {
     "data": {
      "text/html": [
       "<div>\n",
       "<style scoped>\n",
       "    .dataframe tbody tr th:only-of-type {\n",
       "        vertical-align: middle;\n",
       "    }\n",
       "\n",
       "    .dataframe tbody tr th {\n",
       "        vertical-align: top;\n",
       "    }\n",
       "\n",
       "    .dataframe thead th {\n",
       "        text-align: right;\n",
       "    }\n",
       "</style>\n",
       "<table border=\"1\" class=\"dataframe\">\n",
       "  <thead>\n",
       "    <tr style=\"text-align: right;\">\n",
       "      <th></th>\n",
       "      <th>Year</th>\n",
       "      <th>Month</th>\n",
       "      <th>ZipCode</th>\n",
       "      <th>ZORI_2018</th>\n",
       "      <th>ZORI_2019</th>\n",
       "      <th>DZORI</th>\n",
       "    </tr>\n",
       "  </thead>\n",
       "  <tbody>\n",
       "    <tr>\n",
       "      <th>1881</th>\n",
       "      <td>2018</td>\n",
       "      <td>1</td>\n",
       "      <td>92602</td>\n",
       "      <td>3283.0</td>\n",
       "      <td>3367.0</td>\n",
       "      <td>0.025263</td>\n",
       "    </tr>\n",
       "    <tr>\n",
       "      <th>4545</th>\n",
       "      <td>2018</td>\n",
       "      <td>2</td>\n",
       "      <td>92602</td>\n",
       "      <td>3289.0</td>\n",
       "      <td>3379.0</td>\n",
       "      <td>0.026995</td>\n",
       "    </tr>\n",
       "    <tr>\n",
       "      <th>7219</th>\n",
       "      <td>2018</td>\n",
       "      <td>3</td>\n",
       "      <td>92602</td>\n",
       "      <td>3294.0</td>\n",
       "      <td>3391.0</td>\n",
       "      <td>0.029020</td>\n",
       "    </tr>\n",
       "    <tr>\n",
       "      <th>9884</th>\n",
       "      <td>2018</td>\n",
       "      <td>4</td>\n",
       "      <td>92602</td>\n",
       "      <td>3299.0</td>\n",
       "      <td>3404.0</td>\n",
       "      <td>0.031329</td>\n",
       "    </tr>\n",
       "    <tr>\n",
       "      <th>12556</th>\n",
       "      <td>2018</td>\n",
       "      <td>5</td>\n",
       "      <td>92602</td>\n",
       "      <td>3308.0</td>\n",
       "      <td>3419.0</td>\n",
       "      <td>0.033001</td>\n",
       "    </tr>\n",
       "    <tr>\n",
       "      <th>15240</th>\n",
       "      <td>2018</td>\n",
       "      <td>6</td>\n",
       "      <td>92602</td>\n",
       "      <td>3316.0</td>\n",
       "      <td>3433.0</td>\n",
       "      <td>0.034672</td>\n",
       "    </tr>\n",
       "    <tr>\n",
       "      <th>17928</th>\n",
       "      <td>2018</td>\n",
       "      <td>7</td>\n",
       "      <td>92602</td>\n",
       "      <td>3325.0</td>\n",
       "      <td>3448.0</td>\n",
       "      <td>0.036321</td>\n",
       "    </tr>\n",
       "    <tr>\n",
       "      <th>20608</th>\n",
       "      <td>2018</td>\n",
       "      <td>8</td>\n",
       "      <td>92602</td>\n",
       "      <td>3331.0</td>\n",
       "      <td>3461.0</td>\n",
       "      <td>0.038280</td>\n",
       "    </tr>\n",
       "    <tr>\n",
       "      <th>23290</th>\n",
       "      <td>2018</td>\n",
       "      <td>9</td>\n",
       "      <td>92602</td>\n",
       "      <td>3338.0</td>\n",
       "      <td>3474.0</td>\n",
       "      <td>0.039930</td>\n",
       "    </tr>\n",
       "    <tr>\n",
       "      <th>25965</th>\n",
       "      <td>2018</td>\n",
       "      <td>10</td>\n",
       "      <td>92602</td>\n",
       "      <td>3344.0</td>\n",
       "      <td>3487.0</td>\n",
       "      <td>0.041868</td>\n",
       "    </tr>\n",
       "    <tr>\n",
       "      <th>28635</th>\n",
       "      <td>2018</td>\n",
       "      <td>11</td>\n",
       "      <td>92602</td>\n",
       "      <td>3352.0</td>\n",
       "      <td>3489.0</td>\n",
       "      <td>0.040053</td>\n",
       "    </tr>\n",
       "    <tr>\n",
       "      <th>31283</th>\n",
       "      <td>2018</td>\n",
       "      <td>12</td>\n",
       "      <td>92602</td>\n",
       "      <td>3359.0</td>\n",
       "      <td>3492.0</td>\n",
       "      <td>0.038826</td>\n",
       "    </tr>\n",
       "  </tbody>\n",
       "</table>\n",
       "</div>"
      ],
      "text/plain": [
       "       Year  Month  ZipCode  ZORI_2018  ZORI_2019     DZORI\n",
       "1881   2018      1    92602     3283.0     3367.0  0.025263\n",
       "4545   2018      2    92602     3289.0     3379.0  0.026995\n",
       "7219   2018      3    92602     3294.0     3391.0  0.029020\n",
       "9884   2018      4    92602     3299.0     3404.0  0.031329\n",
       "12556  2018      5    92602     3308.0     3419.0  0.033001\n",
       "15240  2018      6    92602     3316.0     3433.0  0.034672\n",
       "17928  2018      7    92602     3325.0     3448.0  0.036321\n",
       "20608  2018      8    92602     3331.0     3461.0  0.038280\n",
       "23290  2018      9    92602     3338.0     3474.0  0.039930\n",
       "25965  2018     10    92602     3344.0     3487.0  0.041868\n",
       "28635  2018     11    92602     3352.0     3489.0  0.040053\n",
       "31283  2018     12    92602     3359.0     3492.0  0.038826"
      ]
     },
     "execution_count": 185,
     "metadata": {},
     "output_type": "execute_result"
    }
   ],
   "source": [
    "#checking combined data\n",
    "df_predict[df_predict['ZipCode']==92602].head(100)"
   ]
  },
  {
   "cell_type": "code",
   "execution_count": 186,
   "metadata": {},
   "outputs": [],
   "source": [
    "#combine with features from 2014-2018\n",
    "df_features = pd.merge(df_features, df_predict[['Month','ZipCode','DZORI']], left_on = ['Month','ZipCode'],\n",
    "              right_on = ['Month','ZipCode'], how = 'left')"
   ]
  },
  {
   "cell_type": "code",
   "execution_count": 187,
   "metadata": {},
   "outputs": [
    {
     "data": {
      "text/html": [
       "<div>\n",
       "<style scoped>\n",
       "    .dataframe tbody tr th:only-of-type {\n",
       "        vertical-align: middle;\n",
       "    }\n",
       "\n",
       "    .dataframe tbody tr th {\n",
       "        vertical-align: top;\n",
       "    }\n",
       "\n",
       "    .dataframe thead th {\n",
       "        text-align: right;\n",
       "    }\n",
       "</style>\n",
       "<table border=\"1\" class=\"dataframe\">\n",
       "  <thead>\n",
       "    <tr style=\"text-align: right;\">\n",
       "      <th></th>\n",
       "      <th>ZipCode</th>\n",
       "      <th>County</th>\n",
       "      <th>State</th>\n",
       "      <th>ZORI</th>\n",
       "      <th>Year</th>\n",
       "      <th>Month</th>\n",
       "      <th>ZHVI</th>\n",
       "      <th>HPI</th>\n",
       "      <th>AQI</th>\n",
       "      <th>Population</th>\n",
       "      <th>Unemployment</th>\n",
       "      <th>Percent Bachelors</th>\n",
       "      <th>Permits</th>\n",
       "      <th>Total_Households</th>\n",
       "      <th>Med_Income</th>\n",
       "      <th>PCE</th>\n",
       "      <th>Rental Vacancy Rate</th>\n",
       "      <th>Job Openings</th>\n",
       "      <th>CommuteTime</th>\n",
       "      <th>Salwrkr</th>\n",
       "      <th>Govwrkr</th>\n",
       "      <th>GRAPI</th>\n",
       "      <th>Gini_Index</th>\n",
       "      <th>P_Density</th>\n",
       "      <th>DZORI</th>\n",
       "    </tr>\n",
       "  </thead>\n",
       "  <tbody>\n",
       "    <tr>\n",
       "      <th>1557</th>\n",
       "      <td>92602</td>\n",
       "      <td>Orange</td>\n",
       "      <td>CA</td>\n",
       "      <td>2968.0</td>\n",
       "      <td>2014</td>\n",
       "      <td>2</td>\n",
       "      <td>914390.0</td>\n",
       "      <td>211.23</td>\n",
       "      <td>59.000000</td>\n",
       "      <td>3145515.0</td>\n",
       "      <td>6.0</td>\n",
       "      <td>24.6</td>\n",
       "      <td>3401.0</td>\n",
       "      <td>1018862.0</td>\n",
       "      <td>76306.0</td>\n",
       "      <td>1.455676</td>\n",
       "      <td>3.4</td>\n",
       "      <td>449.0</td>\n",
       "      <td>27.0</td>\n",
       "      <td>82.0</td>\n",
       "      <td>10.3</td>\n",
       "      <td>540.6</td>\n",
       "      <td>0.4693</td>\n",
       "      <td>3318.368832</td>\n",
       "      <td>0.026995</td>\n",
       "    </tr>\n",
       "    <tr>\n",
       "      <th>3698</th>\n",
       "      <td>92602</td>\n",
       "      <td>Orange</td>\n",
       "      <td>CA</td>\n",
       "      <td>2974.0</td>\n",
       "      <td>2014</td>\n",
       "      <td>3</td>\n",
       "      <td>905900.0</td>\n",
       "      <td>211.23</td>\n",
       "      <td>53.774194</td>\n",
       "      <td>3145515.0</td>\n",
       "      <td>5.9</td>\n",
       "      <td>24.6</td>\n",
       "      <td>3704.0</td>\n",
       "      <td>1018862.0</td>\n",
       "      <td>76306.0</td>\n",
       "      <td>1.553287</td>\n",
       "      <td>3.4</td>\n",
       "      <td>472.0</td>\n",
       "      <td>27.0</td>\n",
       "      <td>82.0</td>\n",
       "      <td>10.3</td>\n",
       "      <td>540.6</td>\n",
       "      <td>0.4693</td>\n",
       "      <td>3318.368832</td>\n",
       "      <td>0.029020</td>\n",
       "    </tr>\n",
       "    <tr>\n",
       "      <th>6032</th>\n",
       "      <td>92602</td>\n",
       "      <td>Orange</td>\n",
       "      <td>CA</td>\n",
       "      <td>2980.0</td>\n",
       "      <td>2014</td>\n",
       "      <td>4</td>\n",
       "      <td>901592.0</td>\n",
       "      <td>211.23</td>\n",
       "      <td>60.766667</td>\n",
       "      <td>3145515.0</td>\n",
       "      <td>5.1</td>\n",
       "      <td>24.6</td>\n",
       "      <td>5327.0</td>\n",
       "      <td>1018862.0</td>\n",
       "      <td>76306.0</td>\n",
       "      <td>1.649862</td>\n",
       "      <td>3.4</td>\n",
       "      <td>512.0</td>\n",
       "      <td>27.0</td>\n",
       "      <td>82.0</td>\n",
       "      <td>10.3</td>\n",
       "      <td>540.6</td>\n",
       "      <td>0.4693</td>\n",
       "      <td>3318.368832</td>\n",
       "      <td>0.031329</td>\n",
       "    </tr>\n",
       "    <tr>\n",
       "      <th>8459</th>\n",
       "      <td>92602</td>\n",
       "      <td>Orange</td>\n",
       "      <td>CA</td>\n",
       "      <td>2987.0</td>\n",
       "      <td>2014</td>\n",
       "      <td>5</td>\n",
       "      <td>894836.0</td>\n",
       "      <td>211.23</td>\n",
       "      <td>70.838710</td>\n",
       "      <td>3145515.0</td>\n",
       "      <td>5.2</td>\n",
       "      <td>24.6</td>\n",
       "      <td>2574.0</td>\n",
       "      <td>1018862.0</td>\n",
       "      <td>76306.0</td>\n",
       "      <td>1.710313</td>\n",
       "      <td>3.4</td>\n",
       "      <td>505.0</td>\n",
       "      <td>27.0</td>\n",
       "      <td>82.0</td>\n",
       "      <td>10.3</td>\n",
       "      <td>540.6</td>\n",
       "      <td>0.4693</td>\n",
       "      <td>3318.368832</td>\n",
       "      <td>0.033001</td>\n",
       "    </tr>\n",
       "    <tr>\n",
       "      <th>10992</th>\n",
       "      <td>92602</td>\n",
       "      <td>Orange</td>\n",
       "      <td>CA</td>\n",
       "      <td>2993.0</td>\n",
       "      <td>2014</td>\n",
       "      <td>6</td>\n",
       "      <td>892724.0</td>\n",
       "      <td>211.23</td>\n",
       "      <td>63.900000</td>\n",
       "      <td>3145515.0</td>\n",
       "      <td>5.6</td>\n",
       "      <td>24.6</td>\n",
       "      <td>2594.0</td>\n",
       "      <td>1018862.0</td>\n",
       "      <td>76306.0</td>\n",
       "      <td>1.652257</td>\n",
       "      <td>3.4</td>\n",
       "      <td>526.0</td>\n",
       "      <td>27.0</td>\n",
       "      <td>82.0</td>\n",
       "      <td>10.3</td>\n",
       "      <td>540.6</td>\n",
       "      <td>0.4693</td>\n",
       "      <td>3318.368832</td>\n",
       "      <td>0.034672</td>\n",
       "    </tr>\n",
       "    <tr>\n",
       "      <th>13598</th>\n",
       "      <td>92602</td>\n",
       "      <td>Orange</td>\n",
       "      <td>CA</td>\n",
       "      <td>2999.0</td>\n",
       "      <td>2014</td>\n",
       "      <td>7</td>\n",
       "      <td>890792.0</td>\n",
       "      <td>211.23</td>\n",
       "      <td>57.967742</td>\n",
       "      <td>3145515.0</td>\n",
       "      <td>6.0</td>\n",
       "      <td>24.6</td>\n",
       "      <td>3730.0</td>\n",
       "      <td>1018862.0</td>\n",
       "      <td>76306.0</td>\n",
       "      <td>1.706296</td>\n",
       "      <td>3.4</td>\n",
       "      <td>515.0</td>\n",
       "      <td>27.0</td>\n",
       "      <td>82.0</td>\n",
       "      <td>10.3</td>\n",
       "      <td>540.6</td>\n",
       "      <td>0.4693</td>\n",
       "      <td>3318.368832</td>\n",
       "      <td>0.036321</td>\n",
       "    </tr>\n",
       "    <tr>\n",
       "      <th>16206</th>\n",
       "      <td>92602</td>\n",
       "      <td>Orange</td>\n",
       "      <td>CA</td>\n",
       "      <td>3005.0</td>\n",
       "      <td>2014</td>\n",
       "      <td>8</td>\n",
       "      <td>885392.0</td>\n",
       "      <td>211.23</td>\n",
       "      <td>57.290323</td>\n",
       "      <td>3145515.0</td>\n",
       "      <td>5.8</td>\n",
       "      <td>24.6</td>\n",
       "      <td>2742.0</td>\n",
       "      <td>1018862.0</td>\n",
       "      <td>76306.0</td>\n",
       "      <td>1.626704</td>\n",
       "      <td>3.4</td>\n",
       "      <td>557.0</td>\n",
       "      <td>27.0</td>\n",
       "      <td>82.0</td>\n",
       "      <td>10.3</td>\n",
       "      <td>540.6</td>\n",
       "      <td>0.4693</td>\n",
       "      <td>3318.368832</td>\n",
       "      <td>0.038280</td>\n",
       "    </tr>\n",
       "    <tr>\n",
       "      <th>18811</th>\n",
       "      <td>92602</td>\n",
       "      <td>Orange</td>\n",
       "      <td>CA</td>\n",
       "      <td>3011.0</td>\n",
       "      <td>2014</td>\n",
       "      <td>9</td>\n",
       "      <td>882959.0</td>\n",
       "      <td>211.23</td>\n",
       "      <td>67.333333</td>\n",
       "      <td>3145515.0</td>\n",
       "      <td>5.3</td>\n",
       "      <td>24.6</td>\n",
       "      <td>3381.0</td>\n",
       "      <td>1018862.0</td>\n",
       "      <td>76306.0</td>\n",
       "      <td>1.631711</td>\n",
       "      <td>3.4</td>\n",
       "      <td>555.0</td>\n",
       "      <td>27.0</td>\n",
       "      <td>82.0</td>\n",
       "      <td>10.3</td>\n",
       "      <td>540.6</td>\n",
       "      <td>0.4693</td>\n",
       "      <td>3318.368832</td>\n",
       "      <td>0.039930</td>\n",
       "    </tr>\n",
       "    <tr>\n",
       "      <th>21334</th>\n",
       "      <td>92602</td>\n",
       "      <td>Orange</td>\n",
       "      <td>CA</td>\n",
       "      <td>3017.0</td>\n",
       "      <td>2014</td>\n",
       "      <td>10</td>\n",
       "      <td>880531.0</td>\n",
       "      <td>211.23</td>\n",
       "      <td>70.064516</td>\n",
       "      <td>3145515.0</td>\n",
       "      <td>5.2</td>\n",
       "      <td>24.6</td>\n",
       "      <td>5954.0</td>\n",
       "      <td>1018862.0</td>\n",
       "      <td>76306.0</td>\n",
       "      <td>1.511705</td>\n",
       "      <td>3.4</td>\n",
       "      <td>572.0</td>\n",
       "      <td>27.0</td>\n",
       "      <td>82.0</td>\n",
       "      <td>10.3</td>\n",
       "      <td>540.6</td>\n",
       "      <td>0.4693</td>\n",
       "      <td>3318.368832</td>\n",
       "      <td>0.041868</td>\n",
       "    </tr>\n",
       "    <tr>\n",
       "      <th>23790</th>\n",
       "      <td>92602</td>\n",
       "      <td>Orange</td>\n",
       "      <td>CA</td>\n",
       "      <td>3023.0</td>\n",
       "      <td>2014</td>\n",
       "      <td>11</td>\n",
       "      <td>884612.0</td>\n",
       "      <td>211.23</td>\n",
       "      <td>53.300000</td>\n",
       "      <td>3145515.0</td>\n",
       "      <td>5.1</td>\n",
       "      <td>24.6</td>\n",
       "      <td>4517.0</td>\n",
       "      <td>1018862.0</td>\n",
       "      <td>76306.0</td>\n",
       "      <td>1.445545</td>\n",
       "      <td>3.4</td>\n",
       "      <td>535.0</td>\n",
       "      <td>27.0</td>\n",
       "      <td>82.0</td>\n",
       "      <td>10.3</td>\n",
       "      <td>540.6</td>\n",
       "      <td>0.4693</td>\n",
       "      <td>3318.368832</td>\n",
       "      <td>0.040053</td>\n",
       "    </tr>\n",
       "    <tr>\n",
       "      <th>26237</th>\n",
       "      <td>92602</td>\n",
       "      <td>Orange</td>\n",
       "      <td>CA</td>\n",
       "      <td>3029.0</td>\n",
       "      <td>2014</td>\n",
       "      <td>12</td>\n",
       "      <td>886284.0</td>\n",
       "      <td>211.23</td>\n",
       "      <td>61.322581</td>\n",
       "      <td>3145515.0</td>\n",
       "      <td>4.6</td>\n",
       "      <td>24.6</td>\n",
       "      <td>3925.0</td>\n",
       "      <td>1018862.0</td>\n",
       "      <td>76306.0</td>\n",
       "      <td>1.393790</td>\n",
       "      <td>3.4</td>\n",
       "      <td>519.0</td>\n",
       "      <td>27.0</td>\n",
       "      <td>82.0</td>\n",
       "      <td>10.3</td>\n",
       "      <td>540.6</td>\n",
       "      <td>0.4693</td>\n",
       "      <td>3318.368832</td>\n",
       "      <td>0.038826</td>\n",
       "    </tr>\n",
       "    <tr>\n",
       "      <th>28719</th>\n",
       "      <td>92602</td>\n",
       "      <td>Orange</td>\n",
       "      <td>CA</td>\n",
       "      <td>3035.0</td>\n",
       "      <td>2015</td>\n",
       "      <td>1</td>\n",
       "      <td>889539.0</td>\n",
       "      <td>214.50</td>\n",
       "      <td>71.387097</td>\n",
       "      <td>3169776.0</td>\n",
       "      <td>5.0</td>\n",
       "      <td>25.1</td>\n",
       "      <td>4329.0</td>\n",
       "      <td>1022542.0</td>\n",
       "      <td>78428.0</td>\n",
       "      <td>1.282239</td>\n",
       "      <td>3.0</td>\n",
       "      <td>518.0</td>\n",
       "      <td>27.3</td>\n",
       "      <td>81.8</td>\n",
       "      <td>10.0</td>\n",
       "      <td>2.1</td>\n",
       "      <td>0.4703</td>\n",
       "      <td>3343.963034</td>\n",
       "      <td>0.025263</td>\n",
       "    </tr>\n",
       "  </tbody>\n",
       "</table>\n",
       "</div>"
      ],
      "text/plain": [
       "       ZipCode  County State    ZORI  Year  Month      ZHVI     HPI  \\\n",
       "1557     92602  Orange    CA  2968.0  2014      2  914390.0  211.23   \n",
       "3698     92602  Orange    CA  2974.0  2014      3  905900.0  211.23   \n",
       "6032     92602  Orange    CA  2980.0  2014      4  901592.0  211.23   \n",
       "8459     92602  Orange    CA  2987.0  2014      5  894836.0  211.23   \n",
       "10992    92602  Orange    CA  2993.0  2014      6  892724.0  211.23   \n",
       "13598    92602  Orange    CA  2999.0  2014      7  890792.0  211.23   \n",
       "16206    92602  Orange    CA  3005.0  2014      8  885392.0  211.23   \n",
       "18811    92602  Orange    CA  3011.0  2014      9  882959.0  211.23   \n",
       "21334    92602  Orange    CA  3017.0  2014     10  880531.0  211.23   \n",
       "23790    92602  Orange    CA  3023.0  2014     11  884612.0  211.23   \n",
       "26237    92602  Orange    CA  3029.0  2014     12  886284.0  211.23   \n",
       "28719    92602  Orange    CA  3035.0  2015      1  889539.0  214.50   \n",
       "\n",
       "             AQI  Population  Unemployment  Percent Bachelors  Permits  \\\n",
       "1557   59.000000   3145515.0           6.0               24.6   3401.0   \n",
       "3698   53.774194   3145515.0           5.9               24.6   3704.0   \n",
       "6032   60.766667   3145515.0           5.1               24.6   5327.0   \n",
       "8459   70.838710   3145515.0           5.2               24.6   2574.0   \n",
       "10992  63.900000   3145515.0           5.6               24.6   2594.0   \n",
       "13598  57.967742   3145515.0           6.0               24.6   3730.0   \n",
       "16206  57.290323   3145515.0           5.8               24.6   2742.0   \n",
       "18811  67.333333   3145515.0           5.3               24.6   3381.0   \n",
       "21334  70.064516   3145515.0           5.2               24.6   5954.0   \n",
       "23790  53.300000   3145515.0           5.1               24.6   4517.0   \n",
       "26237  61.322581   3145515.0           4.6               24.6   3925.0   \n",
       "28719  71.387097   3169776.0           5.0               25.1   4329.0   \n",
       "\n",
       "       Total_Households  Med_Income       PCE  Rental Vacancy Rate  \\\n",
       "1557          1018862.0     76306.0  1.455676                  3.4   \n",
       "3698          1018862.0     76306.0  1.553287                  3.4   \n",
       "6032          1018862.0     76306.0  1.649862                  3.4   \n",
       "8459          1018862.0     76306.0  1.710313                  3.4   \n",
       "10992         1018862.0     76306.0  1.652257                  3.4   \n",
       "13598         1018862.0     76306.0  1.706296                  3.4   \n",
       "16206         1018862.0     76306.0  1.626704                  3.4   \n",
       "18811         1018862.0     76306.0  1.631711                  3.4   \n",
       "21334         1018862.0     76306.0  1.511705                  3.4   \n",
       "23790         1018862.0     76306.0  1.445545                  3.4   \n",
       "26237         1018862.0     76306.0  1.393790                  3.4   \n",
       "28719         1022542.0     78428.0  1.282239                  3.0   \n",
       "\n",
       "       Job Openings  CommuteTime  Salwrkr  Govwrkr  GRAPI  Gini_Index  \\\n",
       "1557          449.0         27.0     82.0     10.3  540.6      0.4693   \n",
       "3698          472.0         27.0     82.0     10.3  540.6      0.4693   \n",
       "6032          512.0         27.0     82.0     10.3  540.6      0.4693   \n",
       "8459          505.0         27.0     82.0     10.3  540.6      0.4693   \n",
       "10992         526.0         27.0     82.0     10.3  540.6      0.4693   \n",
       "13598         515.0         27.0     82.0     10.3  540.6      0.4693   \n",
       "16206         557.0         27.0     82.0     10.3  540.6      0.4693   \n",
       "18811         555.0         27.0     82.0     10.3  540.6      0.4693   \n",
       "21334         572.0         27.0     82.0     10.3  540.6      0.4693   \n",
       "23790         535.0         27.0     82.0     10.3  540.6      0.4693   \n",
       "26237         519.0         27.0     82.0     10.3  540.6      0.4693   \n",
       "28719         518.0         27.3     81.8     10.0    2.1      0.4703   \n",
       "\n",
       "         P_Density     DZORI  \n",
       "1557   3318.368832  0.026995  \n",
       "3698   3318.368832  0.029020  \n",
       "6032   3318.368832  0.031329  \n",
       "8459   3318.368832  0.033001  \n",
       "10992  3318.368832  0.034672  \n",
       "13598  3318.368832  0.036321  \n",
       "16206  3318.368832  0.038280  \n",
       "18811  3318.368832  0.039930  \n",
       "21334  3318.368832  0.041868  \n",
       "23790  3318.368832  0.040053  \n",
       "26237  3318.368832  0.038826  \n",
       "28719  3343.963034  0.025263  "
      ]
     },
     "execution_count": 187,
     "metadata": {},
     "output_type": "execute_result"
    }
   ],
   "source": [
    "#checking combined data\n",
    "df_features[df_features['ZipCode']==92602].head(12)"
   ]
  },
  {
   "cell_type": "code",
   "execution_count": 188,
   "metadata": {},
   "outputs": [
    {
     "data": {
      "text/plain": [
       "ZipCode                0\n",
       "County                 0\n",
       "State                  0\n",
       "ZORI                   0\n",
       "Year                   0\n",
       "Month                  0\n",
       "ZHVI                   0\n",
       "HPI                    0\n",
       "AQI                    0\n",
       "Population             0\n",
       "Unemployment           0\n",
       "Percent Bachelors      0\n",
       "Permits                0\n",
       "Total_Households       0\n",
       "Med_Income             0\n",
       "PCE                    0\n",
       "Rental Vacancy Rate    0\n",
       "Job Openings           0\n",
       "CommuteTime            0\n",
       "Salwrkr                0\n",
       "Govwrkr                0\n",
       "GRAPI                  0\n",
       "Gini_Index             0\n",
       "P_Density              0\n",
       "DZORI                  0\n",
       "dtype: int64"
      ]
     },
     "execution_count": 188,
     "metadata": {},
     "output_type": "execute_result"
    }
   ],
   "source": [
    "df_features = df_features[~df_features['DZORI'].isnull()]\n",
    "df_features.isnull().sum(axis=0)\n"
   ]
  },
  {
   "cell_type": "code",
   "execution_count": 189,
   "metadata": {},
   "outputs": [],
   "source": [
    "#rearrange column order\n",
    "cols = df_features.columns.tolist()\n",
    "cols2 = cols[:3] + cols[4:6] + ['ZORI'] + cols[6:]\n",
    "#list(zip(cols, cols2))\n",
    "df_features = df_features[cols2]"
   ]
  },
  {
   "cell_type": "code",
   "execution_count": 190,
   "metadata": {},
   "outputs": [],
   "source": [
    "# remake test and train sets seperated by random choice of Zip Codes\n",
    "allzc = pd.Series(df_features.ZipCode.unique())\n",
    "train_idx = np.random.choice(range(len(allzc)), round(0.7*len(allzc)), replace = False)\n",
    "test_idx = allzc.index[~allzc.index.isin(train_idx)]\n",
    "train_zips = allzc[train_idx]\n",
    "test_zips = allzc[test_idx]\n",
    "train = df_features[df_features['ZipCode'].isin(train_zips)]\n",
    "test = df_features[df_features['ZipCode'].isin(test_zips)]"
   ]
  },
  {
   "cell_type": "code",
   "execution_count": 191,
   "metadata": {},
   "outputs": [
    {
     "data": {
      "text/plain": [
       "RandomForestRegressor(max_depth=16, max_features=2, n_estimators=300,\n",
       "                      random_state=42)"
      ]
     },
     "execution_count": 191,
     "metadata": {},
     "output_type": "execute_result"
    }
   ],
   "source": [
    "randomForest = ensemble.RandomForestRegressor()\n",
    "randomForest.set_params(random_state=42, n_estimators=300, max_features=2, max_depth=16)"
   ]
  },
  {
   "cell_type": "code",
   "execution_count": 192,
   "metadata": {},
   "outputs": [
    {
     "data": {
      "text/plain": [
       "Index(['ZipCode', 'County', 'State', 'Year', 'Month', 'ZORI', 'ZHVI', 'HPI',\n",
       "       'AQI', 'Population', 'Unemployment', 'Percent Bachelors', 'Permits',\n",
       "       'Total_Households', 'Med_Income', 'PCE', 'Rental Vacancy Rate',\n",
       "       'Job Openings', 'CommuteTime', 'Salwrkr', 'Govwrkr', 'GRAPI',\n",
       "       'Gini_Index', 'P_Density', 'DZORI'],\n",
       "      dtype='object')"
      ]
     },
     "execution_count": 192,
     "metadata": {},
     "output_type": "execute_result"
    }
   ],
   "source": [
    "train.columns"
   ]
  },
  {
   "cell_type": "code",
   "execution_count": 193,
   "metadata": {},
   "outputs": [
    {
     "data": {
      "text/plain": [
       "RandomForestRegressor(max_depth=16, max_features=2, n_estimators=300,\n",
       "                      random_state=42)"
      ]
     },
     "execution_count": 193,
     "metadata": {},
     "output_type": "execute_result"
    }
   ],
   "source": [
    "randomForest.fit(train.iloc[:, 5:24], train.iloc[:, 24])"
   ]
  },
  {
   "cell_type": "code",
   "execution_count": 194,
   "metadata": {},
   "outputs": [
    {
     "data": {
      "text/plain": [
       "0.32585110085711144"
      ]
     },
     "execution_count": 194,
     "metadata": {},
     "output_type": "execute_result"
    }
   ],
   "source": [
    "randomForest.score(test.iloc[:, 5:24], test.iloc[:, 24])"
   ]
  },
  {
   "cell_type": "code",
   "execution_count": 195,
   "metadata": {},
   "outputs": [
    {
     "data": {
      "text/plain": [
       "0.19250543684831034"
      ]
     },
     "execution_count": 195,
     "metadata": {},
     "output_type": "execute_result"
    }
   ],
   "source": [
    "regression = LinearRegression()\n",
    "regression.fit(df_features.iloc[:, 5:24], df_features.iloc[:, 24])\n",
    "regression.score(df_features.iloc[:, 5:24], df_features.iloc[:, 24])"
   ]
  },
  {
   "cell_type": "code",
   "execution_count": 196,
   "metadata": {},
   "outputs": [],
   "source": [
    "#remake test and train sets to be random collection\n",
    "df_features.reset_index(inplace = True)\n",
    "df_features.drop('index', axis=1, inplace=True)\n",
    "train_idx = np.random.choice(range(df_features.shape[0]), round(0.7 * df_features.shape[0]), replace = False)\n",
    "test_idx = df_features.index[~df_features.index.isin(train_idx)]\n",
    "train = df_features.iloc[train_idx, :]\n",
    "test = df_features.iloc[test_idx, :]"
   ]
  },
  {
   "cell_type": "code",
   "execution_count": 197,
   "metadata": {},
   "outputs": [
    {
     "data": {
      "text/plain": [
       "RandomForestRegressor(max_depth=16, max_features=2, n_estimators=300,\n",
       "                      random_state=42)"
      ]
     },
     "execution_count": 197,
     "metadata": {},
     "output_type": "execute_result"
    }
   ],
   "source": [
    "randomForest.fit(train.iloc[:, 5:24], train.iloc[:, 24])"
   ]
  },
  {
   "cell_type": "code",
   "execution_count": 198,
   "metadata": {},
   "outputs": [
    {
     "data": {
      "text/plain": [
       "0.6320722975811297"
      ]
     },
     "execution_count": 198,
     "metadata": {},
     "output_type": "execute_result"
    }
   ],
   "source": [
    "randomForest.score(test.iloc[:, 5:24], test.iloc[:, 24])"
   ]
  },
  {
   "cell_type": "markdown",
   "metadata": {},
   "source": [
    "# Calculate slope for other parameters"
   ]
  },
  {
   "cell_type": "code",
   "execution_count": 125,
   "metadata": {},
   "outputs": [],
   "source": [
    "#perform linear fit of feature versus year for chosen Zip Code and return slope\n",
    "def slopeall(code, feature):\n",
    "    r1 = LinearRegression()\n",
    "    y1 = df_features[df_features['ZipCode']==code][feature]\n",
    "    x1 = df_features[df_features['ZipCode']==code][['Year']]\n",
    "    r1.fit(x1, y1)\n",
    "    return r1.coef_[0] "
   ]
  },
  {
   "cell_type": "code",
   "execution_count": 126,
   "metadata": {},
   "outputs": [],
   "source": [
    "features = df_features.iloc[:,6:23].columns\n",
    "allzc = df_features.ZipCode.unique()"
   ]
  },
  {
   "cell_type": "code",
   "execution_count": 127,
   "metadata": {},
   "outputs": [],
   "source": [
    "def findslopes(feature):\n",
    "    slopes = []\n",
    "    print(feature)\n",
    "    for code in allzc:\n",
    "        slopes.append(slopeall(code, feature))\n",
    "    return slopes"
   ]
  },
  {
   "cell_type": "code",
   "execution_count": 128,
   "metadata": {},
   "outputs": [
    {
     "name": "stdout",
     "output_type": "stream",
     "text": [
      "ZHVI\n",
      "HPI\n",
      "AQI\n",
      "Population\n",
      "Unemployment\n",
      "Percent Bachelors\n",
      "Permits\n",
      "Total_Households\n",
      "Med_Income\n",
      "PCE\n",
      "Rental Vacancy Rate\n",
      "Job Openings\n",
      "CommuteTime\n",
      "Salwrkr\n",
      "Govwrkr\n",
      "GRAPI\n",
      "Gini_Index\n"
     ]
    }
   ],
   "source": [
    "all_slopes = []\n",
    "for feature in features:\n",
    "    all_slopes.append(findslopes(feature))"
   ]
  },
  {
   "cell_type": "code",
   "execution_count": 130,
   "metadata": {},
   "outputs": [],
   "source": [
    "slope_df = pd.DataFrame({'ZipCode':allzc, \n",
    "                         'ZHVI_slope':all_slopes[0],\n",
    "                        'HPI_slope':all_slopes[1],\n",
    "                        'AQI_slope':all_slopes[2],\n",
    "                        'Pop_slope':all_slopes[3],\n",
    "                        'Unemploy_slope':all_slopes[4],\n",
    "                        'Bach_slope':all_slopes[5],\n",
    "                        'Units_slope':all_slopes[6],\n",
    "                        'House_slope':all_slopes[7],\n",
    "                        'Income_slope':all_slopes[8],\n",
    "                        'PCE_slope':all_slopes[9],\n",
    "                        'Vacancy_slope':all_slopes[10],\n",
    "                        'Job_slope':all_slopes[11],\n",
    "                        'CTime_slope':all_slopes[12],\n",
    "                        'Salwrkr_slope':all_slopes[13],\n",
    "                        'Govwrkr_slope':all_slopes[14],\n",
    "                        'GRAPI_slope':all_slopes[15],\n",
    "                        'Gini_slope':all_slopes[16]})"
   ]
  },
  {
   "cell_type": "code",
   "execution_count": 131,
   "metadata": {},
   "outputs": [
    {
     "data": {
      "text/html": [
       "<div>\n",
       "<style scoped>\n",
       "    .dataframe tbody tr th:only-of-type {\n",
       "        vertical-align: middle;\n",
       "    }\n",
       "\n",
       "    .dataframe tbody tr th {\n",
       "        vertical-align: top;\n",
       "    }\n",
       "\n",
       "    .dataframe thead th {\n",
       "        text-align: right;\n",
       "    }\n",
       "</style>\n",
       "<table border=\"1\" class=\"dataframe\">\n",
       "  <thead>\n",
       "    <tr style=\"text-align: right;\">\n",
       "      <th></th>\n",
       "      <th>ZipCode</th>\n",
       "      <th>ZHVI_slope</th>\n",
       "      <th>HPI_slope</th>\n",
       "      <th>AQI_slope</th>\n",
       "      <th>Pop_slope</th>\n",
       "      <th>Unemploy_slope</th>\n",
       "      <th>Bach_slope</th>\n",
       "      <th>Units_slope</th>\n",
       "      <th>House_slope</th>\n",
       "      <th>Income_slope</th>\n",
       "      <th>PCE_slope</th>\n",
       "      <th>Vacancy_slope</th>\n",
       "      <th>Job_slope</th>\n",
       "      <th>CTime_slope</th>\n",
       "      <th>Salwrkr_slope</th>\n",
       "      <th>Govwrkr_slope</th>\n",
       "      <th>GRAPI_slope</th>\n",
       "      <th>Gini_slope</th>\n",
       "    </tr>\n",
       "  </thead>\n",
       "  <tbody>\n",
       "    <tr>\n",
       "      <th>0</th>\n",
       "      <td>60657</td>\n",
       "      <td>11720.517398</td>\n",
       "      <td>5.988596</td>\n",
       "      <td>0.205363</td>\n",
       "      <td>-15910.798246</td>\n",
       "      <td>-0.754825</td>\n",
       "      <td>0.338246</td>\n",
       "      <td>58.351462</td>\n",
       "      <td>8059.945614</td>\n",
       "      <td>2111.298246</td>\n",
       "      <td>0.127975</td>\n",
       "      <td>0.032281</td>\n",
       "      <td>16.930117</td>\n",
       "      <td>0.157895</td>\n",
       "      <td>0.037895</td>\n",
       "      <td>-0.066842</td>\n",
       "      <td>-277.604912</td>\n",
       "      <td>0.002131</td>\n",
       "    </tr>\n",
       "    <tr>\n",
       "      <th>1</th>\n",
       "      <td>60614</td>\n",
       "      <td>16446.516667</td>\n",
       "      <td>3.905404</td>\n",
       "      <td>0.205363</td>\n",
       "      <td>-15910.798246</td>\n",
       "      <td>-0.754825</td>\n",
       "      <td>0.338246</td>\n",
       "      <td>58.351462</td>\n",
       "      <td>8059.945614</td>\n",
       "      <td>2111.298246</td>\n",
       "      <td>0.127975</td>\n",
       "      <td>0.032281</td>\n",
       "      <td>16.930117</td>\n",
       "      <td>0.157895</td>\n",
       "      <td>0.037895</td>\n",
       "      <td>-0.066842</td>\n",
       "      <td>-277.604912</td>\n",
       "      <td>0.002131</td>\n",
       "    </tr>\n",
       "    <tr>\n",
       "      <th>2</th>\n",
       "      <td>77449</td>\n",
       "      <td>8803.000146</td>\n",
       "      <td>11.357930</td>\n",
       "      <td>-0.757332</td>\n",
       "      <td>62648.070175</td>\n",
       "      <td>-0.066608</td>\n",
       "      <td>0.326842</td>\n",
       "      <td>-173.004678</td>\n",
       "      <td>12443.131579</td>\n",
       "      <td>1408.726316</td>\n",
       "      <td>0.127975</td>\n",
       "      <td>0.829123</td>\n",
       "      <td>16.152485</td>\n",
       "      <td>0.131930</td>\n",
       "      <td>-0.307895</td>\n",
       "      <td>0.103509</td>\n",
       "      <td>-244.720351</td>\n",
       "      <td>-0.000833</td>\n",
       "    </tr>\n",
       "    <tr>\n",
       "      <th>3</th>\n",
       "      <td>77084</td>\n",
       "      <td>8230.547222</td>\n",
       "      <td>8.679123</td>\n",
       "      <td>-0.757332</td>\n",
       "      <td>62648.070175</td>\n",
       "      <td>-0.066608</td>\n",
       "      <td>0.326842</td>\n",
       "      <td>-173.004678</td>\n",
       "      <td>12443.131579</td>\n",
       "      <td>1408.726316</td>\n",
       "      <td>0.127975</td>\n",
       "      <td>0.829123</td>\n",
       "      <td>16.152485</td>\n",
       "      <td>0.131930</td>\n",
       "      <td>-0.307895</td>\n",
       "      <td>0.103509</td>\n",
       "      <td>-244.720351</td>\n",
       "      <td>-0.000833</td>\n",
       "    </tr>\n",
       "    <tr>\n",
       "      <th>4</th>\n",
       "      <td>79936</td>\n",
       "      <td>1853.590058</td>\n",
       "      <td>2.796649</td>\n",
       "      <td>1.649437</td>\n",
       "      <td>1931.085965</td>\n",
       "      <td>-0.482646</td>\n",
       "      <td>0.090175</td>\n",
       "      <td>-173.004678</td>\n",
       "      <td>3740.963158</td>\n",
       "      <td>818.875439</td>\n",
       "      <td>0.127975</td>\n",
       "      <td>-0.153684</td>\n",
       "      <td>16.152485</td>\n",
       "      <td>0.254737</td>\n",
       "      <td>0.119825</td>\n",
       "      <td>-0.173509</td>\n",
       "      <td>-42.840702</td>\n",
       "      <td>0.008479</td>\n",
       "    </tr>\n",
       "  </tbody>\n",
       "</table>\n",
       "</div>"
      ],
      "text/plain": [
       "   ZipCode    ZHVI_slope  HPI_slope  AQI_slope     Pop_slope  Unemploy_slope  \\\n",
       "0    60657  11720.517398   5.988596   0.205363 -15910.798246       -0.754825   \n",
       "1    60614  16446.516667   3.905404   0.205363 -15910.798246       -0.754825   \n",
       "2    77449   8803.000146  11.357930  -0.757332  62648.070175       -0.066608   \n",
       "3    77084   8230.547222   8.679123  -0.757332  62648.070175       -0.066608   \n",
       "4    79936   1853.590058   2.796649   1.649437   1931.085965       -0.482646   \n",
       "\n",
       "   Bach_slope  Units_slope   House_slope  Income_slope  PCE_slope  \\\n",
       "0    0.338246    58.351462   8059.945614   2111.298246   0.127975   \n",
       "1    0.338246    58.351462   8059.945614   2111.298246   0.127975   \n",
       "2    0.326842  -173.004678  12443.131579   1408.726316   0.127975   \n",
       "3    0.326842  -173.004678  12443.131579   1408.726316   0.127975   \n",
       "4    0.090175  -173.004678   3740.963158    818.875439   0.127975   \n",
       "\n",
       "   Vacancy_slope  Job_slope  CTime_slope  Salwrkr_slope  Govwrkr_slope  \\\n",
       "0       0.032281  16.930117     0.157895       0.037895      -0.066842   \n",
       "1       0.032281  16.930117     0.157895       0.037895      -0.066842   \n",
       "2       0.829123  16.152485     0.131930      -0.307895       0.103509   \n",
       "3       0.829123  16.152485     0.131930      -0.307895       0.103509   \n",
       "4      -0.153684  16.152485     0.254737       0.119825      -0.173509   \n",
       "\n",
       "   GRAPI_slope  Gini_slope  \n",
       "0  -277.604912    0.002131  \n",
       "1  -277.604912    0.002131  \n",
       "2  -244.720351   -0.000833  \n",
       "3  -244.720351   -0.000833  \n",
       "4   -42.840702    0.008479  "
      ]
     },
     "execution_count": 131,
     "metadata": {},
     "output_type": "execute_result"
    }
   ],
   "source": [
    "slope_df.head() # dataframe containing slopes of all parameters versus year"
   ]
  },
  {
   "cell_type": "code",
   "execution_count": 132,
   "metadata": {},
   "outputs": [
    {
     "data": {
      "text/plain": [
       "(2615, 18)"
      ]
     },
     "execution_count": 132,
     "metadata": {},
     "output_type": "execute_result"
    }
   ],
   "source": [
    "slope_df.shape"
   ]
  },
  {
   "cell_type": "code",
   "execution_count": 199,
   "metadata": {},
   "outputs": [],
   "source": [
    "#combine slopes with 2014-2018 features\n",
    "df_slope_features = pd.merge(df_features, slope_df, left_on = ['ZipCode'],\n",
    "              right_on = ['ZipCode'], how = 'left')"
   ]
  },
  {
   "cell_type": "code",
   "execution_count": 213,
   "metadata": {},
   "outputs": [],
   "source": [
    "df_avgonzips = df_slope_features.groupby('ZipCode').mean().reset_index()"
   ]
  },
  {
   "cell_type": "code",
   "execution_count": 216,
   "metadata": {},
   "outputs": [],
   "source": [
    "#shift position of DZORI to be last column\n",
    "cols = df_avgonzips.columns.tolist()\n",
    "cols2 = cols[:22] + cols[23:] \n",
    "cols2.append('DZORI')\n",
    "#list(zip(cols, cols2))\n",
    "df_avgonzips = df_avgonzips[cols2]"
   ]
  },
  {
   "cell_type": "markdown",
   "metadata": {},
   "source": [
    "# Fitting slopes from 2014-2018 to price change from 2018-2019"
   ]
  },
  {
   "cell_type": "code",
   "execution_count": 217,
   "metadata": {},
   "outputs": [
    {
     "data": {
      "text/plain": [
       "Index(['ZipCode', 'Year', 'Month', 'ZORI', 'ZHVI', 'HPI', 'AQI', 'Population',\n",
       "       'Unemployment', 'Percent Bachelors', 'Permits', 'Total_Households',\n",
       "       'Med_Income', 'PCE', 'Rental Vacancy Rate', 'Job Openings',\n",
       "       'CommuteTime', 'Salwrkr', 'Govwrkr', 'GRAPI', 'Gini_Index', 'P_Density',\n",
       "       'ZHVI_slope', 'HPI_slope', 'AQI_slope', 'Pop_slope', 'Unemploy_slope',\n",
       "       'Bach_slope', 'Units_slope', 'House_slope', 'Income_slope', 'PCE_slope',\n",
       "       'Vacancy_slope', 'Job_slope', 'CTime_slope', 'Salwrkr_slope',\n",
       "       'Govwrkr_slope', 'GRAPI_slope', 'Gini_slope', 'DZORI'],\n",
       "      dtype='object')"
      ]
     },
     "execution_count": 217,
     "metadata": {},
     "output_type": "execute_result"
    }
   ],
   "source": [
    "df_avgonzips.columns"
   ]
  },
  {
   "cell_type": "code",
   "execution_count": 218,
   "metadata": {},
   "outputs": [
    {
     "data": {
      "text/plain": [
       "0.34967583938453517"
      ]
     },
     "execution_count": 218,
     "metadata": {},
     "output_type": "execute_result"
    }
   ],
   "source": [
    "regression = LinearRegression()\n",
    "regression.fit(df_avgonzips.iloc[:, 3:39], df_avgonzips.iloc[:, 39])\n",
    "regression.score(df_avgonzips.iloc[:, 3:39], df_avgonzips.iloc[:, 39])"
   ]
  },
  {
   "cell_type": "code",
   "execution_count": 219,
   "metadata": {},
   "outputs": [],
   "source": [
    "# remake test and train sets\n",
    "df_avgonzips.reset_index(inplace = True)\n",
    "df_avgonzips.drop('index', axis=1, inplace=True)\n",
    "train_idx = np.random.choice(range(df_avgonzips.shape[0]), round(0.7 * df_avgonzips.shape[0]), replace = False)\n",
    "test_idx = df_avgonzips.index[~df_avgonzips.index.isin(train_idx)]\n",
    "train = df_avgonzips.iloc[train_idx, :]\n",
    "test = df_avgonzips.iloc[test_idx, :]"
   ]
  },
  {
   "cell_type": "code",
   "execution_count": 239,
   "metadata": {},
   "outputs": [
    {
     "data": {
      "text/plain": [
       "RandomForestRegressor(max_depth=18, max_features=2, n_estimators=300,\n",
       "                      random_state=42)"
      ]
     },
     "execution_count": 239,
     "metadata": {},
     "output_type": "execute_result"
    }
   ],
   "source": [
    "randomForest = ensemble.RandomForestRegressor()\n",
    "randomForest.set_params(random_state=42, n_estimators=300, max_features=2, max_depth=18)"
   ]
  },
  {
   "cell_type": "code",
   "execution_count": 240,
   "metadata": {},
   "outputs": [
    {
     "data": {
      "text/plain": [
       "RandomForestRegressor(max_depth=18, max_features=2, n_estimators=300,\n",
       "                      random_state=42)"
      ]
     },
     "execution_count": 240,
     "metadata": {},
     "output_type": "execute_result"
    }
   ],
   "source": [
    "randomForest.fit(train.iloc[:, 3:39], train.iloc[:, 39])"
   ]
  },
  {
   "cell_type": "code",
   "execution_count": 241,
   "metadata": {},
   "outputs": [
    {
     "data": {
      "text/plain": [
       "0.419991138500417"
      ]
     },
     "execution_count": 241,
     "metadata": {},
     "output_type": "execute_result"
    }
   ],
   "source": [
    "randomForest.score(test.iloc[:, 3:39], test.iloc[:, 39])"
   ]
  },
  {
   "cell_type": "code",
   "execution_count": 243,
   "metadata": {},
   "outputs": [
    {
     "data": {
      "text/plain": [
       "0.00020003192202957176"
      ]
     },
     "execution_count": 243,
     "metadata": {},
     "output_type": "execute_result"
    }
   ],
   "source": [
    "mean_squared_error(randomForest.predict(test.iloc[:, 3:39]), test['DZORI'])"
   ]
  },
  {
   "cell_type": "code",
   "execution_count": 244,
   "metadata": {},
   "outputs": [
    {
     "data": {
      "text/plain": [
       "0.38618035839918774"
      ]
     },
     "execution_count": 244,
     "metadata": {},
     "output_type": "execute_result"
    }
   ],
   "source": [
    "pred_slopes = pd.DataFrame(list(zip(np.array(test.iloc[:,0]),\n",
    "                               np.array(test.iloc[:,39]),\n",
    "                               randomForest.predict(test.iloc[:, 3:39]))),\n",
    "                      columns=['ZipCode','DZORI','Prediction'])\n",
    "np.sqrt(mean_squared_error(pred_slopes.DZORI, pred_slopes.Prediction))/np.mean(pred_slopes.DZORI)"
   ]
  },
  {
   "cell_type": "code",
   "execution_count": 245,
   "metadata": {},
   "outputs": [],
   "source": [
    "pred_slopes['Delta']=200*(pred_slopes['Prediction']-pred_slopes['DZORI'])/(pred_slopes['Prediction']+pred_slopes['DZORI'])"
   ]
  },
  {
   "cell_type": "code",
   "execution_count": 259,
   "metadata": {},
   "outputs": [
    {
     "name": "stderr",
     "output_type": "stream",
     "text": [
      "/Applications/anaconda3/envs/Base_new/lib/python3.7/site-packages/seaborn/distributions.py:2551: FutureWarning: `distplot` is a deprecated function and will be removed in a future version. Please adapt your code to use either `displot` (a figure-level function with similar flexibility) or `histplot` (an axes-level function for histograms).\n",
      "  warnings.warn(msg, FutureWarning)\n"
     ]
    },
    {
     "data": {
      "text/plain": [
       "[Text(0.5, 0, 'Percent Error (%)'),\n",
       " Text(0, 0.5, 'No. of ZipCodes (norm)'),\n",
       " (-150.0, 150.0)]"
      ]
     },
     "execution_count": 259,
     "metadata": {},
     "output_type": "execute_result"
    },
    {
     "data": {
      "image/png": "[encoded data removed]",
      "text/plain": [
       "<Figure size 432x288 with 1 Axes>"
      ]
     },
     "metadata": {
      "needs_background": "light"
     },
     "output_type": "display_data"
    }
   ],
   "source": [
    "# Display distribution of errors in prediction\n",
    "g = sns.distplot(pred_slopes['Delta'], bins=400)\n",
    "g.set(xlabel='Percent Error (%)', ylabel='No. of ZipCodes (norm)', xlim=(-150, 150))"
   ]
  },
  {
   "cell_type": "code",
   "execution_count": 242,
   "metadata": {},
   "outputs": [
    {
     "data": {
      "text/html": [
       "<div>\n",
       "<style scoped>\n",
       "    .dataframe tbody tr th:only-of-type {\n",
       "        vertical-align: middle;\n",
       "    }\n",
       "\n",
       "    .dataframe tbody tr th {\n",
       "        vertical-align: top;\n",
       "    }\n",
       "\n",
       "    .dataframe thead th {\n",
       "        text-align: right;\n",
       "    }\n",
       "</style>\n",
       "<table border=\"1\" class=\"dataframe\">\n",
       "  <thead>\n",
       "    <tr style=\"text-align: right;\">\n",
       "      <th></th>\n",
       "      <th>feature importance</th>\n",
       "    </tr>\n",
       "  </thead>\n",
       "  <tbody>\n",
       "    <tr>\n",
       "      <th>ZORI</th>\n",
       "      <td>0.061880</td>\n",
       "    </tr>\n",
       "    <tr>\n",
       "      <th>P_Density</th>\n",
       "      <td>0.045689</td>\n",
       "    </tr>\n",
       "    <tr>\n",
       "      <th>House_slope</th>\n",
       "      <td>0.040195</td>\n",
       "    </tr>\n",
       "    <tr>\n",
       "      <th>ZHVI</th>\n",
       "      <td>0.040036</td>\n",
       "    </tr>\n",
       "    <tr>\n",
       "      <th>Pop_slope</th>\n",
       "      <td>0.037100</td>\n",
       "    </tr>\n",
       "    <tr>\n",
       "      <th>HPI_slope</th>\n",
       "      <td>0.036977</td>\n",
       "    </tr>\n",
       "    <tr>\n",
       "      <th>ZHVI_slope</th>\n",
       "      <td>0.035218</td>\n",
       "    </tr>\n",
       "    <tr>\n",
       "      <th>AQI</th>\n",
       "      <td>0.034526</td>\n",
       "    </tr>\n",
       "    <tr>\n",
       "      <th>PCE_slope</th>\n",
       "      <td>0.028789</td>\n",
       "    </tr>\n",
       "    <tr>\n",
       "      <th>AQI_slope</th>\n",
       "      <td>0.028387</td>\n",
       "    </tr>\n",
       "    <tr>\n",
       "      <th>PCE</th>\n",
       "      <td>0.027387</td>\n",
       "    </tr>\n",
       "    <tr>\n",
       "      <th>HPI</th>\n",
       "      <td>0.027151</td>\n",
       "    </tr>\n",
       "    <tr>\n",
       "      <th>Med_Income</th>\n",
       "      <td>0.026380</td>\n",
       "    </tr>\n",
       "    <tr>\n",
       "      <th>CommuteTime</th>\n",
       "      <td>0.025054</td>\n",
       "    </tr>\n",
       "    <tr>\n",
       "      <th>Population</th>\n",
       "      <td>0.024884</td>\n",
       "    </tr>\n",
       "    <tr>\n",
       "      <th>Vacancy_slope</th>\n",
       "      <td>0.024874</td>\n",
       "    </tr>\n",
       "    <tr>\n",
       "      <th>Total_Households</th>\n",
       "      <td>0.024848</td>\n",
       "    </tr>\n",
       "    <tr>\n",
       "      <th>GRAPI</th>\n",
       "      <td>0.024501</td>\n",
       "    </tr>\n",
       "    <tr>\n",
       "      <th>Job Openings</th>\n",
       "      <td>0.024209</td>\n",
       "    </tr>\n",
       "    <tr>\n",
       "      <th>Percent Bachelors</th>\n",
       "      <td>0.024170</td>\n",
       "    </tr>\n",
       "    <tr>\n",
       "      <th>Gini_slope</th>\n",
       "      <td>0.024162</td>\n",
       "    </tr>\n",
       "    <tr>\n",
       "      <th>Unemployment</th>\n",
       "      <td>0.024058</td>\n",
       "    </tr>\n",
       "    <tr>\n",
       "      <th>Units_slope</th>\n",
       "      <td>0.024044</td>\n",
       "    </tr>\n",
       "    <tr>\n",
       "      <th>Rental Vacancy Rate</th>\n",
       "      <td>0.023973</td>\n",
       "    </tr>\n",
       "    <tr>\n",
       "      <th>GRAPI_slope</th>\n",
       "      <td>0.023802</td>\n",
       "    </tr>\n",
       "    <tr>\n",
       "      <th>Unemploy_slope</th>\n",
       "      <td>0.023794</td>\n",
       "    </tr>\n",
       "    <tr>\n",
       "      <th>Job_slope</th>\n",
       "      <td>0.023729</td>\n",
       "    </tr>\n",
       "    <tr>\n",
       "      <th>Govwrkr_slope</th>\n",
       "      <td>0.023578</td>\n",
       "    </tr>\n",
       "    <tr>\n",
       "      <th>Govwrkr</th>\n",
       "      <td>0.022255</td>\n",
       "    </tr>\n",
       "    <tr>\n",
       "      <th>Permits</th>\n",
       "      <td>0.021475</td>\n",
       "    </tr>\n",
       "    <tr>\n",
       "      <th>Salwrkr</th>\n",
       "      <td>0.021216</td>\n",
       "    </tr>\n",
       "    <tr>\n",
       "      <th>CTime_slope</th>\n",
       "      <td>0.021077</td>\n",
       "    </tr>\n",
       "    <tr>\n",
       "      <th>Income_slope</th>\n",
       "      <td>0.020967</td>\n",
       "    </tr>\n",
       "    <tr>\n",
       "      <th>Gini_Index</th>\n",
       "      <td>0.020874</td>\n",
       "    </tr>\n",
       "    <tr>\n",
       "      <th>Salwrkr_slope</th>\n",
       "      <td>0.020370</td>\n",
       "    </tr>\n",
       "    <tr>\n",
       "      <th>Bach_slope</th>\n",
       "      <td>0.018370</td>\n",
       "    </tr>\n",
       "  </tbody>\n",
       "</table>\n",
       "</div>"
      ],
      "text/plain": [
       "                     feature importance\n",
       "ZORI                           0.061880\n",
       "P_Density                      0.045689\n",
       "House_slope                    0.040195\n",
       "ZHVI                           0.040036\n",
       "Pop_slope                      0.037100\n",
       "HPI_slope                      0.036977\n",
       "ZHVI_slope                     0.035218\n",
       "AQI                            0.034526\n",
       "PCE_slope                      0.028789\n",
       "AQI_slope                      0.028387\n",
       "PCE                            0.027387\n",
       "HPI                            0.027151\n",
       "Med_Income                     0.026380\n",
       "CommuteTime                    0.025054\n",
       "Population                     0.024884\n",
       "Vacancy_slope                  0.024874\n",
       "Total_Households               0.024848\n",
       "GRAPI                          0.024501\n",
       "Job Openings                   0.024209\n",
       "Percent Bachelors              0.024170\n",
       "Gini_slope                     0.024162\n",
       "Unemployment                   0.024058\n",
       "Units_slope                    0.024044\n",
       "Rental Vacancy Rate            0.023973\n",
       "GRAPI_slope                    0.023802\n",
       "Unemploy_slope                 0.023794\n",
       "Job_slope                      0.023729\n",
       "Govwrkr_slope                  0.023578\n",
       "Govwrkr                        0.022255\n",
       "Permits                        0.021475\n",
       "Salwrkr                        0.021216\n",
       "CTime_slope                    0.021077\n",
       "Income_slope                   0.020967\n",
       "Gini_Index                     0.020874\n",
       "Salwrkr_slope                  0.020370\n",
       "Bach_slope                     0.018370"
      ]
     },
     "execution_count": 242,
     "metadata": {},
     "output_type": "execute_result"
    }
   ],
   "source": [
    "fi_values = pd.Series(randomForest.feature_importances_, index = test.iloc[:, 3:39].columns).sort_values(ascending=False)\n",
    "pd.DataFrame({'feature importance':fi_values})"
   ]
  },
  {
   "cell_type": "code",
   "execution_count": 251,
   "metadata": {},
   "outputs": [],
   "source": [
    "#try fit using only most important features\n",
    "best_parms = df_avgonzips[['ZORI','P_Density','House_slope','ZHVI','Pop_slope','HPI_slope','ZHVI_slope','AQI',\n",
    "                          'PCE_slope','AQI_slope','PCE','HPI','DZORI']].copy()"
   ]
  },
  {
   "cell_type": "code",
   "execution_count": 252,
   "metadata": {},
   "outputs": [],
   "source": [
    "# remake test and train sets\n",
    "best_parms.reset_index(inplace = True)\n",
    "best_parms.drop('index', axis=1, inplace=True)\n",
    "train_idx = np.random.choice(range(best_parms.shape[0]), round(0.7 * best_parms.shape[0]), replace = False)\n",
    "test_idx = best_parms.index[~best_parms.index.isin(train_idx)]\n",
    "train = best_parms.iloc[train_idx, :]\n",
    "test = best_parms.iloc[test_idx, :]"
   ]
  },
  {
   "cell_type": "code",
   "execution_count": 256,
   "metadata": {},
   "outputs": [
    {
     "data": {
      "text/plain": [
       "0.28484187145843276"
      ]
     },
     "execution_count": 256,
     "metadata": {},
     "output_type": "execute_result"
    }
   ],
   "source": [
    "regression = LinearRegression()\n",
    "regression.fit(best_parms.iloc[:, 0:12], best_parms.iloc[:, 12])\n",
    "regression.score(best_parms.iloc[:, 0:12], best_parms.iloc[:, 12])"
   ]
  },
  {
   "cell_type": "code",
   "execution_count": 253,
   "metadata": {},
   "outputs": [
    {
     "data": {
      "text/plain": [
       "RandomForestRegressor(max_depth=18, max_features=2, n_estimators=300,\n",
       "                      random_state=42)"
      ]
     },
     "execution_count": 253,
     "metadata": {},
     "output_type": "execute_result"
    }
   ],
   "source": [
    "randomForest.fit(train.iloc[:, 0:12], train.iloc[:, 12])"
   ]
  },
  {
   "cell_type": "code",
   "execution_count": 254,
   "metadata": {},
   "outputs": [
    {
     "data": {
      "text/plain": [
       "0.4366116795549986"
      ]
     },
     "execution_count": 254,
     "metadata": {},
     "output_type": "execute_result"
    }
   ],
   "source": [
    "randomForest.score(test.iloc[:, 0:12], test.iloc[:, 12])"
   ]
  },
  {
   "cell_type": "code",
   "execution_count": 255,
   "metadata": {},
   "outputs": [
    {
     "data": {
      "text/html": [
       "<div>\n",
       "<style scoped>\n",
       "    .dataframe tbody tr th:only-of-type {\n",
       "        vertical-align: middle;\n",
       "    }\n",
       "\n",
       "    .dataframe tbody tr th {\n",
       "        vertical-align: top;\n",
       "    }\n",
       "\n",
       "    .dataframe thead th {\n",
       "        text-align: right;\n",
       "    }\n",
       "</style>\n",
       "<table border=\"1\" class=\"dataframe\">\n",
       "  <thead>\n",
       "    <tr style=\"text-align: right;\">\n",
       "      <th></th>\n",
       "      <th>feature importance</th>\n",
       "    </tr>\n",
       "  </thead>\n",
       "  <tbody>\n",
       "    <tr>\n",
       "      <th>ZORI</th>\n",
       "      <td>0.133254</td>\n",
       "    </tr>\n",
       "    <tr>\n",
       "      <th>House_slope</th>\n",
       "      <td>0.098834</td>\n",
       "    </tr>\n",
       "    <tr>\n",
       "      <th>Pop_slope</th>\n",
       "      <td>0.096671</td>\n",
       "    </tr>\n",
       "    <tr>\n",
       "      <th>P_Density</th>\n",
       "      <td>0.095255</td>\n",
       "    </tr>\n",
       "    <tr>\n",
       "      <th>AQI</th>\n",
       "      <td>0.082334</td>\n",
       "    </tr>\n",
       "    <tr>\n",
       "      <th>ZHVI_slope</th>\n",
       "      <td>0.079526</td>\n",
       "    </tr>\n",
       "    <tr>\n",
       "      <th>HPI_slope</th>\n",
       "      <td>0.077889</td>\n",
       "    </tr>\n",
       "    <tr>\n",
       "      <th>ZHVI</th>\n",
       "      <td>0.073687</td>\n",
       "    </tr>\n",
       "    <tr>\n",
       "      <th>PCE_slope</th>\n",
       "      <td>0.070059</td>\n",
       "    </tr>\n",
       "    <tr>\n",
       "      <th>PCE</th>\n",
       "      <td>0.067188</td>\n",
       "    </tr>\n",
       "    <tr>\n",
       "      <th>AQI_slope</th>\n",
       "      <td>0.066796</td>\n",
       "    </tr>\n",
       "    <tr>\n",
       "      <th>HPI</th>\n",
       "      <td>0.058506</td>\n",
       "    </tr>\n",
       "  </tbody>\n",
       "</table>\n",
       "</div>"
      ],
      "text/plain": [
       "             feature importance\n",
       "ZORI                   0.133254\n",
       "House_slope            0.098834\n",
       "Pop_slope              0.096671\n",
       "P_Density              0.095255\n",
       "AQI                    0.082334\n",
       "ZHVI_slope             0.079526\n",
       "HPI_slope              0.077889\n",
       "ZHVI                   0.073687\n",
       "PCE_slope              0.070059\n",
       "PCE                    0.067188\n",
       "AQI_slope              0.066796\n",
       "HPI                    0.058506"
      ]
     },
     "execution_count": 255,
     "metadata": {},
     "output_type": "execute_result"
    }
   ],
   "source": [
    "fi_values = pd.Series(randomForest.feature_importances_, index = test.iloc[:, 0:12].columns).sort_values(ascending=False)\n",
    "pd.DataFrame({'feature importance':fi_values})"
   ]
  },
  {
   "cell_type": "code",
   "execution_count": 108,
   "metadata": {},
   "outputs": [
    {
     "data": {
      "text/plain": [
       "RandomForestRegressor(max_depth=10, min_samples_leaf=75, min_samples_split=75,\n",
       "                      n_estimators=300, random_state=42)"
      ]
     },
     "execution_count": 108,
     "metadata": {},
     "output_type": "execute_result"
    }
   ],
   "source": [
    "#try different set of hyperparameters\n",
    "randomForest = ensemble.RandomForestRegressor()\n",
    "randomForest.set_params(criterion = 'mse', \n",
    "                        max_depth = 10,\n",
    "                        min_samples_leaf = 75,\n",
    "                        min_samples_split = 75,\n",
    "                        random_state=42, \n",
    "                        n_estimators=300)"
   ]
  },
  {
   "cell_type": "code",
   "execution_count": 109,
   "metadata": {},
   "outputs": [
    {
     "data": {
      "text/plain": [
       "RandomForestRegressor(max_depth=10, min_samples_leaf=75, min_samples_split=75,\n",
       "                      n_estimators=300, random_state=42)"
      ]
     },
     "execution_count": 109,
     "metadata": {},
     "output_type": "execute_result"
    }
   ],
   "source": [
    "randomForest.fit(train.iloc[:, 3:28], train.iloc[:, 28])"
   ]
  },
  {
   "cell_type": "code",
   "execution_count": 110,
   "metadata": {},
   "outputs": [
    {
     "data": {
      "text/plain": [
       "0.5488287719101752"
      ]
     },
     "execution_count": 110,
     "metadata": {},
     "output_type": "execute_result"
    }
   ],
   "source": [
    "randomForest.score(test.iloc[:, 3:28], test.iloc[:, 28])"
   ]
  },
  {
   "cell_type": "code",
   "execution_count": 111,
   "metadata": {},
   "outputs": [
    {
     "data": {
      "text/html": [
       "<div>\n",
       "<style scoped>\n",
       "    .dataframe tbody tr th:only-of-type {\n",
       "        vertical-align: middle;\n",
       "    }\n",
       "\n",
       "    .dataframe tbody tr th {\n",
       "        vertical-align: top;\n",
       "    }\n",
       "\n",
       "    .dataframe thead th {\n",
       "        text-align: right;\n",
       "    }\n",
       "</style>\n",
       "<table border=\"1\" class=\"dataframe\">\n",
       "  <thead>\n",
       "    <tr style=\"text-align: right;\">\n",
       "      <th></th>\n",
       "      <th>feature importance</th>\n",
       "    </tr>\n",
       "  </thead>\n",
       "  <tbody>\n",
       "    <tr>\n",
       "      <th>ZHVI_slope</th>\n",
       "      <td>0.316007</td>\n",
       "    </tr>\n",
       "    <tr>\n",
       "      <th>Job_slope</th>\n",
       "      <td>0.110127</td>\n",
       "    </tr>\n",
       "    <tr>\n",
       "      <th>Total_Households</th>\n",
       "      <td>0.080492</td>\n",
       "    </tr>\n",
       "    <tr>\n",
       "      <th>Population</th>\n",
       "      <td>0.071123</td>\n",
       "    </tr>\n",
       "    <tr>\n",
       "      <th>House_slope</th>\n",
       "      <td>0.055276</td>\n",
       "    </tr>\n",
       "    <tr>\n",
       "      <th>Pop_slope</th>\n",
       "      <td>0.050989</td>\n",
       "    </tr>\n",
       "    <tr>\n",
       "      <th>Income_slope</th>\n",
       "      <td>0.044195</td>\n",
       "    </tr>\n",
       "    <tr>\n",
       "      <th>ZORI</th>\n",
       "      <td>0.032385</td>\n",
       "    </tr>\n",
       "    <tr>\n",
       "      <th>Vacancy_slope</th>\n",
       "      <td>0.032307</td>\n",
       "    </tr>\n",
       "    <tr>\n",
       "      <th>HPI_slope</th>\n",
       "      <td>0.032105</td>\n",
       "    </tr>\n",
       "    <tr>\n",
       "      <th>Bach_slope</th>\n",
       "      <td>0.028831</td>\n",
       "    </tr>\n",
       "    <tr>\n",
       "      <th>Units_slope</th>\n",
       "      <td>0.026268</td>\n",
       "    </tr>\n",
       "    <tr>\n",
       "      <th>PCE_slope</th>\n",
       "      <td>0.025528</td>\n",
       "    </tr>\n",
       "    <tr>\n",
       "      <th>AQI_slope</th>\n",
       "      <td>0.024940</td>\n",
       "    </tr>\n",
       "    <tr>\n",
       "      <th>Percent Bachelors</th>\n",
       "      <td>0.024687</td>\n",
       "    </tr>\n",
       "    <tr>\n",
       "      <th>Unemploy_slope</th>\n",
       "      <td>0.019988</td>\n",
       "    </tr>\n",
       "    <tr>\n",
       "      <th>ZHVI</th>\n",
       "      <td>0.012911</td>\n",
       "    </tr>\n",
       "    <tr>\n",
       "      <th>HPI</th>\n",
       "      <td>0.008684</td>\n",
       "    </tr>\n",
       "    <tr>\n",
       "      <th>Med_income</th>\n",
       "      <td>0.002183</td>\n",
       "    </tr>\n",
       "    <tr>\n",
       "      <th>Job Openings</th>\n",
       "      <td>0.000412</td>\n",
       "    </tr>\n",
       "    <tr>\n",
       "      <th>AQI</th>\n",
       "      <td>0.000235</td>\n",
       "    </tr>\n",
       "    <tr>\n",
       "      <th>Units</th>\n",
       "      <td>0.000225</td>\n",
       "    </tr>\n",
       "    <tr>\n",
       "      <th>Unemployment</th>\n",
       "      <td>0.000051</td>\n",
       "    </tr>\n",
       "    <tr>\n",
       "      <th>Rental Vacancy Rate</th>\n",
       "      <td>0.000047</td>\n",
       "    </tr>\n",
       "    <tr>\n",
       "      <th>PCE</th>\n",
       "      <td>0.000003</td>\n",
       "    </tr>\n",
       "  </tbody>\n",
       "</table>\n",
       "</div>"
      ],
      "text/plain": [
       "                     feature importance\n",
       "ZHVI_slope                     0.316007\n",
       "Job_slope                      0.110127\n",
       "Total_Households               0.080492\n",
       "Population                     0.071123\n",
       "House_slope                    0.055276\n",
       "Pop_slope                      0.050989\n",
       "Income_slope                   0.044195\n",
       "ZORI                           0.032385\n",
       "Vacancy_slope                  0.032307\n",
       "HPI_slope                      0.032105\n",
       "Bach_slope                     0.028831\n",
       "Units_slope                    0.026268\n",
       "PCE_slope                      0.025528\n",
       "AQI_slope                      0.024940\n",
       "Percent Bachelors              0.024687\n",
       "Unemploy_slope                 0.019988\n",
       "ZHVI                           0.012911\n",
       "HPI                            0.008684\n",
       "Med_income                     0.002183\n",
       "Job Openings                   0.000412\n",
       "AQI                            0.000235\n",
       "Units                          0.000225\n",
       "Unemployment                   0.000051\n",
       "Rental Vacancy Rate            0.000047\n",
       "PCE                            0.000003"
      ]
     },
     "execution_count": 111,
     "metadata": {},
     "output_type": "execute_result"
    }
   ],
   "source": [
    "fi_values = pd.Series(randomForest.feature_importances_, index = test.iloc[:, 3:28].columns).sort_values(ascending=False)\n",
    "pd.DataFrame({'feature importance':fi_values})"
   ]
  }
 ],
 "metadata": {
  "kernelspec": {
   "display_name": "Python 3",
   "language": "python",
   "name": "python3"
  },
  "language_info": {
   "codemirror_mode": {
    "name": "ipython",
    "version": 3
   },
   "file_extension": ".py",
   "mimetype": "text/x-python",
   "name": "python",
   "nbconvert_exporter": "python",
   "pygments_lexer": "ipython3",
   "version": "3.7.9"
  }
 },
 "nbformat": 4,
 "nbformat_minor": 4
}
