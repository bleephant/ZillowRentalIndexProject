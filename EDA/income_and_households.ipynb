{
 "cells": [
  {
   "cell_type": "code",
   "execution_count": 1,
   "metadata": {},
   "outputs": [],
   "source": [
    "import pandas as pd\n",
    "import numpy as np\n",
    "from us_state_abbrev import us_state_abbrev\n",
    "import glob"
   ]
  },
  {
   "cell_type": "code",
   "execution_count": 2,
   "metadata": {},
   "outputs": [],
   "source": [
    "path = r\"./data/incomedata\" \n",
    "files = glob.glob(path + \"/*.csv\")\n",
    "years = ['2011', '2012', '2013', '2014', '2015', '2016', '2017', '2018', '2019']\n",
    "li=[]\n",
    "\n",
    "for (f, y) in zip(files, years):\n",
    "    df = pd.read_csv(f, index_col = None, header = 0)\n",
    "    df = df.loc[1:] # removes unnecessary column description\n",
    "    df['Year'] = y\n",
    "    li.append(df)\n",
    "\n",
    "frame = pd.concat(li, axis=0, ignore_index=True)\n",
    "framec = frame.copy()"
   ]
  },
  {
   "cell_type": "code",
   "execution_count": 3,
   "metadata": {},
   "outputs": [],
   "source": [
    "income = framec.loc[:, ['Year', 'NAME' ,'DP03_0051E' ,'DP03_0062E']]\n",
    "income.rename(columns = {'NAME':'County','DP03_0051E':'Total_Households', 'DP03_0062E':'Med_income'}, inplace = True)"
   ]
  },
  {
   "cell_type": "markdown",
   "metadata": {},
   "source": [
    "### fixing 'Location' format"
   ]
  },
  {
   "cell_type": "code",
   "execution_count": 4,
   "metadata": {},
   "outputs": [],
   "source": [
    "income['State'] = income['County'].str.split(',', 1, expand=True)[1]\n",
    "income['State'] = income['State'].apply(lambda x: x.strip())\n",
    "income['State'] = income['State'].map(us_state_abbrev)\n",
    "income['County']=income['County'].str.split(',', 1, expand=True)[0]"
   ]
  },
  {
   "cell_type": "markdown",
   "metadata": {},
   "source": [
    " ### changing 'income' to integers"
   ]
  },
  {
   "cell_type": "code",
   "execution_count": 5,
   "metadata": {},
   "outputs": [],
   "source": [
    "income['Med_income']=income['Med_income'].apply(lambda x: int(x))\n",
    "income['Total_Households'] = income['Total_Households'].apply(lambda x: int(x))\n",
    "income['Year'] = pd.to_datetime(income.Year, format='%Y').dt.year"
   ]
  },
  {
   "cell_type": "markdown",
   "metadata": {},
   "source": [
    "### imputing missing values"
   ]
  },
  {
   "cell_type": "code",
   "execution_count": 6,
   "metadata": {},
   "outputs": [],
   "source": [
    "income = pd.concat([income, pd.DataFrame([[2015, 'Bayamón Municipio', (71307 + 70124) / 2, (25271 + 24128) / 2, 'PR'], \n",
    "                                         [2015, 'Mayagüez Municipio', (29553 + 29138) / 2, (14108 + 14532) / 2, 'PR']], \n",
    "                                        columns = ['Year', 'County', 'Total_Households', 'Med_income', 'State'])])"
   ]
  },
  {
   "cell_type": "code",
   "execution_count": 10,
   "metadata": {},
   "outputs": [],
   "source": [
    "yearmonth = pd.DataFrame({'Year': np.arange(income['Year'].min(), income['Year'].max() + 1).repeat(12),\n",
    "                          'Month': list(np.arange(1, 13)) * (income['Year'].max() - income['Year'].min() + 1)})"
   ]
  },
  {
   "cell_type": "code",
   "execution_count": 12,
   "metadata": {},
   "outputs": [],
   "source": [
    "income = pd.merge(income, yearmonth, on = 'Year')\n",
    "income['Year_Month'] = income['Year'].map(str) + '_' + income['Month'].map(str)"
   ]
  },
  {
   "cell_type": "code",
   "execution_count": 14,
   "metadata": {},
   "outputs": [],
   "source": [
    "# m_income = pd.DataFrame()\n",
    "# for (_, _), df in income.groupby(['County', 'State']):\n",
    "#     df['iChange'] = df['Med_income'].diff() / df['Med_income'].shift()\n",
    "#     df['hChange'] = df['Total_Households'].diff() / df['Total_Households'].shift()\n",
    "#     df = df.iloc[np.arange(df.shape[0]).repeat(12)].reset_index().drop('index', axis = 1)\n",
    "#     df = pd.concat([df, pd.DataFrame(list(range(1, 13)) * int(df.shape[0] / 12), columns = ['Month'])], axis = 1)\n",
    "#     for year in pd.unique(df['Year'])[1:]:\n",
    "#         df.loc[df['Year'] == year, 'Med_income'] = np.array(df.loc[df['Year'] == (year - 1), 'Med_income']) * \\\n",
    "#                                                    np.array((((1 + df.loc[df['Year'] == year, 'iChange']) ** (1/12)) ** \\\n",
    "#                                                                df.loc[df['Year'] == year, 'Month']))\n",
    "#         df.loc[df['Year'] == year, 'Total_Households'] = np.array(df.loc[df['Year'] == (year - 1), 'Total_Households']) * \\\n",
    "#                                                    np.array((((1 + df.loc[df['Year'] == year, 'hChange']) ** (1/12)) ** \\\n",
    "#                                                                df.loc[df['Year'] == year, 'Month']))\n",
    "#     df = df[df['Year'] != 2011]\n",
    "#     df = df[['County', 'State', 'Year', 'Month', 'Total_Households', 'Med_income']]\n",
    "#     m_income = pd.concat([m_income, df], axis = 0)"
   ]
  },
  {
   "cell_type": "code",
   "execution_count": 15,
   "metadata": {},
   "outputs": [],
   "source": [
    "income.to_csv('./data/income_and_households.csv')"
   ]
  }
 ],
 "metadata": {
  "kernelspec": {
   "display_name": "Python 3",
   "language": "python",
   "name": "python3"
  },
  "language_info": {
   "codemirror_mode": {
    "name": "ipython",
    "version": 3
   },
   "file_extension": ".py",
   "mimetype": "text/x-python",
   "name": "python",
   "nbconvert_exporter": "python",
   "pygments_lexer": "ipython3",
   "version": "3.7.7"
  }
 },
 "nbformat": 4,
 "nbformat_minor": 4
}
