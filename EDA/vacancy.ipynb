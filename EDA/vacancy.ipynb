{
 "cells": [
  {
   "cell_type": "code",
   "execution_count": 1,
   "metadata": {},
   "outputs": [],
   "source": [
    "import pandas as pd\n",
    "import numpy as np\n",
    "from us_state_abbrev import us_state_abbrev\n",
    "import glob"
   ]
  },
  {
   "cell_type": "code",
   "execution_count": 2,
   "metadata": {},
   "outputs": [],
   "source": [
    "path = r\"./data/vacancydata\" \n",
    "files = glob.glob(path + \"/*.csv\")\n",
    "years = ['2012','2013','2014','2015','2016','2017','2018','2019']\n",
    "li=[]\n",
    "\n",
    "for (f,y) in zip(files,years):\n",
    "    df = pd.read_csv(f, index_col=None, header=0)\n",
    "    df = df.loc[1:] #removes unnecessary column description\n",
    "    df['Year'] = y\n",
    "    li.append(df)\n",
    "\n",
    "frame = pd.concat(li, axis=0, ignore_index=True)\n",
    "framec = frame.copy()"
   ]
  },
  {
   "cell_type": "code",
   "execution_count": 3,
   "metadata": {},
   "outputs": [],
   "source": [
    "framec.rename(columns={\n",
    "    'DP04_0001E':'Total Housing Units','DP04_0002E':'Occupied Units', 'DP04_0003E':'Vacant Units',\n",
    "    'DP04_0004E':'Homeowner Vacancy Rate','DP04_0005E':'Rental Vacancy Rate','NAME':'County'}, inplace=True)"
   ]
  },
  {
   "cell_type": "code",
   "execution_count": 4,
   "metadata": {},
   "outputs": [
    {
     "data": {
      "text/plain": [
       "Index(['GEO_ID', 'County', 'Total Housing Units', 'DP04_0001M', 'DP04_0001PE',\n",
       "       'DP04_0001PM', 'Occupied Units', 'DP04_0002M', 'DP04_0002PE',\n",
       "       'DP04_0002PM',\n",
       "       ...\n",
       "       'DP04_0114M', 'Year', 'DP04_0142E', 'DP04_0142M', 'DP04_0142PE',\n",
       "       'DP04_0142PM', 'DP04_0143E', 'DP04_0143M', 'DP04_0143PE',\n",
       "       'DP04_0143PM'],\n",
       "      dtype='object', length=575)"
      ]
     },
     "execution_count": 4,
     "metadata": {},
     "output_type": "execute_result"
    }
   ],
   "source": [
    "framec.columns"
   ]
  },
  {
   "cell_type": "code",
   "execution_count": 5,
   "metadata": {},
   "outputs": [],
   "source": [
    "vacantdf = framec.loc[:,['Year','County','Total Housing Units','Occupied Units','Vacant Units','Rental Vacancy Rate','Homeowner Vacancy Rate']]"
   ]
  },
  {
   "cell_type": "markdown",
   "metadata": {},
   "source": [
    "## fixing 'County' format"
   ]
  },
  {
   "cell_type": "code",
   "execution_count": 6,
   "metadata": {},
   "outputs": [],
   "source": [
    "vacantdf['county']=vacantdf['County'].str.split(',',1,expand=True)[0]\n",
    "vacantdf['state'] = vacantdf['County'].str.split(',',1,expand=True)[1]\n",
    "vacantdf['state'] = vacantdf['state'].map(lambda x: x.strip())\n",
    "vacantdf['state'] = vacantdf['state'].map(us_state_abbrev)\n",
    "vacantdf['County'] = vacantdf['County'].map(lambda county: county[:(county.find('County') - 1)] if 'County'\\\n",
    "                                              in county else (county[:(county.find('Municipio') - 1)] if 'Municipio'\\\n",
    "                                                             in county else county))\n",
    "vacantdf['County'] = vacantdf['County'].map(lambda county: county[:county.find(',')] if county.find(',') != -1 else county)\n",
    "vacantdf.drop('county',axis=1,inplace=True)"
   ]
  },
  {
   "cell_type": "code",
   "execution_count": 7,
   "metadata": {},
   "outputs": [
    {
     "name": "stdout",
     "output_type": "stream",
     "text": [
      "<class 'pandas.core.frame.DataFrame'>\n",
      "RangeIndex: 6657 entries, 0 to 6656\n",
      "Data columns (total 8 columns):\n",
      " #   Column                  Non-Null Count  Dtype \n",
      "---  ------                  --------------  ----- \n",
      " 0   Year                    6657 non-null   object\n",
      " 1   County                  6657 non-null   object\n",
      " 2   Total Housing Units     6657 non-null   object\n",
      " 3   Occupied Units          6657 non-null   object\n",
      " 4   Vacant Units            6657 non-null   object\n",
      " 5   Rental Vacancy Rate     6657 non-null   object\n",
      " 6   Homeowner Vacancy Rate  6657 non-null   object\n",
      " 7   state                   6649 non-null   object\n",
      "dtypes: object(8)\n",
      "memory usage: 416.2+ KB\n"
     ]
    }
   ],
   "source": [
    "vacantdf.info()"
   ]
  },
  {
   "cell_type": "markdown",
   "metadata": {},
   "source": [
    "### Rental Vacancy Rate small sample size issue\n",
    "\n",
    "The Rental vacancy rate value for some of the counties is an 'N' which\n",
    "indicates that data for this geographic area cannot be displayed because the number of sample cases is too small\n",
    "so I decided to drop them *(21 rows dropped)*"
   ]
  },
  {
   "cell_type": "code",
   "execution_count": 8,
   "metadata": {},
   "outputs": [],
   "source": [
    "vacantdf = vacantdf[vacantdf['Rental Vacancy Rate'] != 'N']"
   ]
  },
  {
   "cell_type": "markdown",
   "metadata": {},
   "source": [
    "### Changing column data to appropriate Dtype"
   ]
  },
  {
   "cell_type": "code",
   "execution_count": 9,
   "metadata": {
    "scrolled": true
   },
   "outputs": [],
   "source": [
    "vacantdf.loc[:, 'Year'] = vacantdf.loc[:, 'Year'].map(int)\n",
    "vacantdf.loc[:, 'Total Housing Units'] = vacantdf.loc[:, 'Total Housing Units'].map(lambda x: int(x))\n",
    "vacantdf.loc[:, 'Occupied Units'] = vacantdf.loc[:, 'Occupied Units'].map(lambda x: int(x))\n",
    "vacantdf.loc[:, 'Vacant Units'] = vacantdf.loc[:, 'Vacant Units'].map(lambda x: int(x))\n",
    "vacantdf.loc[:, 'Rental Vacancy Rate'] = vacantdf.loc[:, 'Rental Vacancy Rate'].apply(lambda x: float(x))\n",
    "vacantdf.loc[:, 'Homeowner Vacancy Rate'] = vacantdf.loc[:, 'Homeowner Vacancy Rate'].apply(lambda x: float(x))"
   ]
  },
  {
   "cell_type": "code",
   "execution_count": 10,
   "metadata": {},
   "outputs": [
    {
     "name": "stdout",
     "output_type": "stream",
     "text": [
      "<class 'pandas.core.frame.DataFrame'>\n",
      "Int64Index: 6635 entries, 0 to 6656\n",
      "Data columns (total 8 columns):\n",
      " #   Column                  Non-Null Count  Dtype  \n",
      "---  ------                  --------------  -----  \n",
      " 0   Year                    6635 non-null   int64  \n",
      " 1   County                  6635 non-null   object \n",
      " 2   Total Housing Units     6635 non-null   int64  \n",
      " 3   Occupied Units          6635 non-null   int64  \n",
      " 4   Vacant Units            6635 non-null   int64  \n",
      " 5   Rental Vacancy Rate     6635 non-null   float64\n",
      " 6   Homeowner Vacancy Rate  6635 non-null   float64\n",
      " 7   state                   6627 non-null   object \n",
      "dtypes: float64(2), int64(4), object(2)\n",
      "memory usage: 466.5+ KB\n"
     ]
    }
   ],
   "source": [
    "vacantdf.info()"
   ]
  },
  {
   "cell_type": "code",
   "execution_count": 11,
   "metadata": {},
   "outputs": [],
   "source": [
    "new_vacant = vacantdf.loc[:,['Year','County','state','Rental Vacancy Rate']]"
   ]
  },
  {
   "cell_type": "code",
   "execution_count": 13,
   "metadata": {},
   "outputs": [],
   "source": [
    "new_vacant.to_csv('./data/vacancy.csv')"
   ]
  }
 ],
 "metadata": {
  "kernelspec": {
   "display_name": "Python 3",
   "language": "python",
   "name": "python3"
  },
  "language_info": {
   "codemirror_mode": {
    "name": "ipython",
    "version": 3
   },
   "file_extension": ".py",
   "mimetype": "text/x-python",
   "name": "python",
   "nbconvert_exporter": "python",
   "pygments_lexer": "ipython3",
   "version": "3.7.7"
  }
 },
 "nbformat": 4,
 "nbformat_minor": 4
}
